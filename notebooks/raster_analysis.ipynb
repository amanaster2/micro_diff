{
 "cells": [
  {
   "cell_type": "code",
   "execution_count": null,
   "id": "33ed102d-6a5d-47e8-b18d-7c6d22154c98",
   "metadata": {},
   "outputs": [],
   "source": [
    "%load_ext autoreload\n",
    "%autoreload 2"
   ]
  },
  {
   "cell_type": "code",
   "execution_count": null,
   "id": "08be8b4b-d2ca-4ed8-8d05-e779fa210714",
   "metadata": {},
   "outputs": [],
   "source": [
    "from pathlib import Path\n",
    "import gdown\n",
    "import pandas as pd\n",
    "import geopandas as gpd\n",
    "import matplotlib.pyplot as plt\n",
    "import numpy as np\n",
    "import rioxarray as rio\n",
    "import rasterstats\n",
    "from pprint import pprint\n",
    "\n",
    "# import geoprofile\n",
    "import micro\n",
    "import gtsa"
   ]
  },
  {
   "cell_type": "markdown",
   "id": "f296dc7d-49a0-4777-a7a5-e6032cc5c2a3",
   "metadata": {},
   "source": [
    "## Download sample data"
   ]
  },
  {
   "cell_type": "code",
   "execution_count": null,
   "id": "e2d682f2-b28c-4d69-8570-880821233f95",
   "metadata": {},
   "outputs": [],
   "source": [
    "# url = 'https://drive.google.com/drive/u/1/folders/1E1FbgeS2YHqnZOsXpbXTIpWhWT1oDR5N'\n",
    "k13_dem_folder='../data/dems/k13_coreg/'\n",
    "# # gdown.download_folder(url, output=k13_dem_folder, quiet=False, use_cookies=False)\n",
    "\n",
    "# url = 'https://drive.google.com/drive/u/1/folders/1NBJ87RWqVEixA7XuN4uvmtjGJ03JIU56'\n",
    "m14_dem_folder='../data/dems/m14_coreg/'\n",
    "# gdown.download_folder(url, output=m14_dem_folder, quiet=False, use_cookies=False)"
   ]
  },
  {
   "cell_type": "code",
   "execution_count": null,
   "id": "5a37a38f-7557-4d25-b22d-c904456ee21a",
   "metadata": {},
   "outputs": [],
   "source": [
    "!tree ../data/dems"
   ]
  },
  {
   "cell_type": "code",
   "execution_count": null,
   "id": "899472de-2441-490c-9979-de0aa157a358",
   "metadata": {},
   "outputs": [],
   "source": [
    "k13_wsyr1_dem_files = sorted(Path(k13_dem_folder).glob('KID-13/wsyr1/*.tif'))\n",
    "k13_wsyr1_dem_files = [i.as_posix() for i in k13_wsyr1_dem_files]\n",
    "\n",
    "k13_dsyr1_dem_files = sorted(Path(k13_dem_folder).glob('KID-13/dsyr1/*.tif'))\n",
    "k13_dsyr1_dem_files = [i.as_posix() for i in k13_dsyr1_dem_files]\n",
    "\n",
    "k13_wsyr2_dem_files = sorted(Path(k13_dem_folder).glob('KID-13/wsyr2/*.tif'))\n",
    "k13_wsyr2_dem_files = [i.as_posix() for i in k13_wsyr2_dem_files]\n",
    "\n",
    "m14_wsyr1_dem_files = sorted(Path(m14_dem_folder).glob('MEL-14/wsyr1/*.tif'))\n",
    "m14_wsyr1_dem_files = [i.as_posix() for i in m14_wsyr1_dem_files]\n",
    "\n",
    "m14_dsyr1_dem_files = sorted(Path(m14_dem_folder).glob('MEL-14/dsyr1/*.tif'))\n",
    "m14_dsyr1_dem_files = [i.as_posix() for i in m14_dsyr1_dem_files]\n",
    "\n",
    "m14_wsyr2_dem_files = sorted(Path(m14_dem_folder).glob('MEL-14/wsyr2/*.tif'))\n",
    "m14_wsyr2_dem_files = [i.as_posix() for i in m14_wsyr2_dem_files]"
   ]
  },
  {
   "cell_type": "code",
   "execution_count": null,
   "id": "6bb0915d-d2b2-4935-b48b-ac2025999286",
   "metadata": {},
   "outputs": [],
   "source": [
    "k13_wsyr1_dem_files, k13_dsyr1_dem_files, k13_wsyr2_dem_files, \\\n",
    "m14_wsyr1_dem_files, m14_dsyr1_dem_files, m14_wsyr2_dem_files"
   ]
  },
  {
   "cell_type": "markdown",
   "id": "9843d07d-0575-4b89-b52f-459eaeadf4fa",
   "metadata": {},
   "source": [
    "## Select analysis ready data\n",
    "- Assuming SfM and lidar collected on the same date are only used for validation of the SfM data\n",
    "- Assuming the lidar is always \"better\" and will thus be used for the quantitative measurements and time series analysis"
   ]
  },
  {
   "cell_type": "code",
   "execution_count": null,
   "id": "164db0d8-ea78-4ac1-a924-0d38f8a600fe",
   "metadata": {},
   "outputs": [],
   "source": [
    "# KID-13\n",
    "dsm_files_k13_wsyr1 = ['../data/dems/k13_coreg/KID-13/wsyr1/k13_20201109_lidar_coreg.tif',\n",
    "  '../data/dems/k13_coreg/KID-13/wsyr1/k13_20201110_sfm_coreg.tif',\n",
    "  '../data/dems/k13_coreg/KID-13/wsyr1/k13_20210208_sfm_coreg.tif',\n",
    "  '../data/dems/k13_coreg/KID-13/wsyr1/k13_20210406_sfm_coreg.tif',\n",
    "  '../data/dems/k13_coreg/KID-13/wsyr1/k13_20210513_sfm_coreg.tif']\n",
    "\n",
    "dsm_files_k13_dsyr1 = ['../data/dems/k13_coreg/KID-13/dsyr1/k13_20210604_lidar_coreg.tif',\n",
    "  '../data/dems/k13_coreg/KID-13/dsyr1/k13_20210605_sfm_coreg.tif',\n",
    "  '../data/dems/k13_coreg/KID-13/dsyr1/k13_20210819_sfm_coreg.tif',\n",
    "  '../data/dems/k13_coreg/KID-13/dsyr1/k13_20210913_sfm_coreg.tif']\n",
    "\n",
    "dsm_files_k13_wsyr2 = ['../data/dems/k13_coreg/KID-13/wsyr2/k13_20211007_lidar_coreg.tif',\n",
    "  '../data/dems/k13_coreg/KID-13/wsyr2/k13_20211008_sfm_coreg.tif',\n",
    "  '../data/dems/k13_coreg/KID-13/wsyr2/k13_20220208_sfm_coreg.tif',\n",
    "  '../data/dems/k13_coreg/KID-13/wsyr2/k13_20220503_sfm_coreg.tif',\n",
    "  '../data/dems/k13_coreg/KID-13/wsyr2/k13_20220531_sfm_coreg.tif']\n",
    "\n",
    "\n",
    "# MEL-14\n",
    "dsm_files_m14_wsyr1 = ['../data/dems/m14_coreg/MEL-14/wsyr1/m14_20201203_lidar_coreg.tif',\n",
    "  '../data/dems/m14_coreg/MEL-14/wsyr1/m14_20201204_sfm_coreg.tif',\n",
    "  '../data/dems/m14_coreg/MEL-14/wsyr1/m14_20210224_sfm_coreg.tif']\n",
    "\n",
    "dsm_files_m14_dsyr1 = ['../data/dems/m14_coreg/MEL-14/dsyr1/m14_20210603_lidar_coreg.tif',\n",
    "  '../data/dems/m14_coreg/MEL-14/dsyr1/m14_20210604_sfm_coreg.tif',\n",
    "  '../data/dems/m14_coreg/MEL-14/dsyr1/m14_20210914_sfm_coreg.tif']\n",
    "\n",
    "dsm_files_m14_wsyr2 = ['../data/dems/m14_coreg/MEL-14/wsyr2/m14_20220309_lidar_coreg.tif',\n",
    "  '../data/dems/m14_coreg/MEL-14/wsyr2/m14_20220310_sfm_coreg.tif',\n",
    "  '../data/dems/m14_coreg/MEL-14/wsyr2/m14_20220316_sfm_coreg.tif',\n",
    "  '../data/dems/m14_coreg/MEL-14/wsyr2/m14_20220324_sfm_coreg.tif',\n",
    "  '../data/dems/m14_coreg/MEL-14/wsyr2/m14_20220411_sfm_coreg.tif',\n",
    "  '../data/dems/m14_coreg/MEL-14/wsyr2/m14_20220428_sfm_coreg.tif',\n",
    "  '../data/dems/m14_coreg/MEL-14/wsyr2/m14_20220601_sfm_coreg.tif']"
   ]
  },
  {
   "cell_type": "markdown",
   "id": "56d26543-bd18-4da3-b543-d9117699e240",
   "metadata": {},
   "source": [
    "## Parse time stamps"
   ]
  },
  {
   "cell_type": "markdown",
   "id": "4a0495cf",
   "metadata": {},
   "source": [
    "#### KID-13 WSYR1"
   ]
  },
  {
   "cell_type": "code",
   "execution_count": null,
   "id": "417dd63c",
   "metadata": {},
   "outputs": [],
   "source": [
    "strings_k13_wsyr1 = gtsa.io.parse_timestamps(dsm_files_k13_wsyr1, date_string_pattern='_........_')\n",
    "date_strings_k13_wsyr1 = [x[1:-1] for x in strings_k13_wsyr1]\n",
    "\n",
    "# ensure chronological sorting\n",
    "date_strings_k13_wsyr1, dsm_files_k13_wsyr1 = list(zip(*sorted(zip(date_strings_k13_wsyr1, dsm_files_k13_wsyr1))))\n",
    "date_times_k13_wsyr1 = [pd.to_datetime(x, format='%Y%m%d') for x in date_strings_k13_wsyr1]\n",
    "\n",
    "list(zip(date_strings_k13_wsyr1, dsm_files_k13_wsyr1))"
   ]
  },
  {
   "cell_type": "markdown",
   "id": "a800117c",
   "metadata": {},
   "source": [
    "#### KID-13 DSYR1"
   ]
  },
  {
   "cell_type": "code",
   "execution_count": null,
   "id": "b61f2a1c",
   "metadata": {},
   "outputs": [],
   "source": [
    "strings_k13_dsyr1 = gtsa.io.parse_timestamps(dsm_files_k13_dsyr1, date_string_pattern='_........_')\n",
    "date_strings_k13_dsyr1 = [x[1:-1] for x in strings_k13_dsyr1]\n",
    "\n",
    "# ensure chronological sorting\n",
    "date_strings_k13_dsyr1, dsm_files_k13_dsyr1 = list(zip(*sorted(zip(date_strings_k13_dsyr1, dsm_files_k13_dsyr1))))\n",
    "date_times_k13_dsyr1 = [pd.to_datetime(x, format='%Y%m%d') for x in date_strings_k13_dsyr1]\n",
    "\n",
    "list(zip(date_strings_k13_dsyr1, dsm_files_k13_dsyr1))"
   ]
  },
  {
   "cell_type": "markdown",
   "id": "7dbd1dc5",
   "metadata": {},
   "source": [
    "#### KID-13 WSYR2"
   ]
  },
  {
   "cell_type": "code",
   "execution_count": null,
   "id": "01b1fc60-cfc2-4635-946c-d5e4fa0a8654",
   "metadata": {},
   "outputs": [],
   "source": [
    "strings_k13_wsyr2 = gtsa.io.parse_timestamps(dsm_files_k13_wsyr2, date_string_pattern='_........_')\n",
    "date_strings_k13_wsyr2 = [x[1:-1] for x in strings_k13_wsyr2]\n",
    "\n",
    "# ensure chronological sorting\n",
    "date_strings_k13_wsyr2, dsm_files_k13_wsyr2 = list(zip(*sorted(zip(date_strings_k13_wsyr2, dsm_files_k13_wsyr2))))\n",
    "date_times_k13_wsyr2 = [pd.to_datetime(x, format='%Y%m%d') for x in date_strings_k13_wsyr2]\n",
    "\n",
    "list(zip(date_strings_k13_wsyr2, dsm_files_k13_wsyr2))"
   ]
  },
  {
   "cell_type": "markdown",
   "id": "f3a165aa-f21d-4a88-971f-ea20508036d6",
   "metadata": {},
   "source": [
    "#### MEL-14 WSYR1"
   ]
  },
  {
   "cell_type": "code",
   "execution_count": null,
   "id": "f25be1db",
   "metadata": {},
   "outputs": [],
   "source": [
    "strings_m14_wsyr1 = gtsa.io.parse_timestamps(dsm_files_m14_wsyr1, date_string_pattern='_........_')\n",
    "date_strings_m14_wsyr1 = [x[1:-1] for x in strings_m14_wsyr1]\n",
    "\n",
    "# ensure chronological sorting\n",
    "date_strings_m14_wsyr1, dsm_files_m14_wsyr1 = list(zip(*sorted(zip(date_strings_m14_wsyr1, dsm_files_m14_wsyr1))))\n",
    "date_times_m14_wsyr1 = [pd.to_datetime(x, format='%Y%m%d') for x in date_strings_m14_wsyr1]\n",
    "\n",
    "list(zip(date_strings_m14_wsyr1, dsm_files_m14_wsyr1))"
   ]
  },
  {
   "cell_type": "markdown",
   "id": "45edf6be",
   "metadata": {},
   "source": [
    "#### MEL-14 DSYR1"
   ]
  },
  {
   "cell_type": "code",
   "execution_count": null,
   "id": "075f0e2d",
   "metadata": {},
   "outputs": [],
   "source": [
    "strings_m14_dsyr1 = gtsa.io.parse_timestamps(dsm_files_m14_dsyr1, date_string_pattern='_........_')\n",
    "date_strings_m14_dsyr1 = [x[1:-1] for x in strings_m14_dsyr1]\n",
    "\n",
    "# ensure chronological sorting\n",
    "date_strings_m14_dsyr1, dsm_files_m14_dsyr1 = list(zip(*sorted(zip(date_strings_m14_dsyr1, dsm_files_m14_dsyr1))))\n",
    "date_times_m14_dsyr1 = [pd.to_datetime(x, format='%Y%m%d') for x in date_strings_m14_dsyr1]\n",
    "\n",
    "list(zip(date_strings_m14_dsyr1, dsm_files_m14_dsyr1))"
   ]
  },
  {
   "cell_type": "markdown",
   "id": "87ff1364",
   "metadata": {},
   "source": [
    "#### MEL-14 WSYR2"
   ]
  },
  {
   "cell_type": "code",
   "execution_count": null,
   "id": "38bc997d",
   "metadata": {},
   "outputs": [],
   "source": [
    "strings_m14_wsyr2 = gtsa.io.parse_timestamps(dsm_files_m14_wsyr2, date_string_pattern='_........_')\n",
    "date_strings_m14_wsyr2 = [x[1:-1] for x in strings_m14_wsyr2]\n",
    "\n",
    "# ensure chronological sorting\n",
    "date_strings_m14_wsyr2, dsm_files_m14_wsyr2 = list(zip(*sorted(zip(date_strings_m14_wsyr2, dsm_files_m14_wsyr2))))\n",
    "date_times_m14_wsyr2 = [pd.to_datetime(x, format='%Y%m%d') for x in date_strings_m14_wsyr2]\n",
    "\n",
    "list(zip(date_strings_m14_wsyr2, dsm_files_m14_wsyr2))"
   ]
  },
  {
   "cell_type": "markdown",
   "id": "ff8f29b3",
   "metadata": {},
   "source": [
    "### Shapefiles for road clip"
   ]
  },
  {
   "cell_type": "code",
   "execution_count": null,
   "id": "fc92a767",
   "metadata": {},
   "outputs": [],
   "source": [
    "k13_mask_path = '../data/vectors/kid_mask/roadClip/KID13_roadClip.shp'\n",
    "m14_mask_path = '../data/vectors/mel_mask/roadClip/MEL14_roadClip.shp'\n",
    "\n",
    "# grab shapefile crs to write to rasters\n",
    "k13_crs = gpd.read_file(k13_mask_path).crs\n",
    "k13_mask_gdf = gpd.read_file(k13_mask_path)\n",
    "\n",
    "m14_crs = gpd.read_file(m14_mask_path).crs\n",
    "m14_mask_gdf = gpd.read_file(m14_mask_path)"
   ]
  },
  {
   "cell_type": "markdown",
   "id": "5d35b92f-d52a-4817-8857-57f9aa74c0ef",
   "metadata": {},
   "source": [
    "## Create stacks\n",
    "- resample to reference DEM grid and save as netcdf"
   ]
  },
  {
   "cell_type": "code",
   "execution_count": null,
   "id": "4cce6626-0a97-4d0d-a84b-0b40eb5e7937",
   "metadata": {},
   "outputs": [],
   "source": [
    "reference_dem_k13_wsyr1 = dsm_files_k13_wsyr1[0]\n",
    "\n",
    "ds_k13_wsyr1 = gtsa.io.xr_stack_geotifs(\n",
    "    dsm_files_k13_wsyr1,\n",
    "    date_times_k13_wsyr1,\n",
    "    reference_dem_k13_wsyr1,\n",
    "    resampling='cubic',\n",
    "    save_to_nc=True,\n",
    "    overwrite=True,\n",
    "    cleanup=False,\n",
    "    verbose=True,\n",
    ")\n",
    "\n",
    "ds_k13_wsyr1 = ds_k13_wsyr1.rio.clip(k13_mask_gdf[\"geometry\"])"
   ]
  },
  {
   "cell_type": "code",
   "execution_count": null,
   "id": "6685180c",
   "metadata": {},
   "outputs": [],
   "source": [
    "reference_dem_k13_dsyr1 = dsm_files_k13_dsyr1[0]\n",
    "\n",
    "ds_k13_dsyr1 = gtsa.io.xr_stack_geotifs(\n",
    "    dsm_files_k13_dsyr1,\n",
    "    date_times_k13_dsyr1,\n",
    "    reference_dem_k13_dsyr1,\n",
    "    resampling='cubic',\n",
    "    save_to_nc=True,\n",
    "    overwrite=True,\n",
    "    cleanup=False,\n",
    "    verbose=True,\n",
    ")\n",
    "\n",
    "ds_k13_dsyr1 = ds_k13_dsyr1.rio.clip(k13_mask_gdf[\"geometry\"])"
   ]
  },
  {
   "cell_type": "code",
   "execution_count": null,
   "id": "9726b205",
   "metadata": {},
   "outputs": [],
   "source": [
    "reference_dem_k13_wsyr2 = dsm_files_k13_wsyr2[0]\n",
    "\n",
    "ds_k13_wsyr2 = gtsa.io.xr_stack_geotifs(\n",
    "    dsm_files_k13_wsyr2,\n",
    "    date_times_k13_wsyr2,\n",
    "    reference_dem_k13_wsyr2,\n",
    "    resampling='cubic',\n",
    "    save_to_nc=True,\n",
    "    overwrite=True,\n",
    "    cleanup=False,\n",
    "    verbose=True,\n",
    ")\n",
    "\n",
    "ds_k13_wsyr2 = ds_k13_wsyr2.rio.clip(k13_mask_gdf[\"geometry\"])"
   ]
  },
  {
   "cell_type": "code",
   "execution_count": null,
   "id": "f8a57637",
   "metadata": {},
   "outputs": [],
   "source": [
    "reference_dem_m14_wsyr1 = dsm_files_m14_wsyr1[0]\n",
    "\n",
    "ds_m14_wsyr1 = gtsa.io.xr_stack_geotifs(\n",
    "    dsm_files_m14_wsyr1,\n",
    "    date_times_m14_wsyr1,\n",
    "    reference_dem_m14_wsyr1,\n",
    "    resampling='cubic',\n",
    "    save_to_nc=True,\n",
    "    overwrite=True,\n",
    "    cleanup=False,\n",
    "    verbose=True,\n",
    ")\n",
    "\n",
    "ds_m14_wsyr1 = ds_m14_wsyr1.rio.clip(m14_mask_gdf[\"geometry\"])"
   ]
  },
  {
   "cell_type": "code",
   "execution_count": null,
   "id": "56262065",
   "metadata": {},
   "outputs": [],
   "source": [
    "reference_dem_m14_dsyr1 = dsm_files_m14_dsyr1[0]\n",
    "\n",
    "ds_m14_dsyr1 = gtsa.io.xr_stack_geotifs(\n",
    "    dsm_files_m14_dsyr1,\n",
    "    date_times_m14_dsyr1,\n",
    "    reference_dem_m14_dsyr1,\n",
    "    resampling='cubic',\n",
    "    save_to_nc=True,\n",
    "    overwrite=True,\n",
    "    cleanup=False,\n",
    "    verbose=True,\n",
    ")\n",
    "\n",
    "ds_m14_dsyr1 = ds_m14_dsyr1.rio.clip(m14_mask_gdf[\"geometry\"])"
   ]
  },
  {
   "cell_type": "code",
   "execution_count": null,
   "id": "52c23ee2",
   "metadata": {},
   "outputs": [],
   "source": [
    "reference_dem_m14_wsyr2 = dsm_files_m14_wsyr2[0]\n",
    "\n",
    "ds_m14_wsyr2 = gtsa.io.xr_stack_geotifs(\n",
    "    dsm_files_m14_wsyr2,\n",
    "    date_times_m14_wsyr2,\n",
    "    reference_dem_m14_wsyr2,\n",
    "    resampling='cubic',\n",
    "    save_to_nc=True,\n",
    "    overwrite=True,\n",
    "    cleanup=False,\n",
    "    verbose=True,\n",
    ")\n",
    "\n",
    "ds_m14_wsyr2 = ds_m14_wsyr2.rio.clip(m14_mask_gdf[\"geometry\"])"
   ]
  },
  {
   "cell_type": "markdown",
   "id": "cf600eb9",
   "metadata": {},
   "source": [
    "## Ensure `nodata` values are correct"
   ]
  },
  {
   "cell_type": "code",
   "execution_count": null,
   "id": "72cb2217",
   "metadata": {},
   "outputs": [],
   "source": [
    "# nd = np.nanmax(ds['band1'].isel(time=2).values)\n",
    "# nd = np.nanmin(ds['band1'].isel(time=2).values)\n",
    "# # ds_nodata = ds_nodata.where(ds_nodata!=nd)\n",
    "\n",
    "# print(f\"nodata: {ds_m14_wsyr2['band1'].rio.nodata}\")\n",
    "# print(f\"encoded_nodata: {ds_m14_wsyr2['band1'].rio.encoded_nodata}\")"
   ]
  },
  {
   "cell_type": "code",
   "execution_count": null,
   "id": "8b7f4063",
   "metadata": {},
   "outputs": [],
   "source": [
    "# ds['band1'].rio.write_nodata(-9999, encoded=False, inplace=True)\n",
    "\n",
    "\n",
    "# print(f\"nodata: {ds['band1'].rio.nodata}\")\n",
    "# print(f\"encoded_nodata: {ds['band1'].rio.encoded_nodata}\")"
   ]
  },
  {
   "cell_type": "markdown",
   "id": "b3743fce",
   "metadata": {},
   "source": [
    "## Save rasters for further analysis"
   ]
  },
  {
   "cell_type": "code",
   "execution_count": null,
   "id": "be34143d",
   "metadata": {},
   "outputs": [],
   "source": [
    "# for i in ds_k13_wsyr1.data_vars:\n",
    "#                 try:\n",
    "#                     del ds_k13_wsyr1[i].attrs[\"grid_mapping\"]\n",
    "#                 except:\n",
    "#                     pass\n",
    "\n",
    "# ds_k13_wsyr1.isel(time=0).rio.to_raster('../../ll_micro/k13/wsyr1/k13_20201109_lidar_coreg.tif')\n",
    "# ds_k13_wsyr1.isel(time=1).rio.to_raster('../../ll_micro/k13/wsyr1/k13_20201109_sfm_coreg.tif')\n",
    "# ds_k13_wsyr1.isel(time=2).rio.to_raster('../../ll_micro/k13/wsyr1/k13_20210208_sfm_coreg.tif')\n",
    "# ds_k13_wsyr1.isel(time=3).rio.to_raster('../../ll_micro/k13/wsyr1/k13_20210406_sfm_coreg.tif')\n",
    "# ds_k13_wsyr1.isel(time=4).rio.to_raster('../../ll_micro/k13/wsyr1/k13_20210513_sfm_coreg.tif')"
   ]
  },
  {
   "cell_type": "code",
   "execution_count": null,
   "id": "dab024b0",
   "metadata": {},
   "outputs": [],
   "source": [
    "# for i in ds_k13_dsyr1.data_vars:\n",
    "#                 try:\n",
    "#                     del ds_k13_dsyr1[i].attrs[\"grid_mapping\"]\n",
    "#                 except:\n",
    "#                     pass\n",
    "\n",
    "# ds_k13_dsyr1.isel(time=0).rio.to_raster('../../ll_micro/k13/dsyr1/k13_20210604_lidar_coreg.tif')\n",
    "# ds_k13_dsyr1.isel(time=1).rio.to_raster('../../ll_micro/k13/dsyr1/k13_20210604_sfm_coreg.tif')\n",
    "# ds_k13_dsyr1.isel(time=2).rio.to_raster('../../ll_micro/k13/dsyr1/k13_20210819_sfm_coreg.tif')\n",
    "# ds_k13_dsyr1.isel(time=3).rio.to_raster('../../ll_micro/k13/dsyr1/k13_20210913_sfm_coreg.tif')"
   ]
  },
  {
   "cell_type": "code",
   "execution_count": null,
   "id": "b6a41d63",
   "metadata": {},
   "outputs": [],
   "source": [
    "# for i in ds_k13_wsyr2.data_vars:\n",
    "#                 try:\n",
    "#                     del ds_k13_wsyr2[i].attrs[\"grid_mapping\"]\n",
    "#                 except:\n",
    "#                     pass\n",
    "\n",
    "# ds_k13_wsyr2.isel(time=0).rio.to_raster('../../ll_micro/k13/wsyr2/k13_20211007_lidar_coreg.tif')\n",
    "# ds_k13_wsyr2.isel(time=1).rio.to_raster('../../ll_micro/k13/wsyr2/k13_20211007_sfm_coreg.tif')\n",
    "# ds_k13_wsyr2.isel(time=2).rio.to_raster('../../ll_micro/k13/wsyr2/k13_20220208_sfm_coreg.tif')\n",
    "# ds_k13_wsyr2.isel(time=3).rio.to_raster('../../ll_micro/k13/wsyr2/k13_20220503_sfm_coreg.tif')\n",
    "# ds_k13_wsyr2.isel(time=4).rio.to_raster('../../ll_micro/k13/wsyr2/k13_20220531_sfm_coreg.tif')"
   ]
  },
  {
   "cell_type": "code",
   "execution_count": null,
   "id": "06b3edbb",
   "metadata": {},
   "outputs": [],
   "source": [
    "# for i in ds_m14_wsyr1.data_vars:\n",
    "#                 try:\n",
    "#                     del ds_m14_wsyr1[i].attrs[\"grid_mapping\"]\n",
    "#                 except:\n",
    "#                     pass\n",
    "\n",
    "# ds_m14_wsyr1.isel(time=0).rio.to_raster('../../ll_micro/m14/wsyr1/m14_20201203_lidar_coreg.tif')\n",
    "# ds_m14_wsyr1.isel(time=1).rio.to_raster('../../ll_micro/m14/wsyr1/m14_20201203_sfm_coreg.tif')\n",
    "# ds_m14_wsyr1.isel(time=2).rio.to_raster('../../ll_micro/m14/wsyr1/m14_20210224_sfm_coreg.tif')"
   ]
  },
  {
   "cell_type": "code",
   "execution_count": null,
   "id": "cc4f7d04",
   "metadata": {},
   "outputs": [],
   "source": [
    "# for i in ds_m14_dsyr1.data_vars:\n",
    "#                 try:\n",
    "#                     del ds_m14_dsyr1[i].attrs[\"grid_mapping\"]\n",
    "#                 except:\n",
    "#                     pass\n",
    "\n",
    "# ds_m14_dsyr1.isel(time=0).rio.to_raster('../../ll_micro/m14/dsyr1/m14_20210603_lidar_coreg.tif')\n",
    "# ds_m14_dsyr1.isel(time=1).rio.to_raster('../../ll_micro/m14/dsyr1/m14_20210603_sfm_coreg.tif')\n",
    "# ds_m14_dsyr1.isel(time=2).rio.to_raster('../../ll_micro/m14/dsyr1/m14_20210914_sfm_coreg.tif')"
   ]
  },
  {
   "cell_type": "code",
   "execution_count": null,
   "id": "bfe70905",
   "metadata": {},
   "outputs": [],
   "source": [
    "# for i in ds_m14_wsyr2.data_vars:\n",
    "#                 try:\n",
    "#                     del ds_m14_wsyr2[i].attrs[\"grid_mapping\"]\n",
    "#                 except:\n",
    "#                     pass\n",
    "\n",
    "# ds_m14_wsyr2.isel(time=0).rio.to_raster('../../ll_micro/m14/wsyr2/m14_20220309_lidar_coreg.tif')\n",
    "# ds_m14_wsyr2.isel(time=1).rio.to_raster('../../ll_micro/m14/wsyr2/m14_20220309_sfm_coreg.tif')\n",
    "# ds_m14_wsyr2.isel(time=2).rio.to_raster('../../ll_micro/m14/wsyr2/m14_20220316_sfm_coreg.tif')\n",
    "# ds_m14_wsyr2.isel(time=3).rio.to_raster('../../ll_micro/m14/wsyr2/m14_20220324_sfm_coreg.tif')\n",
    "# ds_m14_wsyr2.isel(time=4).rio.to_raster('../../ll_micro/m14/wsyr2/m14_20220411_sfm_coreg.tif')\n",
    "# ds_m14_wsyr2.isel(time=5).rio.to_raster('../../ll_micro/m14/wsyr2/m14_20220428_sfm_coreg.tif')\n",
    "# ds_m14_wsyr2.isel(time=6).rio.to_raster('../../ll_micro/m14/wsyr2/m14_20220601_sfm_coreg.tif')"
   ]
  },
  {
   "cell_type": "markdown",
   "id": "977735a2-7356-481f-8365-e5ae1a2ebe4f",
   "metadata": {},
   "source": [
    "## Plot first time stamp"
   ]
  },
  {
   "cell_type": "code",
   "execution_count": null,
   "id": "be524b5c-c8d4-43fe-b6da-cfda0e34819d",
   "metadata": {},
   "outputs": [],
   "source": [
    "# ds_k13_wsyr1['band1'].isel(time=0).plot(aspect='equal', size=5)\n",
    "# plt.show();\n",
    "\n",
    "# ds_k13_dsyr1['band1'].isel(time=0).plot(aspect='equal', size=5)\n",
    "# plt.show();\n",
    "\n",
    "# ds_k13_wsyr2['band1'].isel(time=0).plot(aspect='equal', size=5)\n",
    "# plt.show();\n",
    "\n",
    "# ds_m14_wsyr1['band1'].isel(time=0).plot(aspect='equal', size=5)\n",
    "# plt.show();\n",
    "\n",
    "# ds_m14_dsyr1['band1'].isel(time=0).plot(aspect='equal', size=5)\n",
    "# plt.show();\n",
    "\n",
    "# ds_m14_wsyr2['band1'].isel(time=0).plot(aspect='equal', size=5)\n",
    "# plt.show();"
   ]
  },
  {
   "cell_type": "markdown",
   "id": "cd83f732-e215-4fdf-baa8-b9646e9923cf",
   "metadata": {},
   "source": [
    "## Compute differences for stack"
   ]
  },
  {
   "cell_type": "code",
   "execution_count": null,
   "id": "e71fa74a",
   "metadata": {},
   "outputs": [],
   "source": [
    "ds_diff_k13_wsyr1_lidar = ds_k13_wsyr1['band1']- ds_k13_wsyr1['band1'].isel(time=0)\n",
    "ds_diff_k13_wsyr1_sfm = ds_k13_wsyr1['band1']- ds_k13_wsyr1['band1'].isel(time=1)\n",
    "\n",
    "ds_diff_k13_dsyr1_lidar = ds_k13_dsyr1['band1']- ds_k13_dsyr1['band1'].isel(time=0)\n",
    "ds_diff_k13_dsyr1_sfm = ds_k13_dsyr1['band1']- ds_k13_dsyr1['band1'].isel(time=1)\n",
    "\n",
    "ds_diff_k13_wsyr2_lidar = ds_k13_wsyr2['band1']- ds_k13_wsyr2['band1'].isel(time=0)\n",
    "ds_diff_k13_wsyr2_sfm = ds_k13_wsyr2['band1']- ds_k13_wsyr2['band1'].isel(time=1)\n",
    "\n",
    "ds_diff_m14_wsyr1_lidar = ds_m14_wsyr1['band1']- ds_m14_wsyr1['band1'].isel(time=0)\n",
    "ds_diff_m14_wsyr1_sfm = ds_m14_wsyr1['band1']- ds_m14_wsyr1['band1'].isel(time=1)\n",
    "\n",
    "ds_diff_m14_dsyr1_lidar = ds_m14_dsyr1['band1']- ds_m14_dsyr1['band1'].isel(time=0)\n",
    "ds_diff_m14_dsyr1_sfm = ds_m14_dsyr1['band1']- ds_m14_dsyr1['band1'].isel(time=1)\n",
    "\n",
    "ds_diff_m14_wsyr2_lidar = ds_m14_wsyr2['band1']- ds_m14_wsyr2['band1'].isel(time=0)\n",
    "ds_diff_m14_wsyr2_sfm = ds_m14_wsyr2['band1']- ds_m14_wsyr2['band1'].isel(time=1)"
   ]
  },
  {
   "cell_type": "code",
   "execution_count": null,
   "id": "6b99011b",
   "metadata": {},
   "outputs": [],
   "source": [
    "# ds_diff_k13_wsyr1_lidar.isel(time=1).plot(vmin=-0.05, vmax=0.05, cmap='RdBu')\n",
    "# plt.show();\n",
    "# ds_diff_k13_wsyr1_sfm.isel(time=0).plot(vmin=-0.05, vmax=0.05, cmap='RdBu')\n",
    "# plt.show();\n",
    "\n",
    "# ds_diff_k13_dsyr1_lidar.isel(time=1).plot(vmin=-0.05, vmax=0.05, cmap='RdBu')\n",
    "# plt.show();\n",
    "# ds_diff_k13_dsyr1_sfm.isel(time=0).plot(vmin=-0.05, vmax=0.05, cmap='RdBu')\n",
    "# plt.show();\n",
    "\n",
    "# ds_diff_k13_wsyr2_lidar.isel(time=1).plot(vmin=-0.05, vmax=0.05, cmap='RdBu')\n",
    "# plt.show();\n",
    "# ds_diff_k13_wsyr2_sfm.isel(time=0).plot(vmin=-0.05, vmax=0.05, cmap='RdBu')\n",
    "# plt.show();\n",
    "\n",
    "# ds_diff_m14_wsyr1_lidar.isel(time=1).plot(vmin=-0.05, vmax=0.05, cmap='RdBu')\n",
    "# plt.show();\n",
    "# ds_diff_m14_wsyr1_sfm.isel(time=0).plot(vmin=-0.05, vmax=0.05, cmap='RdBu')\n",
    "# plt.show();\n",
    "\n",
    "# ds_diff_m14_dsyr1_lidar.isel(time=1).plot(vmin=-0.05, vmax=0.05, cmap='RdBu')\n",
    "# plt.show();\n",
    "# ds_diff_m14_dsyr1_sfm.isel(time=0).plot(vmin=-0.05, vmax=0.05, cmap='RdBu')\n",
    "# plt.show();\n",
    "\n",
    "# ds_diff_m14_wsyr2_lidar.isel(time=1).plot(vmin=-0.05, vmax=0.05, cmap='RdBu')\n",
    "# plt.show();\n",
    "# ds_diff_m14_wsyr2_sfm.isel(time=0).plot(vmin=-0.05, vmax=0.05, cmap='RdBu')\n",
    "# plt.show();"
   ]
  },
  {
   "cell_type": "markdown",
   "id": "20337ddf",
   "metadata": {},
   "source": [
    "## Apply HPGF to stacked dataset"
   ]
  },
  {
   "cell_type": "code",
   "execution_count": null,
   "id": "d71e07ae-dc93-4c7a-8a7b-b6647375d9cf",
   "metadata": {},
   "outputs": [],
   "source": [
    "sigma = 50\n",
    "for i in range(0,5):\n",
    "    globals()[f'ds_diff_smooth{i}_k13_wsyr1_lidar'], size = micro.hpgf.gauss_fltr_astropy_fft(ds_diff_k13_wsyr1_lidar.isel(time=i).values, sigma = sigma, origmask=True)\n",
    "    globals()[f'ds_diff_smooth{i}_k13_wsyr1_sfm'], size = micro.hpgf.gauss_fltr_astropy_fft(ds_diff_k13_wsyr1_sfm.isel(time=i).values, sigma = sigma, origmask=True)\n",
    "\n",
    "ds_diff_k13_wsyr1_lidar = ds_diff_k13_wsyr1_lidar - [ds_diff_smooth0_k13_wsyr1_lidar, \\\n",
    "    ds_diff_smooth1_k13_wsyr1_lidar, ds_diff_smooth2_k13_wsyr1_lidar,\\\n",
    "    ds_diff_smooth3_k13_wsyr1_lidar, ds_diff_smooth4_k13_wsyr1_lidar]\n",
    "\n",
    "ds_diff_k13_wsyr1_sfm = ds_diff_k13_wsyr1_sfm - [ds_diff_smooth0_k13_wsyr1_sfm, \\\n",
    "    ds_diff_smooth1_k13_wsyr1_sfm, ds_diff_smooth2_k13_wsyr1_sfm,\\\n",
    "    ds_diff_smooth3_k13_wsyr1_sfm, ds_diff_smooth4_k13_wsyr1_sfm]"
   ]
  },
  {
   "cell_type": "code",
   "execution_count": null,
   "id": "37caad2f",
   "metadata": {},
   "outputs": [],
   "source": [
    "for i in range(0,4):\n",
    "    globals()[f'ds_diff_smooth{i}_k13_dsyr1_lidar'], size = micro.hpgf.gauss_fltr_astropy_fft(ds_diff_k13_dsyr1_lidar.isel(time=i).values, sigma = sigma, origmask=True)\n",
    "    globals()[f'ds_diff_smooth{i}_k13_dsyr1_sfm'], size = micro.hpgf.gauss_fltr_astropy_fft(ds_diff_k13_dsyr1_sfm.isel(time=i).values, sigma = sigma, origmask=True)\n",
    "\n",
    "ds_diff_k13_dsyr1_lidar = ds_diff_k13_dsyr1_lidar - [ds_diff_smooth0_k13_dsyr1_lidar, \\\n",
    "    ds_diff_smooth1_k13_dsyr1_lidar, ds_diff_smooth2_k13_dsyr1_lidar,\\\n",
    "    ds_diff_smooth3_k13_dsyr1_lidar]\n",
    "\n",
    "ds_diff_k13_dsyr1_sfm = ds_diff_k13_dsyr1_sfm - [ds_diff_smooth0_k13_dsyr1_sfm, \\\n",
    "    ds_diff_smooth1_k13_dsyr1_sfm, ds_diff_smooth2_k13_dsyr1_sfm,\\\n",
    "    ds_diff_smooth3_k13_dsyr1_sfm]"
   ]
  },
  {
   "cell_type": "code",
   "execution_count": null,
   "id": "d7456ce1",
   "metadata": {},
   "outputs": [],
   "source": [
    "for i in range(0,5):\n",
    "    globals()[f'ds_diff_smooth{i}_k13_wsyr2_lidar'], size = micro.hpgf.gauss_fltr_astropy_fft(ds_diff_k13_wsyr2_lidar.isel(time=i).values, sigma = sigma, origmask=True)\n",
    "    globals()[f'ds_diff_smooth{i}_k13_wsyr2_sfm'], size = micro.hpgf.gauss_fltr_astropy_fft(ds_diff_k13_wsyr2_sfm.isel(time=i).values, sigma = sigma, origmask=True)\n",
    "\n",
    "ds_diff_k13_wsyr2_lidar = ds_diff_k13_wsyr2_lidar - [ds_diff_smooth0_k13_wsyr2_lidar, \\\n",
    "    ds_diff_smooth1_k13_wsyr2_lidar, ds_diff_smooth2_k13_wsyr2_lidar,\\\n",
    "    ds_diff_smooth3_k13_wsyr2_lidar, ds_diff_smooth4_k13_wsyr2_lidar]\n",
    "\n",
    "ds_diff_k13_wsyr2_sfm = ds_diff_k13_wsyr2_sfm - [ds_diff_smooth0_k13_wsyr2_sfm, \\\n",
    "    ds_diff_smooth1_k13_wsyr2_sfm, ds_diff_smooth2_k13_wsyr2_sfm,\\\n",
    "    ds_diff_smooth3_k13_wsyr2_sfm, ds_diff_smooth4_k13_wsyr2_sfm]"
   ]
  },
  {
   "cell_type": "code",
   "execution_count": null,
   "id": "1562d3b9",
   "metadata": {},
   "outputs": [],
   "source": [
    "sigma = 50\n",
    "for i in range(0,3):\n",
    "    globals()[f'ds_diff_smooth{i}_m14_wsyr1_lidar'], size = micro.hpgf.gauss_fltr_astropy_fft(ds_diff_m14_wsyr1_lidar.isel(time=i).values, sigma = sigma, origmask=True)\n",
    "    globals()[f'ds_diff_smooth{i}_m14_wsyr1_sfm'], size = micro.hpgf.gauss_fltr_astropy_fft(ds_diff_m14_wsyr1_sfm.isel(time=i).values, sigma = sigma, origmask=True)\n",
    "\n",
    "ds_diff_m14_wsyr1_lidar = ds_diff_m14_wsyr1_lidar - [ds_diff_smooth0_m14_wsyr1_lidar, \\\n",
    "    ds_diff_smooth1_m14_wsyr1_lidar, ds_diff_smooth2_m14_wsyr1_lidar]\n",
    "\n",
    "ds_diff_m14_wsyr1_sfm = ds_diff_m14_wsyr1_sfm - [ds_diff_smooth0_m14_wsyr1_sfm, \\\n",
    "    ds_diff_smooth1_m14_wsyr1_sfm, ds_diff_smooth2_m14_wsyr1_sfm]"
   ]
  },
  {
   "cell_type": "code",
   "execution_count": null,
   "id": "2214b7db",
   "metadata": {},
   "outputs": [],
   "source": [
    "sigma = 50\n",
    "for i in range(0,3):\n",
    "    globals()[f'ds_diff_smooth{i}_m14_dsyr1_lidar'], size = micro.hpgf.gauss_fltr_astropy_fft(ds_diff_m14_dsyr1_lidar.isel(time=i).values, sigma = sigma, origmask=True)\n",
    "    globals()[f'ds_diff_smooth{i}_m14_dsyr1_sfm'], size = micro.hpgf.gauss_fltr_astropy_fft(ds_diff_m14_dsyr1_sfm.isel(time=i).values, sigma = sigma, origmask=True)\n",
    "\n",
    "ds_diff_m14_dsyr1_lidar = ds_diff_m14_dsyr1_lidar - [ds_diff_smooth0_m14_dsyr1_lidar, \\\n",
    "    ds_diff_smooth1_m14_dsyr1_lidar, ds_diff_smooth2_m14_dsyr1_lidar]\n",
    "\n",
    "ds_diff_m14_dsyr1_sfm = ds_diff_m14_dsyr1_sfm - [ds_diff_smooth0_m14_dsyr1_sfm, \\\n",
    "    ds_diff_smooth1_m14_dsyr1_sfm, ds_diff_smooth2_m14_dsyr1_sfm]"
   ]
  },
  {
   "cell_type": "code",
   "execution_count": null,
   "id": "115fb76f",
   "metadata": {},
   "outputs": [],
   "source": [
    "sigma = 50\n",
    "for i in range(0,7):\n",
    "    globals()[f'ds_diff_smooth{i}_m14_wsyr2_lidar'], size = micro.hpgf.gauss_fltr_astropy_fft(ds_diff_m14_wsyr2_lidar.isel(time=i).values, sigma = sigma, origmask=True)\n",
    "    globals()[f'ds_diff_smooth{i}_m14_wsyr2_sfm'], size = micro.hpgf.gauss_fltr_astropy_fft(ds_diff_m14_wsyr2_sfm.isel(time=i).values, sigma = sigma, origmask=True)\n",
    "\n",
    "ds_diff_m14_wsyr2_lidar = ds_diff_m14_wsyr2_lidar - [ds_diff_smooth0_m14_wsyr2_lidar, \\\n",
    "    ds_diff_smooth1_m14_wsyr2_lidar, ds_diff_smooth2_m14_wsyr2_lidar,\\\n",
    "    ds_diff_smooth3_m14_wsyr2_lidar, ds_diff_smooth4_m14_wsyr2_lidar,\\\n",
    "    ds_diff_smooth5_m14_wsyr2_lidar, ds_diff_smooth6_m14_wsyr2_lidar]\n",
    "\n",
    "ds_diff_m14_wsyr2_sfm = ds_diff_m14_wsyr2_sfm - [ds_diff_smooth0_m14_wsyr2_sfm, \\\n",
    "    ds_diff_smooth1_m14_wsyr2_sfm, ds_diff_smooth2_m14_wsyr2_sfm,\\\n",
    "    ds_diff_smooth3_m14_wsyr2_sfm, ds_diff_smooth4_m14_wsyr2_sfm,\\\n",
    "    ds_diff_smooth5_m14_wsyr2_sfm, ds_diff_smooth6_m14_wsyr2_sfm]"
   ]
  },
  {
   "cell_type": "markdown",
   "id": "e24227b6-1407-4c18-ba96-73902d3d7425",
   "metadata": {},
   "source": [
    "## Plot difference maps"
   ]
  },
  {
   "cell_type": "code",
   "execution_count": null,
   "id": "bad19bb8",
   "metadata": {},
   "outputs": [],
   "source": [
    "# fig, ax = plt.subplots(1, 4, figsize=(15,9))\n",
    "# ds_extent= ds_diff_k13_wsyr1_lidar.rio.bounds()\n",
    "# m = ax[0].imshow(ds_diff_k13_wsyr1_lidar.isel(time=0), cmap = 'RdBu', vmin=-0.025, vmax=0.025)\n",
    "# fig.colorbar(m, label='Elevation (m)', extend='both', ax=ax)\n",
    "\n",
    "# ax[0].imshow(ds_diff_k13_wsyr1_lidar.isel(time=1), cmap='RdBu', vmin=-0.025, vmax=0.025, extent = ds_extent)\n",
    "# ax[0].set_title('KID-13\\n2020-11-09 LiDAR\\n2020-11-09 SfM')\n",
    "# ax[0].set_facecolor('k')\n",
    "\n",
    "# ax[1].imshow(ds_diff_k13_wsyr1_lidar.isel(time=2), cmap='RdBu', vmin=-0.025, vmax=0.025, extent = ds_extent)\n",
    "# ax[1].set_title('KID-13\\n2020-11-09 LiDAR\\n2021-02-08 SfM')\n",
    "# ax[1].set_facecolor('k')\n",
    "\n",
    "# ax[2].imshow(ds_diff_k13_wsyr1_lidar.isel(time=3), cmap='RdBu', vmin=-0.025, vmax=0.025, extent = ds_extent)\n",
    "# ax[2].set_title('KID-13\\n2020-11-09 LiDAR\\n2021-04-06 SfM')\n",
    "# ax[2].set_facecolor('k')\n",
    "\n",
    "# ax[3].imshow(ds_diff_k13_wsyr1_lidar.isel(time=4), cmap='RdBu', vmin=-0.025, vmax=0.025, extent = ds_extent)\n",
    "# ax[3].set_title('KID-13\\n2020-11-09 LiDAR\\n2021-05-13 SfM')\n",
    "# ax[3].set_facecolor('k')\n",
    "# plt.show();\n",
    "\n",
    "\n",
    "fig, ax = plt.subplots(1, 4, figsize=(15,9))\n",
    "ds_extent= ds_diff_k13_wsyr1_sfm.rio.bounds()\n",
    "m = ax[0].imshow(ds_diff_k13_wsyr1_sfm.isel(time=0), cmap = 'RdBu', vmin=-0.025, vmax=0.025)\n",
    "fig.colorbar(m, label='Elevation (m)', extend='both', ax=ax)\n",
    "\n",
    "ax[0].imshow(ds_diff_k13_wsyr1_sfm.isel(time=0), cmap='RdBu', vmin=-0.025, vmax=0.025, extent = ds_extent)\n",
    "ax[0].set_title('KID-13\\n2020-11-09 SfM\\n2020-11-09 LiDAR')\n",
    "ax[0].set_facecolor('k')\n",
    "\n",
    "ax[1].imshow(ds_diff_k13_wsyr1_sfm.isel(time=2), cmap='RdBu', vmin=-0.025, vmax=0.025, extent = ds_extent)\n",
    "ax[1].set_title('KID-13\\n2020-11-09 SfM\\n2021-02-08 SfM')\n",
    "ax[1].set_facecolor('k')\n",
    "\n",
    "ax[2].imshow(ds_diff_k13_wsyr1_sfm.isel(time=3), cmap='RdBu', vmin=-0.025, vmax=0.025, extent = ds_extent)\n",
    "ax[2].set_title('KID-13\\n2020-11-09 SfM\\n2021-04-06 SfM')\n",
    "ax[2].set_facecolor('k')\n",
    "\n",
    "ax[3].imshow(ds_diff_k13_wsyr1_sfm.isel(time=4), cmap='RdBu', vmin=-0.025, vmax=0.025, extent = ds_extent)\n",
    "ax[3].set_title('KID-13\\n2020-11-09 SfM\\n2021-05-13 SfM')\n",
    "ax[3].set_facecolor('k')\n",
    "plt.show();"
   ]
  },
  {
   "cell_type": "code",
   "execution_count": null,
   "id": "6538ae79",
   "metadata": {},
   "outputs": [],
   "source": [
    "# fig, ax = plt.subplots(1, 3, figsize=(13,9))\n",
    "# ds_extent= ds_diff_k13_dsyr1_lidar.rio.bounds()\n",
    "# m = ax[0].imshow(ds_diff_k13_dsyr1_lidar.isel(time=0), cmap = 'RdBu', vmin=-0.025, vmax=0.025)\n",
    "# fig.colorbar(m, label='Elevation (m)', extend='both', ax=ax)\n",
    "\n",
    "# ax[0].imshow(ds_diff_k13_dsyr1_lidar.isel(time=1), cmap='RdBu', vmin=-0.025, vmax=0.025, extent = ds_extent)\n",
    "# ax[0].set_title('KID-13\\n2021-06-04 LiDAR\\n2021-06-04 SfM')\n",
    "# ax[0].set_facecolor('k')\n",
    "\n",
    "# ax[1].imshow(ds_diff_k13_dsyr1_lidar.isel(time=2), cmap='RdBu', vmin=-0.025, vmax=0.025, extent = ds_extent)\n",
    "# ax[1].set_title('KID-13\\n2021-06-04 LiDAR\\n2021-08-19 SfM')\n",
    "# ax[1].set_facecolor('k')\n",
    "\n",
    "# ax[2].imshow(ds_diff_k13_dsyr1_lidar.isel(time=3), cmap='RdBu', vmin=-0.025, vmax=0.025, extent = ds_extent)\n",
    "# ax[2].set_title('KID-13\\n2021-06-04 LiDAR\\n2021-09-13 SfM')\n",
    "# ax[2].set_facecolor('k')\n",
    "# plt.show();\n",
    "\n",
    "\n",
    "# fig, ax = plt.subplots(1, 3, figsize=(13,9))\n",
    "# ds_extent= ds_diff_k13_dsyr1_sfm.rio.bounds()\n",
    "# m = ax[0].imshow(ds_diff_k13_dsyr1_sfm.isel(time=0), cmap = 'RdBu', vmin=-0.025, vmax=0.025)\n",
    "# fig.colorbar(m, label='Elevation (m)', extend='both', ax=ax)\n",
    "\n",
    "# ax[0].imshow(ds_diff_k13_dsyr1_sfm.isel(time=0), cmap='RdBu', vmin=-0.025, vmax=0.025, extent = ds_extent)\n",
    "# ax[0].set_title('KID-13\\n2021-06-04 SfM\\n2021-06-04 LiDAR')\n",
    "# ax[0].set_facecolor('k')\n",
    "\n",
    "# ax[1].imshow(ds_diff_k13_dsyr1_sfm.isel(time=2), cmap='RdBu', vmin=-0.025, vmax=0.025, extent = ds_extent)\n",
    "# ax[1].set_title('KID-13\\n2021-06-04 SfM\\n2021-08-19 SfM')\n",
    "# ax[1].set_facecolor('k')\n",
    "\n",
    "# ax[2].imshow(ds_diff_k13_dsyr1_sfm.isel(time=3), cmap='RdBu', vmin=-0.025, vmax=0.025, extent = ds_extent)\n",
    "# ax[2].set_title('KID-13\\n2021-06-04 SfM\\n2021-09-13 SfM')\n",
    "# ax[2].set_facecolor('k')\n",
    "# plt.show();"
   ]
  },
  {
   "cell_type": "code",
   "execution_count": null,
   "id": "ab8774ec-b4a8-480a-984e-d405cf421baa",
   "metadata": {},
   "outputs": [],
   "source": [
    "# fig, ax = plt.subplots(1, 4, figsize=(15,9))\n",
    "# ds_extent= ds_diff_k13_wsyr2_lidar.rio.bounds()\n",
    "# m = ax[0].imshow(ds_diff_k13_wsyr2_lidar.isel(time=0), cmap = 'RdBu', vmin=-0.025, vmax=0.025)\n",
    "# fig.colorbar(m, label='Elevation (m)', extend='both', ax=ax)\n",
    "\n",
    "# ax[0].imshow(ds_diff_k13_wsyr2_lidar.isel(time=1), cmap='RdBu', vmin=-0.025, vmax=0.025, extent = ds_extent)\n",
    "# ax[0].set_title('KID-13\\n2021-10-07 LiDAR\\n2021-10-07 SfM')\n",
    "# ax[0].set_facecolor('k')\n",
    "\n",
    "# ax[1].imshow(ds_diff_k13_wsyr2_lidar.isel(time=2), cmap='RdBu', vmin=-0.025, vmax=0.025, extent = ds_extent)\n",
    "# ax[1].set_title('KID-13\\n2021-10-07 LiDAR\\n2022-02-08 SfM')\n",
    "# ax[1].set_facecolor('k')\n",
    "\n",
    "# ax[2].imshow(ds_diff_k13_wsyr2_lidar.isel(time=3), cmap='RdBu', vmin=-0.025, vmax=0.025, extent = ds_extent)\n",
    "# ax[2].set_title('KID-13\\n2021-10-07 LiDAR\\n2022-05-03 SfM')\n",
    "# ax[2].set_facecolor('k')\n",
    "\n",
    "# ax[3].imshow(ds_diff_k13_wsyr2_lidar.isel(time=4), cmap='RdBu', vmin=-0.025, vmax=0.025, extent = ds_extent)\n",
    "# ax[3].set_title('KID-13\\n2021-10-07 LiDAR\\n2022-05-31 SfM')\n",
    "# ax[3].set_facecolor('k')\n",
    "# plt.show();\n",
    "\n",
    "\n",
    "# fig, ax = plt.subplots(1, 4, figsize=(15,9))\n",
    "# ds_extent= ds_diff_k13_wsyr2_sfm.rio.bounds()\n",
    "# m = ax[0].imshow(ds_diff_k13_wsyr2_sfm.isel(time=0), cmap = 'RdBu', vmin=-0.025, vmax=0.025)\n",
    "# fig.colorbar(m, label='Elevation (m)', extend='both', ax=ax)\n",
    "\n",
    "# ax[0].imshow(ds_diff_k13_wsyr2_sfm.isel(time=0), cmap='RdBu', vmin=-0.025, vmax=0.025, extent = ds_extent)\n",
    "# ax[0].set_title('KID-13\\n2021-10-07 SfM\\n2021-10-07 LiDAR')\n",
    "# ax[0].set_facecolor('k')\n",
    "\n",
    "# ax[1].imshow(ds_diff_k13_wsyr2_sfm.isel(time=2), cmap='RdBu', vmin=-0.025, vmax=0.025, extent = ds_extent)\n",
    "# ax[1].set_title('KID-13\\n2021-10-07 SfM\\n2022-02-08 SfM')\n",
    "# ax[1].set_facecolor('k')\n",
    "\n",
    "# ax[2].imshow(ds_diff_k13_wsyr2_sfm.isel(time=3), cmap='RdBu', vmin=-0.025, vmax=0.025, extent = ds_extent)\n",
    "# ax[2].set_title('KID-13\\n2021-10-07 SfM\\n2022-05-03 SfM')\n",
    "# ax[2].set_facecolor('k')\n",
    "\n",
    "# ax[3].imshow(ds_diff_k13_wsyr2_sfm.isel(time=4), cmap='RdBu', vmin=-0.025, vmax=0.025, extent = ds_extent)\n",
    "# ax[3].set_title('KID-13\\n2021-10-07 SfM\\n2022-05-31 SfM')\n",
    "# ax[3].set_facecolor('k')\n",
    "# plt.show();"
   ]
  },
  {
   "cell_type": "code",
   "execution_count": null,
   "id": "83aae6fc",
   "metadata": {},
   "outputs": [],
   "source": [
    "# fig, ax = plt.subplots(1, 2, figsize=(7,9))\n",
    "# ds_extent= ds_diff_m14_wsyr1_lidar.rio.bounds()\n",
    "# m = ax[0].imshow(ds_diff_m14_wsyr1_lidar.isel(time=0), cmap = 'RdBu', vmin=-0.025, vmax=0.025)\n",
    "# fig.colorbar(m, label='Elevation (m)', extend='both', ax=ax)\n",
    "\n",
    "# ax[0].imshow(ds_diff_m14_wsyr1_lidar.isel(time=1), cmap='RdBu', vmin=-0.025, vmax=0.025, extent = ds_extent)\n",
    "# ax[0].set_title('MEL-14\\n2020-12-03 LiDAR\\n2020-12-03 SfM')\n",
    "# ax[0].set_facecolor('k')\n",
    "\n",
    "# ax[1].imshow(ds_diff_m14_wsyr1_lidar.isel(time=2), cmap='RdBu', vmin=-0.025, vmax=0.025, extent = ds_extent)\n",
    "# ax[1].set_title('MEL-14\\n2020-12-03 LiDAR\\n2021-02-24 SfM')\n",
    "# ax[1].set_facecolor('k')\n",
    "# plt.show();\n",
    "\n",
    "\n",
    "# fig, ax = plt.subplots(1, 2, figsize=(7,9))\n",
    "# ds_extent= ds_diff_m14_wsyr1_sfm.rio.bounds()\n",
    "# m = ax[0].imshow(ds_diff_m14_wsyr1_sfm.isel(time=0), cmap = 'RdBu', vmin=-0.025, vmax=0.025)\n",
    "# fig.colorbar(m, label='Elevation (m)', extend='both', ax=ax)\n",
    "\n",
    "# ax[0].imshow(ds_diff_m14_wsyr1_sfm.isel(time=0), cmap='RdBu', vmin=-0.025, vmax=0.025, extent = ds_extent)\n",
    "# ax[0].set_title('MEL-14\\n2020-12-03 SfM\\n2020-12-03 LiDAR')\n",
    "# ax[0].set_facecolor('k')\n",
    "\n",
    "# ax[1].imshow(ds_diff_m14_wsyr1_sfm.isel(time=2), cmap='RdBu', vmin=-0.025, vmax=0.025, extent = ds_extent)\n",
    "# ax[1].set_title('MEL-14\\n2020-12-03 SfM\\n2021-02-24 SfM')\n",
    "# ax[1].set_facecolor('k')\n",
    "# plt.show();"
   ]
  },
  {
   "cell_type": "code",
   "execution_count": null,
   "id": "054481e9",
   "metadata": {},
   "outputs": [],
   "source": [
    "# fig, ax = plt.subplots(1, 2, figsize=(7,9))\n",
    "# ds_extent= ds_diff_m14_dsyr1_lidar.rio.bounds()\n",
    "# m = ax[0].imshow(ds_diff_m14_dsyr1_lidar.isel(time=0), cmap = 'RdBu', vmin=-0.025, vmax=0.025)\n",
    "# fig.colorbar(m, label='Elevation (m)', extend='both', ax=ax)\n",
    "\n",
    "# ax[0].imshow(ds_diff_m14_dsyr1_lidar.isel(time=1), cmap='RdBu', vmin=-0.025, vmax=0.025, extent = ds_extent)\n",
    "# ax[0].set_title('MEL-14\\n2021-06-03 LiDAR\\n2021-06-03 SfM')\n",
    "# ax[0].set_facecolor('k')\n",
    "\n",
    "# ax[1].imshow(ds_diff_m14_dsyr1_lidar.isel(time=2), cmap='RdBu', vmin=-0.025, vmax=0.025, extent = ds_extent)\n",
    "# ax[1].set_title('MEL-14\\n2021-06-03 LiDAR\\n2021-09-14 SfM')\n",
    "# ax[1].set_facecolor('k')\n",
    "# plt.show();\n",
    "\n",
    "\n",
    "# fig, ax = plt.subplots(1, 2, figsize=(7,9))\n",
    "# ds_extent= ds_diff_m14_dsyr1_sfm.rio.bounds()\n",
    "# m = ax[0].imshow(ds_diff_m14_dsyr1_sfm.isel(time=0), cmap = 'RdBu', vmin=-0.025, vmax=0.025)\n",
    "# fig.colorbar(m, label='Elevation (m)', extend='both', ax=ax)\n",
    "\n",
    "# ax[0].imshow(ds_diff_m14_dsyr1_sfm.isel(time=0), cmap='RdBu', vmin=-0.025, vmax=0.025, extent = ds_extent)\n",
    "# ax[0].set_title('MEL-14\\n2021-06-03 SfM\\n2021-06-03 LiDAR')\n",
    "# ax[0].set_facecolor('k')\n",
    "\n",
    "# ax[1].imshow(ds_diff_m14_dsyr1_sfm.isel(time=2), cmap='RdBu', vmin=-0.025, vmax=0.025, extent = ds_extent)\n",
    "# ax[1].set_title('MEL-14\\n2021-06-03 SfM\\n2021-09-14 SfM')\n",
    "# ax[1].set_facecolor('k')\n",
    "# plt.show();"
   ]
  },
  {
   "cell_type": "code",
   "execution_count": null,
   "id": "3cd02a21",
   "metadata": {},
   "outputs": [],
   "source": [
    "# fig, ax = plt.subplots(1, 6, figsize=(20,9))\n",
    "# ds_extent= ds_diff_m14_wsyr2_lidar.rio.bounds()\n",
    "# m = ax[0].imshow(ds_diff_m14_wsyr2_lidar.isel(time=0), cmap = 'RdBu', vmin=-0.025, vmax=0.025)\n",
    "# fig.colorbar(m, label='Elevation (m)', extend='both', ax=ax)\n",
    "\n",
    "# ax[0].imshow(ds_diff_m14_wsyr2_lidar.isel(time=1), cmap='RdBu', vmin=-0.025, vmax=0.025, extent = ds_extent)\n",
    "# ax[0].set_title('MEL-14\\n2022-03-09 LiDAR\\n2022-03-09 SfM')\n",
    "# ax[0].set_facecolor('k')\n",
    "\n",
    "# ax[1].imshow(ds_diff_m14_wsyr2_lidar.isel(time=2), cmap='RdBu', vmin=-0.025, vmax=0.025, extent = ds_extent)\n",
    "# ax[1].set_title('MEL-14\\n2022-03-09 LiDAR\\n2022-03-16 SfM')\n",
    "# ax[1].set_facecolor('k')\n",
    "\n",
    "# ax[2].imshow(ds_diff_m14_wsyr2_lidar.isel(time=3), cmap='RdBu', vmin=-0.025, vmax=0.025, extent = ds_extent)\n",
    "# ax[2].set_title('MEL-14\\n2022-03-09 LiDAR\\n2022-03-24 SfM')\n",
    "# ax[2].set_facecolor('k')\n",
    "\n",
    "# ax[3].imshow(ds_diff_m14_wsyr2_lidar.isel(time=4), cmap='RdBu', vmin=-0.025, vmax=0.025, extent = ds_extent)\n",
    "# ax[3].set_title('MEL-14\\n2022-03-09 LiDAR\\n2022-04-11 SfM')\n",
    "# ax[3].set_facecolor('k')\n",
    "\n",
    "# ax[4].imshow(ds_diff_m14_wsyr2_lidar.isel(time=5), cmap='RdBu', vmin=-0.025, vmax=0.025, extent = ds_extent)\n",
    "# ax[4].set_title('MEL-14\\n2022-03-09 SfM\\n2022-04-28 SfM')\n",
    "# ax[4].set_facecolor('k')\n",
    "\n",
    "# ax[5].imshow(ds_diff_m14_wsyr2_lidar.isel(time=6), cmap='RdBu', vmin=-0.025, vmax=0.025, extent = ds_extent)\n",
    "# ax[5].set_title('MEL-14\\n2022-03-09 SfM\\n2022-06-01 SfM')\n",
    "# ax[5].set_facecolor('k')\n",
    "# plt.show();\n",
    "\n",
    "\n",
    "# fig, ax = plt.subplots(1, 6, figsize=(20,9))\n",
    "# ds_extent= ds_diff_m14_wsyr2_sfm.rio.bounds()\n",
    "# m = ax[0].imshow(ds_diff_m14_wsyr2_sfm.isel(time=0), cmap = 'RdBu', vmin=-0.025, vmax=0.025)\n",
    "# fig.colorbar(m, label='Elevation (m)', extend='both', ax=ax)\n",
    "\n",
    "# ax[0].imshow(ds_diff_m14_wsyr2_sfm.isel(time=0), cmap='RdBu', vmin=-0.025, vmax=0.025, extent = ds_extent)\n",
    "# ax[0].set_title('MEL-14\\n2022-03-09 SfM\\n2022-03-09 LiDAR')\n",
    "# ax[0].set_facecolor('k')\n",
    "\n",
    "# ax[1].imshow(ds_diff_m14_wsyr2_sfm.isel(time=2), cmap='RdBu', vmin=-0.025, vmax=0.025, extent = ds_extent)\n",
    "# ax[1].set_title('MEL-14\\n2022-03-09 SfM\\n2022-03-16 SfM')\n",
    "# ax[1].set_facecolor('k')\n",
    "\n",
    "# ax[2].imshow(ds_diff_m14_wsyr2_sfm.isel(time=3), cmap='RdBu', vmin=-0.025, vmax=0.025, extent = ds_extent)\n",
    "# ax[2].set_title('MEL-14\\n2022-03-09 SfM\\n2022-03-24 SfM')\n",
    "# ax[2].set_facecolor('k')\n",
    "\n",
    "# ax[3].imshow(ds_diff_m14_wsyr2_sfm.isel(time=4), cmap='RdBu', vmin=-0.025, vmax=0.025, extent = ds_extent)\n",
    "# ax[3].set_title('MEL-14\\n2022-03-09 SfM\\n2022-04-11 SfM')\n",
    "# ax[3].set_facecolor('k')\n",
    "\n",
    "# ax[4].imshow(ds_diff_m14_wsyr2_sfm.isel(time=5), cmap='RdBu', vmin=-0.025, vmax=0.025, extent = ds_extent)\n",
    "# ax[4].set_title('MEL-14\\n2022-03-09 SfM\\n2022-04-28 SfM')\n",
    "# ax[4].set_facecolor('k')\n",
    "\n",
    "# ax[5].imshow(ds_diff_m14_wsyr2_sfm.isel(time=6), cmap='RdBu', vmin=-0.025, vmax=0.025, extent = ds_extent)\n",
    "# ax[5].set_title('MEL-14\\n2022-03-09 SfM\\n2022-06-01 SfM')\n",
    "# ax[5].set_facecolor('k')\n",
    "# plt.show();"
   ]
  },
  {
   "cell_type": "markdown",
   "id": "9cde01c1-ae5a-47e4-aa58-7c8959f91783",
   "metadata": {},
   "source": [
    "## Raster stats"
   ]
  },
  {
   "cell_type": "code",
   "execution_count": null,
   "id": "72987b23",
   "metadata": {},
   "outputs": [],
   "source": [
    "ds_diff_k13_wsyr1_lidar.to_netcdf('../data/k13_wsyr1_diff.nc')\n",
    "ds_diff_k13_dsyr1_lidar.to_netcdf('../data/k13_dsyr1_diff.nc')\n",
    "ds_diff_k13_wsyr2_lidar.to_netcdf('../data/k13_wsyr2_diff.nc')"
   ]
  },
  {
   "cell_type": "code",
   "execution_count": null,
   "id": "4c716f71",
   "metadata": {},
   "outputs": [],
   "source": [
    "ds_diff_k13_wsyr1_sfm.to_netcdf('../data/k13_wsyr1_diff_sfm.nc')\n",
    "ds_diff_k13_dsyr1_sfm.to_netcdf('../data/k13_dsyr1_diff_sfm.nc')\n",
    "ds_diff_k13_wsyr2_sfm.to_netcdf('../data/k13_wsyr2_diff_sfm.nc')"
   ]
  },
  {
   "cell_type": "code",
   "execution_count": null,
   "id": "eb39b379",
   "metadata": {},
   "outputs": [],
   "source": [
    "ds_diff_m14_wsyr1_lidar.to_netcdf('../data/m14_wsyr1_diff.nc')\n",
    "ds_diff_m14_dsyr1_lidar.to_netcdf('../data/m14_dsyr1_diff.nc')\n",
    "ds_diff_m14_wsyr2_lidar.to_netcdf('../data/m14_wsyr2_diff.nc')"
   ]
  },
  {
   "cell_type": "code",
   "execution_count": null,
   "id": "9ee7191c",
   "metadata": {},
   "outputs": [],
   "source": [
    "ds_diff_m14_wsyr1_sfm.to_netcdf('../data/m14_wsyr1_diff_sfm.nc')\n",
    "ds_diff_m14_dsyr1_sfm.to_netcdf('../data/m14_dsyr1_diff_sfm.nc')\n",
    "ds_diff_m14_wsyr2_sfm.to_netcdf('../data/m14_wsyr2_diff_sfm.nc')"
   ]
  },
  {
   "cell_type": "code",
   "execution_count": null,
   "id": "505d23c8-d404-4c8f-a357-e55474443cc4",
   "metadata": {},
   "outputs": [],
   "source": [
    "# pprint(rasterstats.zonal_stats(k13_mask_gdf, 'k13_wsyr1_diff.tif', \\\n",
    "#     stats=['min', 'max', 'median', 'mean', 'std', 'sum']))\n",
    "# pprint(rasterstats.zonal_stats(k13_mask_gdf, 'k13_dsyr1_diff.tif', \\\n",
    "#     stats=['min', 'max', 'median', 'mean', 'std', 'sum']))\n",
    "# pprint(rasterstats.zonal_stats(k13_mask_gdf, 'k13_wsyr2_diff.tif', \\\n",
    "#     stats=['min', 'max', 'median', 'mean', 'std', 'sum']))\n",
    "# pprint(rasterstats.zonal_stats(m14_mask_gdf, 'm14_wsyr1_diff.tif', \\\n",
    "#     stats=['min', 'max', 'median', 'mean', 'std', 'sum']))\n",
    "# pprint(rasterstats.zonal_stats(m14_mask_gdf, 'm14_dsyr1_diff.tif', \\\n",
    "#     stats=['min', 'max', 'median', 'mean', 'std', 'sum']))\n",
    "# pprint(rasterstats.zonal_stats(m14_mask_gdf, 'm14_wsyr2_diff.tif', \\\n",
    "#     stats=['min', 'max', 'median', 'mean', 'std', 'sum']))\n"
   ]
  }
 ],
 "metadata": {
  "kernelspec": {
   "display_name": "Python 3 (ipykernel)",
   "language": "python",
   "name": "python3"
  },
  "language_info": {
   "codemirror_mode": {
    "name": "ipython",
    "version": 3
   },
   "file_extension": ".py",
   "mimetype": "text/x-python",
   "name": "python",
   "nbconvert_exporter": "python",
   "pygments_lexer": "ipython3",
   "version": "3.12.2"
  }
 },
 "nbformat": 4,
 "nbformat_minor": 5
}
