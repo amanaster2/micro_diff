{
 "cells": [
  {
   "cell_type": "code",
   "execution_count": 1,
   "metadata": {},
   "outputs": [],
   "source": [
    "%load_ext autoreload\n",
    "%autoreload 2"
   ]
  },
  {
   "cell_type": "code",
   "execution_count": 2,
   "metadata": {},
   "outputs": [],
   "source": [
    "from pathlib import Path\n",
    "import gdown\n",
    "import pandas as pd\n",
    "import geopandas as gpd\n",
    "import matplotlib.pyplot as plt\n",
    "import numpy as np\n",
    "import rioxarray as rio\n",
    "import rasterstats\n",
    "from pprint import pprint\n",
    "import xarray as xr\n",
    "\n",
    "import micro\n",
    "import gtsa\n",
    "\n",
    "import seaborn as sns \n",
    "import statsmodels.api as sm"
   ]
  },
  {
   "cell_type": "markdown",
   "metadata": {},
   "source": [
    "## $\\Delta$ Z eCDF plots\n",
    "- Do not run plots without clearing all cell output first."
   ]
  },
  {
   "cell_type": "code",
   "execution_count": 3,
   "metadata": {},
   "outputs": [],
   "source": [
    "ds_diff_k13_wsyr1_sfm = xr.open_dataset('../data/k13_wsyr1_diff_sfm.nc').squeeze()\n",
    "ds_diff_k13_dsyr1_sfm = xr.open_dataset('../data/k13_dsyr1_diff_sfm.nc').squeeze()\n",
    "ds_diff_k13_wsyr2_sfm = xr.open_dataset('../data/k13_wsyr2_diff_sfm.nc').squeeze()\n",
    "\n",
    "ds_diff_m14_wsyr1_sfm = xr.open_dataset('../data/m14_wsyr1_diff_sfm.nc').squeeze()\n",
    "ds_diff_m14_dsyr1_sfm = xr.open_dataset('../data/m14_dsyr1_diff_sfm.nc').squeeze()\n",
    "ds_diff_m14_wsyr2_sfm = xr.open_dataset('../data/m14_wsyr2_diff_sfm.nc').squeeze()"
   ]
  },
  {
   "cell_type": "code",
   "execution_count": 4,
   "metadata": {},
   "outputs": [],
   "source": [
    "ds_diff_k13_wsyr1_sfm_2 = ds_diff_k13_wsyr1_sfm.isel(time=2).to_dataframe()\n",
    "ds_diff_k13_wsyr1_sfm_2.reset_index(inplace=True)\n",
    "ds_diff_k13_wsyr1_sfm_2.dropna(inplace=True)\n",
    "ds_diff_k13_wsyr1_sfm_2.drop(axis=1, labels=['time','spatial_ref'], inplace=True)\n",
    "\n",
    "ds_diff_k13_wsyr1_sfm_3 = ds_diff_k13_wsyr1_sfm.isel(time=3).to_dataframe()\n",
    "ds_diff_k13_wsyr1_sfm_3.reset_index(inplace=True)\n",
    "ds_diff_k13_wsyr1_sfm_3.dropna(inplace=True)\n",
    "ds_diff_k13_wsyr1_sfm_3.drop(axis=1, labels=['time','spatial_ref'],inplace=True)\n",
    "\n",
    "ds_diff_k13_wsyr1_sfm_4 = ds_diff_k13_wsyr1_sfm.isel(time=4).to_dataframe()\n",
    "ds_diff_k13_wsyr1_sfm_4.reset_index(inplace=True)\n",
    "ds_diff_k13_wsyr1_sfm_4.dropna(inplace=True)\n",
    "ds_diff_k13_wsyr1_sfm_4.drop(axis=1, labels=['time','spatial_ref'],inplace=True)"
   ]
  },
  {
   "cell_type": "code",
   "execution_count": 6,
   "metadata": {},
   "outputs": [],
   "source": [
    "ds_diff_k13_dsyr1_sfm_2 = ds_diff_k13_dsyr1_sfm.isel(time=2).to_dataframe()\n",
    "ds_diff_k13_dsyr1_sfm_2.reset_index(inplace=True)\n",
    "ds_diff_k13_dsyr1_sfm_2.dropna(inplace=True)\n",
    "ds_diff_k13_dsyr1_sfm_2.drop(axis=1, labels=['time','spatial_ref'],inplace=True)\n",
    "\n",
    "ds_diff_k13_dsyr1_sfm_3 = ds_diff_k13_dsyr1_sfm.isel(time=3).to_dataframe()\n",
    "ds_diff_k13_dsyr1_sfm_3.reset_index(inplace=True)\n",
    "ds_diff_k13_dsyr1_sfm_3.dropna(inplace=True)\n",
    "ds_diff_k13_dsyr1_sfm_3.drop(axis=1, labels=['time','spatial_ref'],inplace=True)"
   ]
  },
  {
   "cell_type": "code",
   "execution_count": 10,
   "metadata": {},
   "outputs": [],
   "source": [
    "ds_diff_k13_wsyr2_sfm_2 = ds_diff_k13_wsyr2_sfm.isel(time=2).to_dataframe()\n",
    "ds_diff_k13_wsyr2_sfm_2.reset_index(inplace=True)\n",
    "ds_diff_k13_wsyr2_sfm_2.dropna(inplace=True)\n",
    "ds_diff_k13_wsyr2_sfm_2.drop(axis=1, labels=['time','spatial_ref'],inplace=True)\n",
    "\n",
    "ds_diff_k13_wsyr2_sfm_3 = ds_diff_k13_wsyr2_sfm.isel(time=3).to_dataframe()\n",
    "ds_diff_k13_wsyr2_sfm_3.reset_index(inplace=True)\n",
    "ds_diff_k13_wsyr2_sfm_3.dropna(inplace=True)\n",
    "ds_diff_k13_wsyr2_sfm_3.drop(axis=1, labels=['time','spatial_ref'],inplace=True)\n",
    "\n",
    "ds_diff_k13_wsyr2_sfm_4 = ds_diff_k13_wsyr2_sfm.isel(time=4).to_dataframe()\n",
    "ds_diff_k13_wsyr2_sfm_4.reset_index(inplace=True)\n",
    "ds_diff_k13_wsyr2_sfm_4.dropna(inplace=True)\n",
    "ds_diff_k13_wsyr2_sfm_4.drop(axis=1, labels=['time','spatial_ref'],inplace=True)"
   ]
  },
  {
   "cell_type": "code",
   "execution_count": 45,
   "metadata": {},
   "outputs": [
    {
     "data": {
      "image/png": "[encoded data removed]",
      "text/plain": [
       "<Figure size 900x500 with 1 Axes>"
      ]
     },
     "metadata": {},
     "output_type": "display_data"
    }
   ],
   "source": [
    "k13_wsyr1_5per_1 = np.percentile(ds_diff_k13_wsyr1_sfm_2,5)\n",
    "k13_wsyr1_5per_2 = np.percentile(ds_diff_k13_wsyr1_sfm_3,5)\n",
    "k13_wsyr1_5per_3 = np.percentile(ds_diff_k13_wsyr1_sfm_4,5)\n",
    "\n",
    "k13_dsyr1_5per_1 = np.percentile(ds_diff_k13_dsyr1_sfm_2,5)\n",
    "k13_dsyr1_5per_2 = np.percentile(ds_diff_k13_dsyr1_sfm_3,5)\n",
    "\n",
    "k13_wsyr2_5per_1 = np.percentile(ds_diff_k13_wsyr2_sfm_2,5)\n",
    "k13_wsyr2_5per_2 = np.percentile(ds_diff_k13_wsyr2_sfm_3,5)\n",
    "k13_wsyr2_5per_3 = np.percentile(ds_diff_k13_wsyr2_sfm_4,5)\n",
    "\n",
    "k13_5per1 = [0.0,k13_wsyr1_5per_1,k13_wsyr1_5per_2,k13_wsyr1_5per_3]\n",
    "k13_5per2 = [0.0,k13_dsyr1_5per_1,k13_dsyr1_5per_2]\n",
    "k13_5per3 = [0.0,k13_wsyr2_5per_1,k13_wsyr2_5per_2,k13_wsyr2_5per_3]\n",
    "\n",
    "k13_time1 = ['WSYR1\\nT0','WSYR1\\nT1', 'WSYR1\\nT2', 'WSYR1\\nT3']\n",
    "k13_time2 = ['DSYR1\\nT0','DSYR1\\nT1', 'DSYR1\\nT2']\n",
    "k13_time3 = ['WSYR2\\nT0','WSYR2\\nT1', 'WSYR2\\nT2', 'WSYR2\\nT3']\n",
    "\n",
    "\n",
    "fig, ax = plt.subplots(figsize=(9,5))\n",
    "plt.scatter(k13_time1, k13_5per1)\n",
    "plt.scatter(k13_time2, k13_5per2)\n",
    "plt.scatter(k13_time3, k13_5per3)\n",
    "plt.axvline(x=3.5, color='gray', linestyle='--')\n",
    "plt.axvline(x=6.5, color='gray', linestyle='--')\n",
    "ax.set_ylim(-0.0115,0.001)\n",
    "\n",
    "ax.set_ylabel(r'5th percentile of $\\Delta Z$ (meters)')\n",
    "ax.set_title('KID-13')\n",
    "plt.show()"
   ]
  },
  {
   "cell_type": "code",
   "execution_count": null,
   "metadata": {},
   "outputs": [],
   "source": [
    "fig, ax = plt.subplots()\n",
    "\n",
    "sns.ecdfplot(ds_diff_k13_wsyr1_sfm_2, x='band1', stat='percent', ax=ax, color='#a4133c', label='11-09-2020 to 02-08-2021')\n",
    "sns.ecdfplot(ds_diff_k13_wsyr1_sfm_3, x='band1', stat='percent', ax=ax, color='#800f2f', label='11-09-2020 to 04-06-2021')\n",
    "sns.ecdfplot(ds_diff_k13_wsyr1_sfm_4, x='band1', stat='percent', ax=ax, color='#590d22', label='11-09-2020 to 05-13-2021')\n",
    "ax.plot([0,0],[0,100], 'k--')\n",
    "ax.set_xlim(-0.04,0.04)\n",
    "ax.set_ylim(0,100)\n",
    "ax.set_xlabel(r'$\\Delta$ Z (meters)')\n",
    "ax.legend()\n",
    "ax.set_title('KID-13 WSYR1')\n",
    "\n",
    "plt.show()"
   ]
  },
  {
   "cell_type": "code",
   "execution_count": null,
   "metadata": {},
   "outputs": [],
   "source": [
    "fig, ax = plt.subplots()\n",
    "\n",
    "sns.ecdfplot(ds_diff_k13_dsyr1_sfm_2, x='band1', stat='percent', ax=ax, color='#0077b6', label='06-04-2021 to 08-19-2021')\n",
    "sns.ecdfplot(ds_diff_k13_dsyr1_sfm_3, x='band1', stat='percent', ax=ax, color='#03045e', label='06-04-2021 to 09-13-2021')\n",
    "ax.plot([0,0],[0,100], 'k--')\n",
    "ax.set_xlim(-0.04,0.04)\n",
    "ax.set_ylim(0,100)\n",
    "ax.set_xlabel(r'$\\Delta$ Z (meters)')\n",
    "ax.legend()\n",
    "ax.set_title('KID-13 DSYR1')\n",
    "\n",
    "plt.show()"
   ]
  },
  {
   "cell_type": "code",
   "execution_count": null,
   "metadata": {},
   "outputs": [],
   "source": [
    "fig, ax = plt.subplots()\n",
    "\n",
    "sns.ecdfplot(ds_diff_k13_wsyr2_sfm_2, x='band1', stat='percent', ax=ax, color='#9f86c0', label='10-07-2021 to 02-08-2022')\n",
    "sns.ecdfplot(ds_diff_k13_wsyr2_sfm_3, x='band1', stat='percent', ax=ax, color='#5e548e', label='10-07-2021 to 05-03-2022')\n",
    "sns.ecdfplot(ds_diff_k13_wsyr2_sfm_4, x='band1', stat='percent', ax=ax, color='#231942', label='10-07-2021 to 05-31-2022')\n",
    "ax.plot([0,0],[0,100], 'k--')\n",
    "ax.set_xlim(-0.04,0.04)\n",
    "ax.set_ylim(0,100)\n",
    "ax.set_xlabel(r'$\\Delta$ Z (meters)')\n",
    "ax.legend()\n",
    "ax.set_title('KID-13 WSYR2')\n",
    "\n",
    "plt.show()"
   ]
  },
  {
   "cell_type": "code",
   "execution_count": 47,
   "metadata": {},
   "outputs": [],
   "source": [
    "ds_diff_m14_wsyr1_sfm_2 = ds_diff_m14_wsyr1_sfm.isel(time=2).to_dataframe()\n",
    "ds_diff_m14_wsyr1_sfm_2.reset_index(inplace=True)\n",
    "ds_diff_m14_wsyr1_sfm_2.dropna(inplace=True)\n",
    "ds_diff_m14_wsyr1_sfm_2.drop(columns=['time','spatial_ref'], inplace=True)"
   ]
  },
  {
   "cell_type": "code",
   "execution_count": 48,
   "metadata": {},
   "outputs": [],
   "source": [
    "ds_diff_m14_dsyr1_sfm_2 = ds_diff_m14_dsyr1_sfm.isel(time=2).to_dataframe()\n",
    "ds_diff_m14_dsyr1_sfm_2.reset_index(inplace=True)\n",
    "ds_diff_m14_dsyr1_sfm_2.dropna(inplace=True)\n",
    "ds_diff_m14_dsyr1_sfm_2.drop(columns=['time','spatial_ref'], inplace=True)"
   ]
  },
  {
   "cell_type": "code",
   "execution_count": 49,
   "metadata": {},
   "outputs": [],
   "source": [
    "ds_diff_m14_wsyr2_sfm_2 = ds_diff_m14_wsyr2_sfm.isel(time=2).to_dataframe()\n",
    "ds_diff_m14_wsyr2_sfm_2.reset_index(inplace=True)\n",
    "ds_diff_m14_wsyr2_sfm_2.dropna(inplace=True)\n",
    "ds_diff_m14_wsyr2_sfm_2.drop(columns=['time','spatial_ref'], inplace=True)\n",
    "\n",
    "ds_diff_m14_wsyr2_sfm_3 = ds_diff_m14_wsyr2_sfm.isel(time=3).to_dataframe()\n",
    "ds_diff_m14_wsyr2_sfm_3.reset_index(inplace=True)\n",
    "ds_diff_m14_wsyr2_sfm_3.dropna(inplace=True)\n",
    "ds_diff_m14_wsyr2_sfm_3.drop(columns=['time','spatial_ref'], inplace=True)\n",
    "\n",
    "ds_diff_m14_wsyr2_sfm_4 = ds_diff_m14_wsyr2_sfm.isel(time=4).to_dataframe()\n",
    "ds_diff_m14_wsyr2_sfm_4.reset_index(inplace=True)\n",
    "ds_diff_m14_wsyr2_sfm_4.dropna(inplace=True)\n",
    "ds_diff_m14_wsyr2_sfm_4.drop(columns=['time','spatial_ref'], inplace=True)\n",
    "\n",
    "ds_diff_m14_wsyr2_sfm_5 = ds_diff_m14_wsyr2_sfm.isel(time=5).to_dataframe()\n",
    "ds_diff_m14_wsyr2_sfm_5.reset_index(inplace=True)\n",
    "ds_diff_m14_wsyr2_sfm_5.dropna(inplace=True)\n",
    "ds_diff_m14_wsyr2_sfm_5.drop(columns=['time','spatial_ref'], inplace=True)\n",
    "\n",
    "ds_diff_m14_wsyr2_sfm_6 = ds_diff_m14_wsyr2_sfm.isel(time=6).to_dataframe()\n",
    "ds_diff_m14_wsyr2_sfm_6.reset_index(inplace=True)\n",
    "ds_diff_m14_wsyr2_sfm_6.dropna(inplace=True)\n",
    "ds_diff_m14_wsyr2_sfm_6.drop(columns=['time','spatial_ref'], inplace=True)"
   ]
  },
  {
   "cell_type": "code",
   "execution_count": 50,
   "metadata": {},
   "outputs": [
    {
     "data": {
      "image/png": "[encoded data removed]",
      "text/plain": [
       "<Figure size 900x500 with 1 Axes>"
      ]
     },
     "metadata": {},
     "output_type": "display_data"
    }
   ],
   "source": [
    "m14_wsyr1_5per_1 = np.percentile(ds_diff_m14_wsyr1_sfm_2,5)\n",
    "\n",
    "m14_dsyr1_5per_1 = np.percentile(ds_diff_m14_dsyr1_sfm_2,5)\n",
    "\n",
    "m14_wsyr2_5per_1 = np.percentile(ds_diff_m14_wsyr2_sfm_2,5)\n",
    "m14_wsyr2_5per_2 = np.percentile(ds_diff_m14_wsyr2_sfm_3,5)\n",
    "m14_wsyr2_5per_3 = np.percentile(ds_diff_m14_wsyr2_sfm_4,5)\n",
    "m14_wsyr2_5per_4 = np.percentile(ds_diff_m14_wsyr2_sfm_5,5)\n",
    "m14_wsyr2_5per_5 = np.percentile(ds_diff_m14_wsyr2_sfm_6,5)\n",
    "\n",
    "\n",
    "m14_5per1 = [0.0,m14_wsyr1_5per_1]\n",
    "m14_5per2 = [0.0,m14_dsyr1_5per_1]\n",
    "m14_5per3 = [0.0,m14_wsyr2_5per_1,m14_wsyr2_5per_2,m14_wsyr2_5per_3,\\\n",
    "    m14_wsyr2_5per_4,m14_wsyr2_5per_5]\n",
    "\n",
    "m14_time1 = ['WSYR1\\nT0','WSYR1\\nT1']\n",
    "m14_time2 = ['DSYR1\\nT0','DSYR1\\nT1']\n",
    "m14_time3 = ['WSYR2\\nT0','WSYR2\\nT1', 'WSYR2\\nT2',\\\n",
    "    'WSYR2\\nT3', 'WSYR2\\nT4', 'WSYR2\\nT5']\n",
    "\n",
    "\n",
    "fig, ax = plt.subplots(figsize=(9,5))\n",
    "plt.scatter(m14_time1, m14_5per1)\n",
    "plt.scatter(m14_time2, m14_5per2)\n",
    "plt.scatter(m14_time3, m14_5per3)\n",
    "plt.axvline(x=1.5, color='gray', linestyle='--')\n",
    "plt.axvline(x=3.5, color='gray', linestyle='--')\n",
    "ax.set_ylim(-0.0115,0.001)\n",
    "\n",
    "ax.set_ylabel(r'5th percentile of $\\Delta Z$ (meters)')\n",
    "ax.set_title('MEL-14')\n",
    "plt.show()"
   ]
  },
  {
   "cell_type": "code",
   "execution_count": null,
   "metadata": {},
   "outputs": [],
   "source": [
    "fig, ax = plt.subplots()\n",
    "\n",
    "sns.ecdfplot(ds_diff_m14_wsyr1_sfm_2, x='band1', stat='percent', ax=ax, color='#a4133c', label='12-03-2020 to 02-24-2021')\n",
    "ax.plot([0,0],[0,100], 'k--')\n",
    "ax.set_xlim(-0.04,0.04)\n",
    "ax.set_ylim(0,100)\n",
    "ax.set_xlabel(r'$\\Delta$ Z (meters)')\n",
    "ax.legend()\n",
    "ax.set_title('MEL-14 WSYR1')\n",
    "\n",
    "plt.show()"
   ]
  },
  {
   "cell_type": "code",
   "execution_count": null,
   "metadata": {},
   "outputs": [],
   "source": [
    "fig, ax = plt.subplots()\n",
    "\n",
    "sns.ecdfplot(ds_diff_m14_dsyr1_sfm_2, x='band1', stat='percent', ax=ax, color='#0077b6', label='06-03-2021 to 09-14-2021')\n",
    "ax.plot([0,0],[0,100], 'k--')\n",
    "ax.set_xlim(-0.04,0.04)\n",
    "ax.set_ylim(0,100)\n",
    "ax.set_xlabel(r'$\\Delta$ Z (meters)')\n",
    "ax.legend()\n",
    "ax.set_title('MEL-14 DSYR1')\n",
    "\n",
    "plt.show()"
   ]
  },
  {
   "cell_type": "code",
   "execution_count": null,
   "metadata": {},
   "outputs": [],
   "source": [
    "fig, ax = plt.subplots()\n",
    "\n",
    "sns.ecdfplot(ds_diff_m14_wsyr2_sfm_2, x='band1', stat='percent', ax=ax, color='#CFA3C8', label='03-09-2022 to 03-16-2022')\n",
    "sns.ecdfplot(ds_diff_m14_wsyr2_sfm_3, x='band1', stat='percent', ax=ax, color='#BE95C4', label='03-09-2022 to 03-24-2022')\n",
    "sns.ecdfplot(ds_diff_m14_wsyr2_sfm_4, x='band1', stat='percent', ax=ax, color='#9F86C0', label='03-09-2022 to 04-11-2022')\n",
    "sns.ecdfplot(ds_diff_m14_wsyr2_sfm_5, x='band1', stat='percent', ax=ax, color='#5E548E', label='03-09-2022 to 04-28-2022')\n",
    "sns.ecdfplot(ds_diff_m14_wsyr2_sfm_6, x='band1', stat='percent', ax=ax, color='#231942', label='03-09-2022 to 06-01-2022')\n",
    "ax.plot([0,0],[0,100], 'k--')\n",
    "ax.set_xlim(-0.04,0.04)\n",
    "ax.set_ylim(0,100)\n",
    "ax.set_xlabel(r'$\\Delta$ Z (meters)')\n",
    "ax.legend()\n",
    "ax.set_title('MEL-14 WSYR2')\n",
    "\n",
    "plt.show()"
   ]
  }
 ],
 "metadata": {
  "kernelspec": {
   "display_name": "Python 3 (ipykernel)",
   "language": "python",
   "name": "python3"
  },
  "language_info": {
   "codemirror_mode": {
    "name": "ipython",
    "version": 3
   },
   "file_extension": ".py",
   "mimetype": "text/x-python",
   "name": "python",
   "nbconvert_exporter": "python",
   "pygments_lexer": "ipython3",
   "version": "3.12.0"
  }
 },
 "nbformat": 4,
 "nbformat_minor": 4
}
