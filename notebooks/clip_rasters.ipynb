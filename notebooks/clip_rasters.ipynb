{
 "cells": [
  {
   "cell_type": "code",
   "execution_count": null,
   "id": "57a0a319-8c08-4b19-93eb-12024860369a",
   "metadata": {},
   "outputs": [],
   "source": [
    "%load_ext autoreload\n",
    "%autoreload 2"
   ]
  },
  {
   "cell_type": "code",
   "execution_count": null,
   "id": "ccfd9fb4-031b-4c2a-9f56-144702e5fdf0",
   "metadata": {},
   "outputs": [],
   "source": [
    "from pathlib import Path\n",
    "import rasterio\n",
    "import rioxarray\n",
    "import numpy as np\n",
    "import matplotlib.pyplot as plt\n",
    "import gdown\n",
    "import geopandas as gpd"
   ]
  },
  {
   "cell_type": "code",
   "execution_count": null,
   "id": "9bc0c5d5-a796-4218-a43b-a20bf4f55f5b",
   "metadata": {},
   "outputs": [],
   "source": [
    "#Download KID-13 LiDAR DEMs\n",
    "url = 'https://drive.google.com/drive/u/1/folders/1HZYqsozcfNUbnPZT1gU07FXrz-1QCaHJ'\n",
    "k13_lidar_wsyr1='../data/dems/kid_lidar_wsyr1'\n",
    "gdown.download_folder(url, output=k13_lidar_wsyr1, quiet=False, use_cookies=False)\n",
    "\n",
    "url = 'https://drive.google.com/drive/u/1/folders/1E_m0zWlg11__oyjS6zkb0w1M6u3-Eww5'\n",
    "k13_lidar_dsyr1='../data/dems/kid_lidar_dsyr1'\n",
    "gdown.download_folder(url, output=k13_lidar_dsyr1, quiet=False, use_cookies=False)\n",
    "\n",
    "url = 'https://drive.google.com/drive/u/1/folders/11EnAN2Z3fBMALL2ZcgCOhuwTz06w47Dm'\n",
    "k13_lidar_wsyr2='../data/dems/kid_lidar_wsyr2'\n",
    "gdown.download_folder(url, output=k13_lidar_wsyr2, quiet=False, use_cookies=False)"
   ]
  },
  {
   "cell_type": "code",
   "execution_count": null,
   "id": "46c30b70",
   "metadata": {},
   "outputs": [],
   "source": [
    "#Download KID-13 SfM DSMs\n",
    "url = 'https://drive.google.com/drive/u/1/folders/1AN05fgxtuUhgEAs2aVdNehtKvndVARiz'\n",
    "sfm_dem_folder='../data/dems/kid_sfm_dems'\n",
    "gdown.download_folder(url, output=sfm_dem_folder, quiet=False, use_cookies=False)"
   ]
  },
  {
   "cell_type": "code",
   "execution_count": null,
   "id": "c0d94fd7",
   "metadata": {},
   "outputs": [],
   "source": [
    "url = 'https://drive.google.com/drive/u/1/folders/1L_Qrrjmk-edLfX4yEmO_qDMSZQAIa-8r'\n",
    "mask_folder='../data/vectors/kid_mask'\n",
    "gdown.download_folder(url, output=mask_folder, quiet=False, use_cookies=False)"
   ]
  },
  {
   "cell_type": "code",
   "execution_count": null,
   "id": "516605d1",
   "metadata": {},
   "outputs": [],
   "source": [
    "lidar_dsm_files = sorted(Path(lidar_dem_folder).glob('*.tif'))\n",
    "lidar_dsm_files = [i.as_posix() for i in lidar_dsm_files]\n",
    "\n",
    "sfm_dsm_files = sorted(Path(sfm_dem_folder).glob('*.tif'))\n",
    "sfm_dsm_files = [i.as_posix() for i in sfm_dsm_files]"
   ]
  },
  {
   "cell_type": "code",
   "execution_count": null,
   "id": "bf836b73",
   "metadata": {},
   "outputs": [],
   "source": [
    "lidar_dsm_files, sfm_dsm_files"
   ]
  },
  {
   "cell_type": "code",
   "execution_count": null,
   "id": "6041b342",
   "metadata": {},
   "outputs": [],
   "source": [
    "mask_path = '../data/vectors/kid_mask/KID13_mask.shp'\n",
    "\n",
    "# grab shapefile crs to write to rasters\n",
    "crs = gpd.read_file(mask_path).crs\n",
    "mask_gdf = gpd.read_file(mask_path)"
   ]
  },
  {
   "cell_type": "code",
   "execution_count": null,
   "id": "afd69bf6",
   "metadata": {},
   "outputs": [],
   "source": [
    "lidar = dict()\n",
    "lidar_clip = dict()\n",
    "for i in range(len(lidar_dsm_files)):\n",
    "    lidar[i] = rioxarray.open_rasterio(lidar_dsm_files[i]).squeeze()\n",
    "    lidar[i].rio.write_crs(crs, inplace=True)\n",
    "    lidar_clip[i] = lidar[i].rio.clip(mask_gdf.geometry)\n",
    "    lidar_clip[i].rio.write_nodata(-9999, encoded=True, inplace=True)\n",
    "\n",
    "lidar_reproj = dict()\n",
    "for x in range(len(lidar_dsm_files)-1):\n",
    "    lidar_reproj[x+1] = lidar_clip[x+1].rio.reproject_match(lidar_clip[0], resampling = 3)\n",
    "\n",
    "sfm = dict()\n",
    "sfm_clip = dict()\n",
    "for j in range(len(sfm_dsm_files)):\n",
    "    sfm[j] = rioxarray.open_rasterio(sfm_dsm_files[j]).squeeze()\n",
    "    sfm[j].rio.write_crs(crs, inplace=True)\n",
    "    sfm_clip[j] = sfm[j].rio.clip(mask_gdf.geometry)\n",
    "    sfm_clip[j].rio.write_nodata(-9999, encoded=True, inplace=True)\n",
    "\n",
    "sfm_reproj = dict()\n",
    "for y in range(len(sfm_dsm_files)-1):\n",
    "    sfm_reproj[y+1] = sfm_clip[y+1].rio.reproject_match(sfm_clip[0], resampling = 3)\n"
   ]
  },
  {
   "cell_type": "code",
   "execution_count": null,
   "id": "679ed3cb",
   "metadata": {},
   "outputs": [],
   "source": [
    "lidar_dsm_files"
   ]
  },
  {
   "cell_type": "code",
   "execution_count": null,
   "id": "23794cab-31be-4811-a0b5-aeedb18b1e34",
   "metadata": {
    "tags": []
   },
   "outputs": [],
   "source": [
    "#clipping using rioxarray\n",
    "# Wet season, year 1; LiDAR\n",
    "K13_20201109_LiDAR_clipped = K13_20201109_LiDAR_full.rio.clip(mask_gdf.geometry)\n",
    "K13_20210513_LiDAR_clipped = K13_20210513_LiDAR_full.rio.clip(mask_gdf.geometry)\n",
    "K13_20210513_LiDAR_reproj = K13_20210513_LiDAR_clipped.rio.reproject_match(K13_20201109_LiDAR_clipped, resampling=3)\n",
    "K13_20201109_LiDAR_clipped.rio.to_raster('20201109_KID13_LiDAR.tif')\n",
    "K13_20210513_LiDAR_reproj.rio.to_raster('20210513_KID13_LiDAR.tif')\n",
    "\n",
    "# Wet season, year 1; sfm\n",
    "K13_20201109_sfm_clipped = K13_20201109_sfm_full.rio.clip(mask_gdf.geometry)\n",
    "K13_20210208_sfm_clipped = K13_20210208_sfm_full.rio.clip(mask_gdf.geometry)\n",
    "K13_20210406_sfm_clipped = K13_20210406_sfm_full.rio.clip(mask_gdf.geometry)\n",
    "K13_20210513_sfm_clipped = K13_20210513_sfm_full.rio.clip(mask_gdf.geometry)\n",
    "K13_20210208_sfm_reproj = K13_20210208_sfm_clipped.rio.reproject_match(K13_20201109_sfm_clipped, resampling=3)\n",
    "K13_20210406_sfm_reproj = K13_20210406_sfm_clipped.rio.reproject_match(K13_20201109_sfm_clipped, resampling=3)\n",
    "K13_20210513_sfm_reproj = K13_20210513_sfm_clipped.rio.reproject_match(K13_20201109_sfm_clipped, resampling=3)\n",
    "K13_20201109_sfm_clipped.rio.to_raster('20201109_KID13_sfm.tif')\n",
    "K13_20210208_sfm_reproj.rio.to_raster('20210208_KID13_sfm.tif')\n",
    "K13_20210406_sfm_reproj.rio.to_raster('20210406_KID13_sfm.tif')\n",
    "K13_20210513_sfm_reproj.rio.to_raster('20210513_KID13_sfm.tif')\n",
    "\n",
    "# Dry season, year 1; LiDAR\n",
    "K13_20210604_LiDAR_clipped = K13_20210604_LiDAR_full.rio.clip(mask_gdf.geometry)\n",
    "K13_20210913_LiDAR_clipped = K13_20210913_LiDAR_full.rio.clip(mask_gdf.geometry)\n",
    "K13_20210913_LiDAR_reproj = K13_20210913_LiDAR_clipped.rio.reproject_match(K13_20210604_LiDAR_clipped, resampling=3)\n",
    "K13_20210604_LiDAR_clipped.rio.to_raster('20210604_KID13_LiDAR.tif')\n",
    "K13_20210913_LiDAR_reproj.rio.to_raster('20210913_KID13_LiDAR.tif')\n",
    "\n",
    "# Dry season, year 1; sfm\n",
    "K13_20210604_sfm_clipped = K13_20210604_sfm_full.rio.clip(mask_gdf.geometry)\n",
    "K13_20210819_sfm_clipped = K13_20210819_sfm_full.rio.clip(mask_gdf.geometry)\n",
    "K13_20210913_sfm_clipped = K13_20210913_sfm_full.rio.clip(mask_gdf.geometry)\n",
    "K13_20210819_sfm_reproj = K13_20210819_sfm_clipped.rio.reproject_match(K13_20210604_sfm_clipped, resampling=3)\n",
    "K13_20210913_sfm_reproj = K13_20210913_sfm_clipped.rio.reproject_match(K13_20210604_sfm_clipped, resampling=3)\n",
    "K13_20210604_sfm_clipped.rio.to_raster('20210604_KID13_sfm.tif')\n",
    "K13_20210819_sfm_reproj.rio.to_raster('20210819_KID13_sfm.tif')\n",
    "K13_20210913_sfm_reproj.rio.to_raster('20210913_KID13_sfm.tif')"
   ]
  },
  {
   "cell_type": "code",
   "execution_count": null,
   "id": "6e2fe65b-3685-4d71-9076-5328abee5e7b",
   "metadata": {},
   "outputs": [],
   "source": [
    "fig, ax = plt.subplots(1, 3, figsize=(8,4))\n",
    "\n",
    "m0 = ax[0].imshow(K13_20201109_LiDAR_clipped, cmap = 'viridis', vmin=501, vmax=506)\n",
    "ax[0].set_title('KID-13 2020-11-09\\nLiDAR')\n",
    "fig.colorbar(m0, label='Elevation (m)', extend='both', ax=ax[0])\n",
    "ax[0].set_facecolor('k')\n",
    "ax[0].set_xticks(())\n",
    "ax[0].set_yticks(());\n",
    "\n",
    "m1 = ax[1].imshow(K13_20210513_LiDAR_clipped, cmap = 'viridis', vmin=501, vmax=506)\n",
    "ax[1].set_title('KID-13 2021-05-13\\nLiDAR')\n",
    "fig.colorbar(m1, label='Elevation (m)', extend='both', ax=ax[1])\n",
    "ax[1].set_facecolor('k')\n",
    "ax[1].set_xticks(())\n",
    "ax[1].set_yticks(());\n",
    "\n",
    "diff = K13_20210513_LiDAR_reproj-K13_20201109_LiDAR_clipped\n",
    "m2 = ax[2].imshow(diff, cmap = 'RdBu', vmin=-0.05, vmax=0.05)\n",
    "ax[2].set_title('KID-13\\n2020-11-09 to 2021-05-13\\nLiDAR')\n",
    "fig.colorbar(m2, label='Elevation (m)', extend='both', ax=ax[2])\n",
    "ax[2].set_facecolor('k')\n",
    "ax[2].set_xticks(())\n",
    "ax[2].set_yticks(());"
   ]
  },
  {
   "cell_type": "code",
   "execution_count": null,
   "id": "c3e39195-27c5-4940-b8cb-ddc67c0f082b",
   "metadata": {},
   "outputs": [],
   "source": [
    "fig, ax = plt.subplots(1, 3, figsize=(8,4))\n",
    "\n",
    "m0 = ax[0].imshow(K13_20210604_LiDAR_clipped, cmap = 'viridis', vmin=501, vmax=506)\n",
    "ax[0].set_title('KID-13 2021-06-04\\nLiDAR')\n",
    "fig.colorbar(m0, label='Elevation (m)', extend='both', ax=ax[0])\n",
    "ax[0].set_facecolor('k')\n",
    "ax[0].set_xticks(())\n",
    "ax[0].set_yticks(());\n",
    "\n",
    "m1 = ax[1].imshow(K13_20210513_LiDAR_clipped, cmap = 'viridis', vmin=501, vmax=506)\n",
    "ax[1].set_title('KID-13 2021-09-13\\nLiDAR')\n",
    "fig.colorbar(m1, label='Elevation (m)', extend='both', ax=ax[1])\n",
    "ax[1].set_facecolor('k')\n",
    "ax[1].set_xticks(())\n",
    "ax[1].set_yticks(());\n",
    "\n",
    "diff = K13_20210913_LiDAR_reproj-K13_20210604_LiDAR_clipped\n",
    "m2 = ax[2].imshow(diff, cmap = 'RdBu', vmin=-0.05, vmax=0.05)\n",
    "ax[2].set_title('KID-13\\n2021-06-04 to 2021-09-13\\nLiDAR')\n",
    "fig.colorbar(m2, label='Elevation (m)', extend='both', ax=ax[2])\n",
    "ax[2].set_facecolor('k')\n",
    "ax[2].set_xticks(())\n",
    "ax[2].set_yticks(());"
   ]
  },
  {
   "cell_type": "code",
   "execution_count": null,
   "id": "414a0367-e2e6-42cf-b8a9-2783d6b7cdea",
   "metadata": {},
   "outputs": [],
   "source": [
    "fig, ax = plt.subplots(1, 4, figsize=(15,4))\n",
    "\n",
    "m0 = ax[0].imshow(K13_20201109_sfm_clipped, cmap = 'viridis', vmin=501, vmax=506)\n",
    "ax[0].set_title('KID-13 2020-11-09\\nSfM')\n",
    "fig.colorbar(m0, label='Elevation (m)', extend='both', ax=ax[0])\n",
    "ax[0].set_facecolor('k')\n",
    "ax[0].set_xticks(())\n",
    "ax[0].set_yticks(());\n",
    "\n",
    "m1 = ax[1].imshow(K13_20210208_sfm_reproj, cmap = 'viridis', vmin=501, vmax=506)\n",
    "ax[1].set_title('KID-13 2021-02-08\\nSfM')\n",
    "fig.colorbar(m1, label='Elevation (m)', extend='both', ax=ax[1])\n",
    "ax[1].set_facecolor('k')\n",
    "ax[1].set_xticks(())\n",
    "ax[1].set_yticks(());\n",
    "\n",
    "m2 = ax[2].imshow(K13_20210406_sfm_reproj, cmap = 'viridis', vmin=501, vmax=506)\n",
    "ax[2].set_title('KID-13 2021-04-06\\nSfM')\n",
    "fig.colorbar(m2, label='Elevation (m)', extend='both', ax=ax[2])\n",
    "ax[2].set_facecolor('k')\n",
    "ax[2].set_xticks(())\n",
    "ax[2].set_yticks(());\n",
    "\n",
    "m3 = ax[3].imshow(K13_20210513_sfm_reproj, cmap = 'viridis', vmin=501, vmax=506)\n",
    "ax[3].set_title('KID-13 2021-05-13\\nSfM')\n",
    "fig.colorbar(m3, label='Elevation (m)', extend='both', ax=ax[3])\n",
    "ax[3].set_facecolor('k')\n",
    "ax[3].set_xticks(())\n",
    "ax[3].set_yticks(());"
   ]
  },
  {
   "cell_type": "code",
   "execution_count": null,
   "id": "5dcba975-61f6-464b-ba46-798a78596157",
   "metadata": {},
   "outputs": [],
   "source": [
    "fig, ax = plt.subplots(1, 3, figsize=(15,4))\n",
    "\n",
    "m0 = ax[0].imshow(K13_20210208_sfm_reproj-K13_20201109_sfm_clipped, cmap = 'RdBu', vmin=-0.05, vmax=0.05)\n",
    "ax[0].set_title('KID-13\\n2020-11-09 to 2021-02-08\\nSfM')\n",
    "fig.colorbar(m0, label='Elevation (m)', extend='both', ax=ax[0])\n",
    "ax[0].set_facecolor('k')\n",
    "ax[0].set_xticks(())\n",
    "ax[0].set_yticks(());\n",
    "\n",
    "m1 = ax[1].imshow(K13_20210406_sfm_reproj-K13_20201109_sfm_clipped, cmap = 'RdBu', vmin=-0.05, vmax=0.05)\n",
    "ax[1].set_title('KID-13\\n2020-11-09 to 2021-04-06\\nSfM')\n",
    "fig.colorbar(m1, label='Elevation (m)', extend='both', ax=ax[1])\n",
    "ax[1].set_facecolor('k')\n",
    "ax[1].set_xticks(())\n",
    "ax[1].set_yticks(());\n",
    "\n",
    "m2 = ax[2].imshow(K13_20210513_sfm_reproj-K13_20201109_sfm_clipped, cmap = 'RdBu', vmin=-0.05, vmax=0.05)\n",
    "ax[2].set_title('KID-13\\n2020-11-09 to 2021-05-13\\nSfM')\n",
    "fig.colorbar(m2, label='Elevation (m)', extend='both', ax=ax[2])\n",
    "ax[2].set_facecolor('k')\n",
    "ax[2].set_xticks(())\n",
    "ax[2].set_yticks(());"
   ]
  },
  {
   "cell_type": "code",
   "execution_count": null,
   "id": "64b9a623-6e85-4762-bd23-0edbc7f6d8c9",
   "metadata": {},
   "outputs": [],
   "source": []
  }
 ],
 "metadata": {
  "kernelspec": {
   "display_name": "Python 3 (ipykernel)",
   "language": "python",
   "name": "python3"
  },
  "language_info": {
   "codemirror_mode": {
    "name": "ipython",
    "version": 3
   },
   "file_extension": ".py",
   "mimetype": "text/x-python",
   "name": "python",
   "nbconvert_exporter": "python",
   "pygments_lexer": "ipython3",
   "version": "3.12.0"
  }
 },
 "nbformat": 4,
 "nbformat_minor": 5
}
