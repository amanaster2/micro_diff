{
 "cells": [
  {
   "cell_type": "code",
   "execution_count": 1,
   "id": "57a0a319-8c08-4b19-93eb-12024860369a",
   "metadata": {},
   "outputs": [],
   "source": [
    "%load_ext autoreload\n",
    "%autoreload 2"
   ]
  },
  {
   "cell_type": "code",
   "execution_count": 2,
   "id": "ccfd9fb4-031b-4c2a-9f56-144702e5fdf0",
   "metadata": {},
   "outputs": [],
   "source": [
    "from pathlib import Path\n",
    "import rasterio\n",
    "import rioxarray\n",
    "import numpy as np\n",
    "import matplotlib.pyplot as plt\n",
    "import gdown\n",
    "import geopandas as gpd"
   ]
  },
  {
   "cell_type": "code",
   "execution_count": 3,
   "id": "9bc0c5d5-a796-4218-a43b-a20bf4f55f5b",
   "metadata": {},
   "outputs": [
    {
     "name": "stderr",
     "output_type": "stream",
     "text": [
      "Retrieving folder list\n"
     ]
    },
    {
     "name": "stdout",
     "output_type": "stream",
     "text": [
      "Processing file 1ffCHEEL3lWiCrb-J-6pqw9uuU40AFADN K13_lidar_20201109_cc.tif\n",
      "Processing file 1Ueco26pr-UEjvU1byvjZC7clmdIbm2lh K13_lidar_20210513_cc.tif\n",
      "Processing file 1NxZ5GjWQ_XGKTohoI2aXtEOcD7S9Ee97 K13_lidar_20210604_cc.tif\n",
      "Processing file 1dbMqydCYRGUx_TO5IeLlVgkyxg-fyUKU K13_lidar_20210913_cc.tif\n",
      "Processing file 1-GSGfa9_4tzNDJiwxltTl2KA_OFuxzyu K13_lidar_20211007_cc.tif\n",
      "Processing file 10J5D2_wF8akB2jmpzbh898BVE0PSZlbc K13_lidar_20220531_cc.tif\n",
      "Building directory structure completed\n"
     ]
    },
    {
     "name": "stderr",
     "output_type": "stream",
     "text": [
      "Retrieving folder list completed\n",
      "Building directory structure\n",
      "Downloading...\n",
      "From (uriginal): https://drive.google.com/uc?id=1ffCHEEL3lWiCrb-J-6pqw9uuU40AFADN\n",
      "From (redirected): https://drive.google.com/uc?id=1ffCHEEL3lWiCrb-J-6pqw9uuU40AFADN&confirm=t&uuid=150b57d7-f978-4f7c-9313-3307c14b01a4\n",
      "To: /home/adalvis/github/micro_diff/data/dems/kid_lidar_dems/K13_lidar_20201109_cc.tif\n",
      "100%|██████████| 219M/219M [00:03<00:00, 60.9MB/s] \n",
      "Downloading...\n",
      "From (uriginal): https://drive.google.com/uc?id=1Ueco26pr-UEjvU1byvjZC7clmdIbm2lh\n",
      "From (redirected): https://drive.google.com/uc?id=1Ueco26pr-UEjvU1byvjZC7clmdIbm2lh&confirm=t&uuid=1fdbb964-a52e-4231-b451-f50a142da519\n",
      "To: /home/adalvis/github/micro_diff/data/dems/kid_lidar_dems/K13_lidar_20210513_cc.tif\n",
      "100%|██████████| 314M/314M [00:05<00:00, 60.1MB/s] \n",
      "Downloading...\n",
      "From (uriginal): https://drive.google.com/uc?id=1NxZ5GjWQ_XGKTohoI2aXtEOcD7S9Ee97\n",
      "From (redirected): https://drive.google.com/uc?id=1NxZ5GjWQ_XGKTohoI2aXtEOcD7S9Ee97&confirm=t&uuid=9a4324a2-af06-4d18-9b6f-d52682f937fa\n",
      "To: /home/adalvis/github/micro_diff/data/dems/kid_lidar_dems/K13_lidar_20210604_cc.tif\n",
      "100%|██████████| 606M/606M [00:09<00:00, 64.6MB/s] \n",
      "Downloading...\n",
      "From (uriginal): https://drive.google.com/uc?id=1dbMqydCYRGUx_TO5IeLlVgkyxg-fyUKU\n",
      "From (redirected): https://drive.google.com/uc?id=1dbMqydCYRGUx_TO5IeLlVgkyxg-fyUKU&confirm=t&uuid=202206f4-e544-40b2-b91d-644fbad751b5\n",
      "To: /home/adalvis/github/micro_diff/data/dems/kid_lidar_dems/K13_lidar_20210913_cc.tif\n",
      "100%|██████████| 707M/707M [00:13<00:00, 52.0MB/s] \n",
      "Downloading...\n",
      "From (uriginal): https://drive.google.com/uc?id=1-GSGfa9_4tzNDJiwxltTl2KA_OFuxzyu\n",
      "From (redirected): https://drive.google.com/uc?id=1-GSGfa9_4tzNDJiwxltTl2KA_OFuxzyu&confirm=t&uuid=4806021c-a6ea-4340-a32f-ba9f7696a618\n",
      "To: /home/adalvis/github/micro_diff/data/dems/kid_lidar_dems/K13_lidar_20211007_cc.tif\n",
      "100%|██████████| 676M/676M [00:10<00:00, 62.6MB/s] \n",
      "Downloading...\n",
      "From (uriginal): https://drive.google.com/uc?id=10J5D2_wF8akB2jmpzbh898BVE0PSZlbc\n",
      "From (redirected): https://drive.google.com/uc?id=10J5D2_wF8akB2jmpzbh898BVE0PSZlbc&confirm=t&uuid=eae255bb-9fd4-448f-a57a-7e8204541623\n",
      "To: /home/adalvis/github/micro_diff/data/dems/kid_lidar_dems/K13_lidar_20220531_cc.tif\n",
      "100%|██████████| 257M/257M [00:07<00:00, 34.5MB/s] \n",
      "Download completed\n"
     ]
    },
    {
     "data": {
      "text/plain": [
       "['../data/dems/kid_lidar_dems/K13_lidar_20201109_cc.tif',\n",
       " '../data/dems/kid_lidar_dems/K13_lidar_20210513_cc.tif',\n",
       " '../data/dems/kid_lidar_dems/K13_lidar_20210604_cc.tif',\n",
       " '../data/dems/kid_lidar_dems/K13_lidar_20210913_cc.tif',\n",
       " '../data/dems/kid_lidar_dems/K13_lidar_20211007_cc.tif',\n",
       " '../data/dems/kid_lidar_dems/K13_lidar_20220531_cc.tif']"
      ]
     },
     "execution_count": 3,
     "metadata": {},
     "output_type": "execute_result"
    }
   ],
   "source": [
    "#Download KID-13 LiDAR DEMs\n",
    "url = 'https://drive.google.com/drive/u/1/folders/1kPGGWxkNi5d6pU5s-GOKV4ZY-Ch7tY3D'\n",
    "lidar_dem_folder='../data/dems/kid_lidar_dems'\n",
    "gdown.download_folder(url, output=lidar_dem_folder, quiet=False, use_cookies=False)"
   ]
  },
  {
   "cell_type": "code",
   "execution_count": 4,
   "id": "46c30b70",
   "metadata": {},
   "outputs": [
    {
     "name": "stderr",
     "output_type": "stream",
     "text": [
      "Retrieving folder list\n"
     ]
    },
    {
     "name": "stdout",
     "output_type": "stream",
     "text": [
      "Processing file 1RZylWk8ok5EqQEvVUvAEVHV-A2WL8srx K13_sfm_20201109_cc.tif\n",
      "Processing file 1dbj0kEsb5LWqOspQnWKUHRCl_5p4rpe_ K13_sfm_20210208_cc.tif\n",
      "Processing file 1nVFMcC4FN2NejME3IFUKpy3pcCuNgF2A K13_sfm_20210406_cc.tif\n",
      "Processing file 1iuL43K2KJ_4F38eDprDWSotV8Qy6DFLO K13_sfm_20210513_cc.tif\n",
      "Processing file 1pxw2Iuqlh-HuvyTVHx7lw5nUXswPhRhc K13_sfm_20210604_cc.tif\n",
      "Processing file 1fGu58buemDeh6Vxz0984KSfshsP2aRYP K13_sfm_20210819_cc.tif\n",
      "Processing file 1q_mG_Dmb1pRymwXNiCGdDbV3jw9wrT-u K13_sfm_20210913_cc.tif\n",
      "Processing file 1WTEAN1O58uYhQqhgTFHW2IlWTIN0Mf-y K13_sfm_20211007_cc.tif\n",
      "Processing file 1wi0KTy6Vg1WKxJAWvFH17R52N2DbF2kb K13_sfm_20220208_cc.tif\n",
      "Processing file 1Za7onEOTykNy7OXwD01OnT6fUmiVx1Cd K13_sfm_20220503_cc.tif\n",
      "Processing file 1gAFx2fmU17NzAaynDcJ6TKQS9TfujIM3 K13_sfm_20220531_cc.tif\n",
      "Building directory structure completed\n"
     ]
    },
    {
     "name": "stderr",
     "output_type": "stream",
     "text": [
      "Retrieving folder list completed\n",
      "Building directory structure\n",
      "Downloading...\n",
      "From (uriginal): https://drive.google.com/uc?id=1RZylWk8ok5EqQEvVUvAEVHV-A2WL8srx\n",
      "From (redirected): https://drive.google.com/uc?id=1RZylWk8ok5EqQEvVUvAEVHV-A2WL8srx&confirm=t&uuid=75675dad-454b-48f2-b3ae-a13e8fdbda5c\n",
      "To: /home/adalvis/github/micro_diff/data/dems/kid_sfm_dems/K13_sfm_20201109_cc.tif\n",
      "100%|██████████| 322M/322M [00:05<00:00, 61.0MB/s] \n",
      "Downloading...\n",
      "From (uriginal): https://drive.google.com/uc?id=1dbj0kEsb5LWqOspQnWKUHRCl_5p4rpe_\n",
      "From (redirected): https://drive.google.com/uc?id=1dbj0kEsb5LWqOspQnWKUHRCl_5p4rpe_&confirm=t&uuid=4674ae51-5a88-4483-98ce-92cc35a0f1d0\n",
      "To: /home/adalvis/github/micro_diff/data/dems/kid_sfm_dems/K13_sfm_20210208_cc.tif\n",
      "100%|██████████| 405M/405M [00:06<00:00, 63.7MB/s] \n",
      "Downloading...\n",
      "From (uriginal): https://drive.google.com/uc?id=1nVFMcC4FN2NejME3IFUKpy3pcCuNgF2A\n",
      "From (redirected): https://drive.google.com/uc?id=1nVFMcC4FN2NejME3IFUKpy3pcCuNgF2A&confirm=t&uuid=f8b8da26-0bff-4145-85e9-03b8d0bcdf79\n",
      "To: /home/adalvis/github/micro_diff/data/dems/kid_sfm_dems/K13_sfm_20210406_cc.tif\n",
      "100%|██████████| 499M/499M [00:08<00:00, 60.2MB/s] \n",
      "Downloading...\n",
      "From (uriginal): https://drive.google.com/uc?id=1iuL43K2KJ_4F38eDprDWSotV8Qy6DFLO\n",
      "From (redirected): https://drive.google.com/uc?id=1iuL43K2KJ_4F38eDprDWSotV8Qy6DFLO&confirm=t&uuid=62aaef8c-5b36-42ae-95bc-5bd4950b250f\n",
      "To: /home/adalvis/github/micro_diff/data/dems/kid_sfm_dems/K13_sfm_20210513_cc.tif\n",
      "100%|██████████| 283M/283M [00:05<00:00, 54.2MB/s] \n",
      "Downloading...\n",
      "From (uriginal): https://drive.google.com/uc?id=1pxw2Iuqlh-HuvyTVHx7lw5nUXswPhRhc\n",
      "From (redirected): https://drive.google.com/uc?id=1pxw2Iuqlh-HuvyTVHx7lw5nUXswPhRhc&confirm=t&uuid=18c7b032-12e9-488c-90fd-95090235878c\n",
      "To: /home/adalvis/github/micro_diff/data/dems/kid_sfm_dems/K13_sfm_20210604_cc.tif\n",
      "100%|██████████| 458M/458M [00:09<00:00, 46.7MB/s] \n",
      "Downloading...\n",
      "From (uriginal): https://drive.google.com/uc?id=1fGu58buemDeh6Vxz0984KSfshsP2aRYP\n",
      "From (redirected): https://drive.google.com/uc?id=1fGu58buemDeh6Vxz0984KSfshsP2aRYP&confirm=t&uuid=988b3b6b-2e85-490f-bfe9-3ce7d5c44ac8\n",
      "To: /home/adalvis/github/micro_diff/data/dems/kid_sfm_dems/K13_sfm_20210819_cc.tif\n",
      "100%|██████████| 264M/264M [00:05<00:00, 52.2MB/s] \n",
      "Downloading...\n",
      "From (uriginal): https://drive.google.com/uc?id=1q_mG_Dmb1pRymwXNiCGdDbV3jw9wrT-u\n",
      "From (redirected): https://drive.google.com/uc?id=1q_mG_Dmb1pRymwXNiCGdDbV3jw9wrT-u&confirm=t&uuid=4594899d-5572-4515-9366-38f73bfd8e7b\n",
      "To: /home/adalvis/github/micro_diff/data/dems/kid_sfm_dems/K13_sfm_20210913_cc.tif\n",
      "100%|██████████| 292M/292M [00:05<00:00, 57.4MB/s] \n",
      "Downloading...\n",
      "From (uriginal): https://drive.google.com/uc?id=1WTEAN1O58uYhQqhgTFHW2IlWTIN0Mf-y\n",
      "From (redirected): https://drive.google.com/uc?id=1WTEAN1O58uYhQqhgTFHW2IlWTIN0Mf-y&confirm=t&uuid=2beb8631-d47a-4a4f-971b-5cd6fa64e35d\n",
      "To: /home/adalvis/github/micro_diff/data/dems/kid_sfm_dems/K13_sfm_20211007_cc.tif\n",
      "100%|██████████| 234M/234M [00:04<00:00, 50.8MB/s] \n",
      "Downloading...\n",
      "From (uriginal): https://drive.google.com/uc?id=1wi0KTy6Vg1WKxJAWvFH17R52N2DbF2kb\n",
      "From (redirected): https://drive.google.com/uc?id=1wi0KTy6Vg1WKxJAWvFH17R52N2DbF2kb&confirm=t&uuid=e4d6d6ec-f6b5-4f10-b6de-ab8d1c62a711\n",
      "To: /home/adalvis/github/micro_diff/data/dems/kid_sfm_dems/K13_sfm_20220208_cc.tif\n",
      "100%|██████████| 313M/313M [00:05<00:00, 57.4MB/s] \n",
      "Downloading...\n",
      "From (uriginal): https://drive.google.com/uc?id=1Za7onEOTykNy7OXwD01OnT6fUmiVx1Cd\n",
      "From (redirected): https://drive.google.com/uc?id=1Za7onEOTykNy7OXwD01OnT6fUmiVx1Cd&confirm=t&uuid=8f083d19-8a9b-4233-836e-0385fe32eda3\n",
      "To: /home/adalvis/github/micro_diff/data/dems/kid_sfm_dems/K13_sfm_20220503_cc.tif\n",
      "100%|██████████| 350M/350M [00:09<00:00, 38.6MB/s] \n",
      "Downloading...\n",
      "From (uriginal): https://drive.google.com/uc?id=1gAFx2fmU17NzAaynDcJ6TKQS9TfujIM3\n",
      "From (redirected): https://drive.google.com/uc?id=1gAFx2fmU17NzAaynDcJ6TKQS9TfujIM3&confirm=t&uuid=dbc6c9b4-5a97-4224-a0e4-5193f0fd011c\n",
      "To: /home/adalvis/github/micro_diff/data/dems/kid_sfm_dems/K13_sfm_20220531_cc.tif\n",
      "100%|██████████| 384M/384M [00:10<00:00, 36.0MB/s] \n",
      "Download completed\n"
     ]
    },
    {
     "data": {
      "text/plain": [
       "['../data/dems/kid_sfm_dems/K13_sfm_20201109_cc.tif',\n",
       " '../data/dems/kid_sfm_dems/K13_sfm_20210208_cc.tif',\n",
       " '../data/dems/kid_sfm_dems/K13_sfm_20210406_cc.tif',\n",
       " '../data/dems/kid_sfm_dems/K13_sfm_20210513_cc.tif',\n",
       " '../data/dems/kid_sfm_dems/K13_sfm_20210604_cc.tif',\n",
       " '../data/dems/kid_sfm_dems/K13_sfm_20210819_cc.tif',\n",
       " '../data/dems/kid_sfm_dems/K13_sfm_20210913_cc.tif',\n",
       " '../data/dems/kid_sfm_dems/K13_sfm_20211007_cc.tif',\n",
       " '../data/dems/kid_sfm_dems/K13_sfm_20220208_cc.tif',\n",
       " '../data/dems/kid_sfm_dems/K13_sfm_20220503_cc.tif',\n",
       " '../data/dems/kid_sfm_dems/K13_sfm_20220531_cc.tif']"
      ]
     },
     "execution_count": 4,
     "metadata": {},
     "output_type": "execute_result"
    }
   ],
   "source": [
    "#Download KID-13 SfM DSMs\n",
    "url = 'https://drive.google.com/drive/u/1/folders/1AN05fgxtuUhgEAs2aVdNehtKvndVARiz'\n",
    "sfm_dem_folder='../data/dems/kid_sfm_dems'\n",
    "gdown.download_folder(url, output=sfm_dem_folder, quiet=False, use_cookies=False)"
   ]
  },
  {
   "cell_type": "code",
   "execution_count": 5,
   "id": "c0d94fd7",
   "metadata": {},
   "outputs": [
    {
     "name": "stderr",
     "output_type": "stream",
     "text": [
      "Retrieving folder list\n"
     ]
    },
    {
     "name": "stdout",
     "output_type": "stream",
     "text": [
      "Processing file 1hdaX9AxPGAIdGN_uGElTjcNTaKT-Qp-0 KID13_mask.cpg\n",
      "Processing file 1SYGY6aNfjpq7cZNCIsi5x7Es_JO_NJTP KID13_mask.dbf\n",
      "Processing file 1Dn4EBZxCEhdB0JtfUd4pNSKXLFyTr7T0 KID13_mask.prj\n",
      "Processing file 1eTq6dxCuD-OmftNLelCc9yZ2-EK_kO2c KID13_mask.shp\n",
      "Processing file 1E9KZM7gCI8dEEXEUXpArNvNh_dFHqJY6 KID13_mask.shx\n",
      "Building directory structure completed\n"
     ]
    },
    {
     "name": "stderr",
     "output_type": "stream",
     "text": [
      "Retrieving folder list completed\n",
      "Building directory structure\n",
      "Downloading...\n",
      "From: https://drive.google.com/uc?id=1hdaX9AxPGAIdGN_uGElTjcNTaKT-Qp-0\n",
      "To: /home/adalvis/github/micro_diff/data/vectors/kid_mask/KID13_mask.cpg\n",
      "100%|██████████| 5.00/5.00 [00:00<00:00, 38.2kB/s]\n",
      "Downloading...\n",
      "From: https://drive.google.com/uc?id=1SYGY6aNfjpq7cZNCIsi5x7Es_JO_NJTP\n",
      "To: /home/adalvis/github/micro_diff/data/vectors/kid_mask/KID13_mask.dbf\n",
      "100%|██████████| 35.0k/35.0k [00:00<00:00, 3.85MB/s]\n",
      "Downloading...\n",
      "From: https://drive.google.com/uc?id=1Dn4EBZxCEhdB0JtfUd4pNSKXLFyTr7T0\n",
      "To: /home/adalvis/github/micro_diff/data/vectors/kid_mask/KID13_mask.prj\n",
      "100%|██████████| 87.0/87.0 [00:00<00:00, 652kB/s]\n",
      "Downloading...\n",
      "From: https://drive.google.com/uc?id=1eTq6dxCuD-OmftNLelCc9yZ2-EK_kO2c\n",
      "To: /home/adalvis/github/micro_diff/data/vectors/kid_mask/KID13_mask.shp\n",
      "100%|██████████| 480k/480k [00:00<00:00, 8.90MB/s]\n",
      "Downloading...\n",
      "From: https://drive.google.com/uc?id=1E9KZM7gCI8dEEXEUXpArNvNh_dFHqJY6\n",
      "To: /home/adalvis/github/micro_diff/data/vectors/kid_mask/KID13_mask.shx\n",
      "100%|██████████| 9.11k/9.11k [00:00<00:00, 54.9MB/s]\n",
      "Download completed\n"
     ]
    },
    {
     "data": {
      "text/plain": [
       "['../data/vectors/kid_mask/KID13_mask.cpg',\n",
       " '../data/vectors/kid_mask/KID13_mask.dbf',\n",
       " '../data/vectors/kid_mask/KID13_mask.prj',\n",
       " '../data/vectors/kid_mask/KID13_mask.shp',\n",
       " '../data/vectors/kid_mask/KID13_mask.shx']"
      ]
     },
     "execution_count": 5,
     "metadata": {},
     "output_type": "execute_result"
    }
   ],
   "source": [
    "url = 'https://drive.google.com/drive/u/1/folders/1L_Qrrjmk-edLfX4yEmO_qDMSZQAIa-8r'\n",
    "mask_folder='../data/vectors/kid_mask'\n",
    "gdown.download_folder(url, output=mask_folder, quiet=False, use_cookies=False)"
   ]
  },
  {
   "cell_type": "code",
   "execution_count": 6,
   "id": "516605d1",
   "metadata": {},
   "outputs": [],
   "source": [
    "lidar_dsm_files = sorted(Path(lidar_dem_folder).glob('*.tif'))\n",
    "lidar_dsm_files = [i.as_posix() for i in lidar_dsm_files]\n",
    "\n",
    "sfm_dsm_files = sorted(Path(sfm_dem_folder).glob('*.tif'))\n",
    "sfm_dsm_files = [i.as_posix() for i in sfm_dsm_files]"
   ]
  },
  {
   "cell_type": "code",
   "execution_count": 7,
   "id": "bf836b73",
   "metadata": {},
   "outputs": [
    {
     "data": {
      "text/plain": [
       "(['../data/dems/kid_lidar_dems/K13_lidar_20201109_cc.tif',\n",
       "  '../data/dems/kid_lidar_dems/K13_lidar_20210513_cc.tif',\n",
       "  '../data/dems/kid_lidar_dems/K13_lidar_20210604_cc.tif',\n",
       "  '../data/dems/kid_lidar_dems/K13_lidar_20210913_cc.tif',\n",
       "  '../data/dems/kid_lidar_dems/K13_lidar_20211007_cc.tif',\n",
       "  '../data/dems/kid_lidar_dems/K13_lidar_20220531_cc.tif'],\n",
       " ['../data/dems/kid_sfm_dems/K13_sfm_20201109_cc.tif',\n",
       "  '../data/dems/kid_sfm_dems/K13_sfm_20210208_cc.tif',\n",
       "  '../data/dems/kid_sfm_dems/K13_sfm_20210406_cc.tif',\n",
       "  '../data/dems/kid_sfm_dems/K13_sfm_20210513_cc.tif',\n",
       "  '../data/dems/kid_sfm_dems/K13_sfm_20210604_cc.tif',\n",
       "  '../data/dems/kid_sfm_dems/K13_sfm_20210819_cc.tif',\n",
       "  '../data/dems/kid_sfm_dems/K13_sfm_20210913_cc.tif',\n",
       "  '../data/dems/kid_sfm_dems/K13_sfm_20211007_cc.tif',\n",
       "  '../data/dems/kid_sfm_dems/K13_sfm_20220208_cc.tif',\n",
       "  '../data/dems/kid_sfm_dems/K13_sfm_20220503_cc.tif',\n",
       "  '../data/dems/kid_sfm_dems/K13_sfm_20220531_cc.tif'])"
      ]
     },
     "execution_count": 7,
     "metadata": {},
     "output_type": "execute_result"
    }
   ],
   "source": [
    "lidar_dsm_files, sfm_dsm_files"
   ]
  },
  {
   "cell_type": "code",
   "execution_count": 8,
   "id": "6041b342",
   "metadata": {},
   "outputs": [],
   "source": [
    "mask_path = '../data/vectors/kid_mask/KID13_mask.shp'\n",
    "\n",
    "# grab shapefile crs to write to rasters\n",
    "crs = gpd.read_file(mask_path).crs\n",
    "mask_gdf = gpd.read_file(mask_path)"
   ]
  },
  {
   "cell_type": "code",
   "execution_count": 9,
   "id": "afd69bf6",
   "metadata": {},
   "outputs": [],
   "source": [
    "lidar = dict()\n",
    "lidar_clip = dict()\n",
    "for i in range(len(lidar_dsm_files)):\n",
    "    lidar[i] = rioxarray.open_rasterio(lidar_dsm_files[i]).squeeze()\n",
    "    lidar[i].rio.write_crs(crs, inplace=True)\n",
    "    lidar_clip[i] = lidar[i].rio.clip(mask_gdf.geometry)\n",
    "    lidar_clip[i].rio.write_nodata(-9999, encoded=True, inplace=True)\n",
    "\n",
    "lidar_reproj = dict()\n",
    "for x in range(len(lidar_dsm_files)-1):\n",
    "    lidar_reproj[x+1] = lidar_clip[x+1].rio.reproject_match(lidar_clip[0], resampling = 3)\n",
    "\n",
    "sfm = dict()\n",
    "sfm_clip = dict()\n",
    "for j in range(len(sfm_dsm_files)):\n",
    "    sfm[j] = rioxarray.open_rasterio(sfm_dsm_files[j]).squeeze()\n",
    "    sfm[j].rio.write_crs(crs, inplace=True)\n",
    "    sfm_clip[j] = sfm[j].rio.clip(mask_gdf.geometry)\n",
    "    sfm_clip[j].rio.write_nodata(-9999, encoded=True, inplace=True)\n",
    "\n",
    "sfm_reproj = dict()\n",
    "for y in range(len(sfm_dsm_files)-1):\n",
    "    sfm_reproj[y+1] = sfm_clip[y+1].rio.reproject_match(sfm_clip[0], resampling = 3)\n"
   ]
  },
  {
   "cell_type": "code",
   "execution_count": 16,
   "id": "679ed3cb",
   "metadata": {},
   "outputs": [
    {
     "data": {
      "text/plain": [
       "['../data/dems/kid_lidar_dems/K13_lidar_20201109_cc.tif',\n",
       " '../data/dems/kid_lidar_dems/K13_lidar_20210513_cc.tif',\n",
       " '../data/dems/kid_lidar_dems/K13_lidar_20210604_cc.tif',\n",
       " '../data/dems/kid_lidar_dems/K13_lidar_20210913_cc.tif',\n",
       " '../data/dems/kid_lidar_dems/K13_lidar_20211007_cc.tif',\n",
       " '../data/dems/kid_lidar_dems/K13_lidar_20220531_cc.tif']"
      ]
     },
     "execution_count": 16,
     "metadata": {},
     "output_type": "execute_result"
    }
   ],
   "source": [
    "lidar_dsm_files"
   ]
  },
  {
   "cell_type": "code",
   "execution_count": null,
   "id": "23794cab-31be-4811-a0b5-aeedb18b1e34",
   "metadata": {
    "tags": []
   },
   "outputs": [],
   "source": [
    "#clipping using rioxarray\n",
    "# Wet season, year 1; LiDAR\n",
    "K13_20201109_LiDAR_clipped = K13_20201109_LiDAR_full.rio.clip(mask_gdf.geometry)\n",
    "K13_20210513_LiDAR_clipped = K13_20210513_LiDAR_full.rio.clip(mask_gdf.geometry)\n",
    "K13_20210513_LiDAR_reproj = K13_20210513_LiDAR_clipped.rio.reproject_match(K13_20201109_LiDAR_clipped, resampling=3)\n",
    "K13_20201109_LiDAR_clipped.rio.to_raster('20201109_KID13_LiDAR.tif')\n",
    "K13_20210513_LiDAR_reproj.rio.to_raster('20210513_KID13_LiDAR.tif')\n",
    "\n",
    "# Wet season, year 1; sfm\n",
    "K13_20201109_sfm_clipped = K13_20201109_sfm_full.rio.clip(mask_gdf.geometry)\n",
    "K13_20210208_sfm_clipped = K13_20210208_sfm_full.rio.clip(mask_gdf.geometry)\n",
    "K13_20210406_sfm_clipped = K13_20210406_sfm_full.rio.clip(mask_gdf.geometry)\n",
    "K13_20210513_sfm_clipped = K13_20210513_sfm_full.rio.clip(mask_gdf.geometry)\n",
    "K13_20210208_sfm_reproj = K13_20210208_sfm_clipped.rio.reproject_match(K13_20201109_sfm_clipped, resampling=3)\n",
    "K13_20210406_sfm_reproj = K13_20210406_sfm_clipped.rio.reproject_match(K13_20201109_sfm_clipped, resampling=3)\n",
    "K13_20210513_sfm_reproj = K13_20210513_sfm_clipped.rio.reproject_match(K13_20201109_sfm_clipped, resampling=3)\n",
    "K13_20201109_sfm_clipped.rio.to_raster('20201109_KID13_sfm.tif')\n",
    "K13_20210208_sfm_reproj.rio.to_raster('20210208_KID13_sfm.tif')\n",
    "K13_20210406_sfm_reproj.rio.to_raster('20210406_KID13_sfm.tif')\n",
    "K13_20210513_sfm_reproj.rio.to_raster('20210513_KID13_sfm.tif')\n",
    "\n",
    "# Dry season, year 1; LiDAR\n",
    "K13_20210604_LiDAR_clipped = K13_20210604_LiDAR_full.rio.clip(mask_gdf.geometry)\n",
    "K13_20210913_LiDAR_clipped = K13_20210913_LiDAR_full.rio.clip(mask_gdf.geometry)\n",
    "K13_20210913_LiDAR_reproj = K13_20210913_LiDAR_clipped.rio.reproject_match(K13_20210604_LiDAR_clipped, resampling=3)\n",
    "K13_20210604_LiDAR_clipped.rio.to_raster('20210604_KID13_LiDAR.tif')\n",
    "K13_20210913_LiDAR_reproj.rio.to_raster('20210913_KID13_LiDAR.tif')\n",
    "\n",
    "# Dry season, year 1; sfm\n",
    "K13_20210604_sfm_clipped = K13_20210604_sfm_full.rio.clip(mask_gdf.geometry)\n",
    "K13_20210819_sfm_clipped = K13_20210819_sfm_full.rio.clip(mask_gdf.geometry)\n",
    "K13_20210913_sfm_clipped = K13_20210913_sfm_full.rio.clip(mask_gdf.geometry)\n",
    "K13_20210819_sfm_reproj = K13_20210819_sfm_clipped.rio.reproject_match(K13_20210604_sfm_clipped, resampling=3)\n",
    "K13_20210913_sfm_reproj = K13_20210913_sfm_clipped.rio.reproject_match(K13_20210604_sfm_clipped, resampling=3)\n",
    "K13_20210604_sfm_clipped.rio.to_raster('20210604_KID13_sfm.tif')\n",
    "K13_20210819_sfm_reproj.rio.to_raster('20210819_KID13_sfm.tif')\n",
    "K13_20210913_sfm_reproj.rio.to_raster('20210913_KID13_sfm.tif')"
   ]
  },
  {
   "cell_type": "code",
   "execution_count": null,
   "id": "6e2fe65b-3685-4d71-9076-5328abee5e7b",
   "metadata": {},
   "outputs": [],
   "source": [
    "fig, ax = plt.subplots(1, 3, figsize=(8,4))\n",
    "\n",
    "m0 = ax[0].imshow(K13_20201109_LiDAR_clipped, cmap = 'viridis', vmin=501, vmax=506)\n",
    "ax[0].set_title('KID-13 2020-11-09\\nLiDAR')\n",
    "fig.colorbar(m0, label='Elevation (m)', extend='both', ax=ax[0])\n",
    "ax[0].set_facecolor('k')\n",
    "ax[0].set_xticks(())\n",
    "ax[0].set_yticks(());\n",
    "\n",
    "m1 = ax[1].imshow(K13_20210513_LiDAR_clipped, cmap = 'viridis', vmin=501, vmax=506)\n",
    "ax[1].set_title('KID-13 2021-05-13\\nLiDAR')\n",
    "fig.colorbar(m1, label='Elevation (m)', extend='both', ax=ax[1])\n",
    "ax[1].set_facecolor('k')\n",
    "ax[1].set_xticks(())\n",
    "ax[1].set_yticks(());\n",
    "\n",
    "diff = K13_20210513_LiDAR_reproj-K13_20201109_LiDAR_clipped\n",
    "m2 = ax[2].imshow(diff, cmap = 'RdBu', vmin=-0.05, vmax=0.05)\n",
    "ax[2].set_title('KID-13\\n2020-11-09 to 2021-05-13\\nLiDAR')\n",
    "fig.colorbar(m2, label='Elevation (m)', extend='both', ax=ax[2])\n",
    "ax[2].set_facecolor('k')\n",
    "ax[2].set_xticks(())\n",
    "ax[2].set_yticks(());"
   ]
  },
  {
   "cell_type": "code",
   "execution_count": null,
   "id": "c3e39195-27c5-4940-b8cb-ddc67c0f082b",
   "metadata": {},
   "outputs": [],
   "source": [
    "fig, ax = plt.subplots(1, 3, figsize=(8,4))\n",
    "\n",
    "m0 = ax[0].imshow(K13_20210604_LiDAR_clipped, cmap = 'viridis', vmin=501, vmax=506)\n",
    "ax[0].set_title('KID-13 2021-06-04\\nLiDAR')\n",
    "fig.colorbar(m0, label='Elevation (m)', extend='both', ax=ax[0])\n",
    "ax[0].set_facecolor('k')\n",
    "ax[0].set_xticks(())\n",
    "ax[0].set_yticks(());\n",
    "\n",
    "m1 = ax[1].imshow(K13_20210513_LiDAR_clipped, cmap = 'viridis', vmin=501, vmax=506)\n",
    "ax[1].set_title('KID-13 2021-09-13\\nLiDAR')\n",
    "fig.colorbar(m1, label='Elevation (m)', extend='both', ax=ax[1])\n",
    "ax[1].set_facecolor('k')\n",
    "ax[1].set_xticks(())\n",
    "ax[1].set_yticks(());\n",
    "\n",
    "diff = K13_20210913_LiDAR_reproj-K13_20210604_LiDAR_clipped\n",
    "m2 = ax[2].imshow(diff, cmap = 'RdBu', vmin=-0.05, vmax=0.05)\n",
    "ax[2].set_title('KID-13\\n2021-06-04 to 2021-09-13\\nLiDAR')\n",
    "fig.colorbar(m2, label='Elevation (m)', extend='both', ax=ax[2])\n",
    "ax[2].set_facecolor('k')\n",
    "ax[2].set_xticks(())\n",
    "ax[2].set_yticks(());"
   ]
  },
  {
   "cell_type": "code",
   "execution_count": null,
   "id": "414a0367-e2e6-42cf-b8a9-2783d6b7cdea",
   "metadata": {},
   "outputs": [],
   "source": [
    "fig, ax = plt.subplots(1, 4, figsize=(15,4))\n",
    "\n",
    "m0 = ax[0].imshow(K13_20201109_sfm_clipped, cmap = 'viridis', vmin=501, vmax=506)\n",
    "ax[0].set_title('KID-13 2020-11-09\\nSfM')\n",
    "fig.colorbar(m0, label='Elevation (m)', extend='both', ax=ax[0])\n",
    "ax[0].set_facecolor('k')\n",
    "ax[0].set_xticks(())\n",
    "ax[0].set_yticks(());\n",
    "\n",
    "m1 = ax[1].imshow(K13_20210208_sfm_reproj, cmap = 'viridis', vmin=501, vmax=506)\n",
    "ax[1].set_title('KID-13 2021-02-08\\nSfM')\n",
    "fig.colorbar(m1, label='Elevation (m)', extend='both', ax=ax[1])\n",
    "ax[1].set_facecolor('k')\n",
    "ax[1].set_xticks(())\n",
    "ax[1].set_yticks(());\n",
    "\n",
    "m2 = ax[2].imshow(K13_20210406_sfm_reproj, cmap = 'viridis', vmin=501, vmax=506)\n",
    "ax[2].set_title('KID-13 2021-04-06\\nSfM')\n",
    "fig.colorbar(m2, label='Elevation (m)', extend='both', ax=ax[2])\n",
    "ax[2].set_facecolor('k')\n",
    "ax[2].set_xticks(())\n",
    "ax[2].set_yticks(());\n",
    "\n",
    "m3 = ax[3].imshow(K13_20210513_sfm_reproj, cmap = 'viridis', vmin=501, vmax=506)\n",
    "ax[3].set_title('KID-13 2021-05-13\\nSfM')\n",
    "fig.colorbar(m3, label='Elevation (m)', extend='both', ax=ax[3])\n",
    "ax[3].set_facecolor('k')\n",
    "ax[3].set_xticks(())\n",
    "ax[3].set_yticks(());"
   ]
  },
  {
   "cell_type": "code",
   "execution_count": null,
   "id": "5dcba975-61f6-464b-ba46-798a78596157",
   "metadata": {},
   "outputs": [],
   "source": [
    "fig, ax = plt.subplots(1, 3, figsize=(15,4))\n",
    "\n",
    "m0 = ax[0].imshow(K13_20210208_sfm_reproj-K13_20201109_sfm_clipped, cmap = 'RdBu', vmin=-0.05, vmax=0.05)\n",
    "ax[0].set_title('KID-13\\n2020-11-09 to 2021-02-08\\nSfM')\n",
    "fig.colorbar(m0, label='Elevation (m)', extend='both', ax=ax[0])\n",
    "ax[0].set_facecolor('k')\n",
    "ax[0].set_xticks(())\n",
    "ax[0].set_yticks(());\n",
    "\n",
    "m1 = ax[1].imshow(K13_20210406_sfm_reproj-K13_20201109_sfm_clipped, cmap = 'RdBu', vmin=-0.05, vmax=0.05)\n",
    "ax[1].set_title('KID-13\\n2020-11-09 to 2021-04-06\\nSfM')\n",
    "fig.colorbar(m1, label='Elevation (m)', extend='both', ax=ax[1])\n",
    "ax[1].set_facecolor('k')\n",
    "ax[1].set_xticks(())\n",
    "ax[1].set_yticks(());\n",
    "\n",
    "m2 = ax[2].imshow(K13_20210513_sfm_reproj-K13_20201109_sfm_clipped, cmap = 'RdBu', vmin=-0.05, vmax=0.05)\n",
    "ax[2].set_title('KID-13\\n2020-11-09 to 2021-05-13\\nSfM')\n",
    "fig.colorbar(m2, label='Elevation (m)', extend='both', ax=ax[2])\n",
    "ax[2].set_facecolor('k')\n",
    "ax[2].set_xticks(())\n",
    "ax[2].set_yticks(());"
   ]
  },
  {
   "cell_type": "code",
   "execution_count": null,
   "id": "64b9a623-6e85-4762-bd23-0edbc7f6d8c9",
   "metadata": {},
   "outputs": [],
   "source": []
  }
 ],
 "metadata": {
  "kernelspec": {
   "display_name": "Python 3 (ipykernel)",
   "language": "python",
   "name": "python3"
  },
  "language_info": {
   "codemirror_mode": {
    "name": "ipython",
    "version": 3
   },
   "file_extension": ".py",
   "mimetype": "text/x-python",
   "name": "python",
   "nbconvert_exporter": "python",
   "pygments_lexer": "ipython3",
   "version": "3.11.6"
  }
 },
 "nbformat": 4,
 "nbformat_minor": 5
}
