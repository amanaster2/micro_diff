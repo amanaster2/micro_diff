{
 "cells": [
  {
   "cell_type": "code",
   "execution_count": null,
   "id": "57a0a319-8c08-4b19-93eb-12024860369a",
   "metadata": {},
   "outputs": [],
   "source": [
    "%load_ext autoreload\n",
    "%autoreload 2"
   ]
  },
  {
   "cell_type": "code",
   "execution_count": null,
   "id": "ccfd9fb4-031b-4c2a-9f56-144702e5fdf0",
   "metadata": {},
   "outputs": [],
   "source": [
    "from pathlib import Path\n",
    "import rasterio\n",
    "import rioxarray\n",
    "import numpy as np\n",
    "import matplotlib.pyplot as plt\n",
    "import gdown\n",
    "import geopandas as gpd"
   ]
  },
  {
   "cell_type": "markdown",
   "id": "f109fd77",
   "metadata": {},
   "source": [
    "## Download all data using `gdown` and organize into folders"
   ]
  },
  {
   "cell_type": "code",
   "execution_count": null,
   "id": "9bc0c5d5-a796-4218-a43b-a20bf4f55f5b",
   "metadata": {},
   "outputs": [],
   "source": [
    "#Download KID-13 DEMs\n",
    "url = 'https://drive.google.com/drive/u/1/folders/1u6UxBlPMZmzgvfbA5-kOsVX_mJ1J55kL'\n",
    "k13_dem_folder='../data/dems/k13'\n",
    "# gdown.download_folder(url, output=k13_dem_folder, quiet=False, use_cookies=False)"
   ]
  },
  {
   "cell_type": "code",
   "execution_count": null,
   "id": "46c30b70",
   "metadata": {},
   "outputs": [],
   "source": [
    "#Download MEL-14 DEMs\n",
    "url = 'https://drive.google.com/drive/u/1/folders/1WkPjWOsFvu3nW9gT4NtuXNg3xSD6OF9p'\n",
    "m14_dem_folder='../data/dems/m14'\n",
    "# gdown.download_folder(url, output=m14_dem_folder, quiet=False, use_cookies=False)"
   ]
  },
  {
   "cell_type": "code",
   "execution_count": null,
   "id": "c0d94fd7",
   "metadata": {},
   "outputs": [],
   "source": [
    "#Download masks for clipping\n",
    "url = 'https://drive.google.com/drive/u/1/folders/14jvvzh3dSNO140nXurEaMokyDvr6KidB'\n",
    "k13_mask_folder='../data/vectors/kid_mask'\n",
    "# gdown.download_folder(url, output=k13_mask_folder, quiet=False, use_cookies=False)\n",
    "\n",
    "url = 'https://drive.google.com/drive/u/1/folders/1jSSD9YJ6JzxyZDanQrNMIsBVVn6ZGubF'\n",
    "m14_mask_folder='../data/vectors/mel_mask'\n",
    "# gdown.download_folder(url, output=m14_mask_folder, quiet=False, use_cookies=False)"
   ]
  },
  {
   "cell_type": "code",
   "execution_count": null,
   "id": "516605d1",
   "metadata": {},
   "outputs": [],
   "source": [
    "k13_wsyr1_dem_files = sorted(Path(k13_dem_folder).glob('wsyr1/*.tif'))\n",
    "k13_wsyr1_dem_files = [i.as_posix() for i in k13_wsyr1_dem_files]\n",
    "\n",
    "k13_dsyr1_dem_files = sorted(Path(k13_dem_folder).glob('dsyr1/*.tif'))\n",
    "k13_dsyr1_dem_files = [i.as_posix() for i in k13_dsyr1_dem_files]\n",
    "\n",
    "k13_wsyr2_dem_files = sorted(Path(k13_dem_folder).glob('wsyr2/*.tif'))\n",
    "k13_wsyr2_dem_files = [i.as_posix() for i in k13_wsyr2_dem_files]\n",
    "\n",
    "m14_wsyr1_dem_files = sorted(Path(m14_dem_folder).glob('wsyr1/*.tif'))\n",
    "m14_wsyr1_dem_files = [i.as_posix() for i in m14_wsyr1_dem_files]\n",
    "\n",
    "m14_dsyr1_dem_files = sorted(Path(m14_dem_folder).glob('dsyr1/*.tif'))\n",
    "m14_dsyr1_dem_files = [i.as_posix() for i in m14_dsyr1_dem_files]\n",
    "\n",
    "m14_wsyr2_dem_files = sorted(Path(m14_dem_folder).glob('wsyr2/*.tif'))\n",
    "m14_wsyr2_dem_files = [i.as_posix() for i in m14_wsyr2_dem_files]"
   ]
  },
  {
   "cell_type": "code",
   "execution_count": null,
   "id": "bf836b73",
   "metadata": {},
   "outputs": [
    {
     "data": {
      "text/plain": [
       "(['../data/dems/k13/wsyr1/K13_lidar_20201109_cc.tif',\n",
       "  '../data/dems/k13/wsyr1/K13_lidar_20210513_cc.tif',\n",
       "  '../data/dems/k13/wsyr1/K13_sfm_20201109_cc.tif',\n",
       "  '../data/dems/k13/wsyr1/K13_sfm_20210208_cc.tif',\n",
       "  '../data/dems/k13/wsyr1/K13_sfm_20210406_cc.tif',\n",
       "  '../data/dems/k13/wsyr1/K13_sfm_20210513_cc.tif'],\n",
       " ['../data/dems/k13/dsyr1/K13_lidar_20210604_cc.tif',\n",
       "  '../data/dems/k13/dsyr1/K13_lidar_20210913_cc.tif',\n",
       "  '../data/dems/k13/dsyr1/K13_sfm_20210604_cc.tif',\n",
       "  '../data/dems/k13/dsyr1/K13_sfm_20210819_cc.tif',\n",
       "  '../data/dems/k13/dsyr1/K13_sfm_20210913_cc.tif'],\n",
       " ['../data/dems/k13/wsyr2/K13_lidar_20211007_cc.tif',\n",
       "  '../data/dems/k13/wsyr2/K13_lidar_20220531_cc.tif',\n",
       "  '../data/dems/k13/wsyr2/K13_sfm_20211007_cc.tif',\n",
       "  '../data/dems/k13/wsyr2/K13_sfm_20220208_cc.tif',\n",
       "  '../data/dems/k13/wsyr2/K13_sfm_20220503_cc.tif',\n",
       "  '../data/dems/k13/wsyr2/K13_sfm_20220531_cc.tif'],\n",
       " ['../data/dems/m14/wsyr1/M14_lidar_20201203_cc.tif',\n",
       "  '../data/dems/m14/wsyr1/M14_sfm_20201203_cc.tif',\n",
       "  '../data/dems/m14/wsyr1/M14_sfm_20210224_cc.tif'],\n",
       " ['../data/dems/m14/dsyr1/M14_lidar_20210603_cc.tif',\n",
       "  '../data/dems/m14/dsyr1/M14_lidar_20210914_cc.tif',\n",
       "  '../data/dems/m14/dsyr1/M14_sfm_20210603_cc.tif',\n",
       "  '../data/dems/m14/dsyr1/M14_sfm_20210914_cc.tif'],\n",
       " ['../data/dems/m14/wsyr2/M14_lidar_20220309_cc.tif',\n",
       "  '../data/dems/m14/wsyr2/M14_lidar_20220601_cc.tif',\n",
       "  '../data/dems/m14/wsyr2/M14_sfm_20220309_cc.tif',\n",
       "  '../data/dems/m14/wsyr2/M14_sfm_20220316_cc.tif',\n",
       "  '../data/dems/m14/wsyr2/M14_sfm_20220324_cc.tif',\n",
       "  '../data/dems/m14/wsyr2/M14_sfm_20220411_cc.tif',\n",
       "  '../data/dems/m14/wsyr2/M14_sfm_20220428_cc.tif',\n",
       "  '../data/dems/m14/wsyr2/M14_sfm_20220601_cc.tif'])"
      ]
     },
     "execution_count": 7,
     "metadata": {},
     "output_type": "execute_result"
    }
   ],
   "source": [
    "k13_wsyr1_dem_files, k13_dsyr1_dem_files, k13_wsyr2_dem_files, m14_wsyr1_dem_files, m14_dsyr1_dem_files, m14_wsyr2_dem_files"
   ]
  },
  {
   "cell_type": "markdown",
   "id": "5e8d4166",
   "metadata": {},
   "source": [
    "## Define CRS for data using CRS from masks"
   ]
  },
  {
   "cell_type": "code",
   "execution_count": null,
   "id": "6041b342",
   "metadata": {},
   "outputs": [],
   "source": [
    "k13_mask_path = '../data/vectors/kid_mask/K13_mask.shp'\n",
    "m14_mask_path = '../data/vectors/mel_mask/MEL14_Mask.shp'\n",
    "\n",
    "# grab shapefile crs to write to rasters\n",
    "k13_crs = gpd.read_file(k13_mask_path).crs\n",
    "k13_mask_gdf = gpd.read_file(k13_mask_path)\n",
    "\n",
    "m14_crs = gpd.read_file(m14_mask_path).crs\n",
    "m14_mask_gdf = gpd.read_file(m14_mask_path)"
   ]
  },
  {
   "cell_type": "markdown",
   "id": "1241f450",
   "metadata": {},
   "source": [
    "## Clip and reproject KID-13 data"
   ]
  },
  {
   "cell_type": "code",
   "execution_count": null,
   "id": "afd69bf6",
   "metadata": {},
   "outputs": [],
   "source": [
    "#Wet season year 1\n",
    "k13_wsyr1 = dict()\n",
    "k13_wsyr1_clip = dict()\n",
    "for i in range(len(k13_wsyr1_dem_files)):\n",
    "    k13_wsyr1[i] = rioxarray.open_rasterio(k13_wsyr1_dem_files[i]).squeeze()\n",
    "    k13_wsyr1[i].rio.write_crs(k13_crs, inplace=True)\n",
    "    k13_wsyr1_clip[i] = k13_wsyr1[i].rio.clip(k13_mask_gdf.geometry)\n",
    "    k13_wsyr1_clip[i].rio.write_nodata(-9999, encoded=True, inplace=True)\n",
    "\n",
    "k13_wsyr1_reproj = dict()\n",
    "for x in range(len(k13_wsyr1_dem_files)-1):\n",
    "    k13_wsyr1_reproj[x] = k13_wsyr1_clip[x+1].rio.reproject_match(k13_wsyr1_clip[0], resampling = 3)\n",
    "\n",
    "#Dry season year 1\n",
    "k13_dsyr1 = dict()\n",
    "k13_dsyr1_clip = dict()\n",
    "for i in range(len(k13_dsyr1_dem_files)):\n",
    "    k13_dsyr1[i] = rioxarray.open_rasterio(k13_dsyr1_dem_files[i]).squeeze()\n",
    "    k13_dsyr1[i].rio.write_crs(k13_crs, inplace=True)\n",
    "    k13_dsyr1_clip[i] = k13_dsyr1[i].rio.clip(k13_mask_gdf.geometry)\n",
    "    k13_dsyr1_clip[i].rio.write_nodata(-9999, encoded=True, inplace=True)\n",
    "\n",
    "k13_dsyr1_reproj = dict()\n",
    "for x in range(len(k13_dsyr1_dem_files)-1):\n",
    "    k13_dsyr1_reproj[x] = k13_dsyr1_clip[x+1].rio.reproject_match(k13_dsyr1_clip[0], resampling = 3)\n",
    "\n",
    "#Wet season year 2\n",
    "k13_wsyr2 = dict()\n",
    "k13_wsyr2_clip = dict()\n",
    "for i in range(len(k13_wsyr2_dem_files)):\n",
    "    k13_wsyr2[i] = rioxarray.open_rasterio(k13_wsyr2_dem_files[i]).squeeze()\n",
    "    k13_wsyr2[i].rio.write_crs(k13_crs, inplace=True)\n",
    "    k13_wsyr2_clip[i] = k13_wsyr2[i].rio.clip(k13_mask_gdf.geometry)\n",
    "    k13_wsyr2_clip[i].rio.write_nodata(-9999, encoded=True, inplace=True)\n",
    "\n",
    "k13_wsyr2_reproj = dict()\n",
    "for x in range(len(k13_wsyr2_dem_files)-1):\n",
    "    k13_wsyr2_reproj[x] = k13_wsyr2_clip[x+1].rio.reproject_match(k13_wsyr2_clip[0], resampling = 3)"
   ]
  },
  {
   "cell_type": "markdown",
   "id": "a2f8a3bd",
   "metadata": {},
   "source": [
    "## Clip and reproject MEL-14 data"
   ]
  },
  {
   "cell_type": "code",
   "execution_count": 10,
   "id": "102622c8",
   "metadata": {},
   "outputs": [],
   "source": [
    "#Wet season year 1\n",
    "dates = []\n",
    "m14_wsyr1 = dict()\n",
    "m14_wsyr1_clip = dict()\n",
    "for i in range(len(m14_wsyr1_dem_files)):\n",
    "    m14_wsyr1[i] = rioxarray.open_rasterio(m14_wsyr1_dem_files[i]).squeeze()\n",
    "    m14_wsyr1[i].rio.write_crs(m14_crs, inplace=True)\n",
    "    m14_wsyr1_clip[i] = m14_wsyr1[i].rio.clip(m14_mask_gdf.geometry)\n",
    "    m14_wsyr1_clip[i].rio.write_nodata(-9999, encoded=True, inplace=True)\n",
    "\n",
    "m14_wsyr1_reproj = dict()\n",
    "for x in range(len(m14_wsyr1_dem_files)-1):\n",
    "    m14_wsyr1_reproj[x] = m14_wsyr1_clip[x+1].rio.reproject_match(m14_wsyr1_clip[0], resampling = 3)\n",
    "\n",
    "#Dry season year 1\n",
    "dates = []\n",
    "m14_dsyr1 = dict()\n",
    "m14_dsyr1_clip = dict()\n",
    "for i in range(len(m14_dsyr1_dem_files)):\n",
    "    m14_dsyr1[i] = rioxarray.open_rasterio(m14_dsyr1_dem_files[i]).squeeze()\n",
    "    m14_dsyr1[i].rio.write_crs(m14_crs, inplace=True)\n",
    "    m14_dsyr1_clip[i] = m14_dsyr1[i].rio.clip(m14_mask_gdf.geometry)\n",
    "    m14_dsyr1_clip[i].rio.write_nodata(-9999, encoded=True, inplace=True)\n",
    "\n",
    "m14_dsyr1_reproj = dict()\n",
    "for x in range(len(m14_dsyr1_dem_files)-1):\n",
    "    m14_dsyr1_reproj[x] = m14_dsyr1_clip[x+1].rio.reproject_match(m14_dsyr1_clip[0], resampling = 3)\n",
    "\n",
    "#Wet season year 2\n",
    "dates = []\n",
    "m14_wsyr2 = dict()\n",
    "m14_wsyr2_clip = dict()\n",
    "for i in range(len(m14_wsyr2_dem_files)):\n",
    "    m14_wsyr2[i] = rioxarray.open_rasterio(m14_wsyr2_dem_files[i]).squeeze()\n",
    "    m14_wsyr2[i].rio.write_crs(m14_crs, inplace=True)\n",
    "    m14_wsyr2_clip[i] = m14_wsyr2[i].rio.clip(m14_mask_gdf.geometry)\n",
    "    m14_wsyr2_clip[i].rio.write_nodata(-9999, encoded=True, inplace=True)\n",
    "\n",
    "m14_wsyr2_reproj = dict()\n",
    "for x in range(len(m14_wsyr2_dem_files)-1):\n",
    "    m14_wsyr2_reproj[x] = m14_wsyr2_clip[x+1].rio.reproject_match(m14_wsyr2_clip[0], resampling = 3)"
   ]
  },
  {
   "cell_type": "code",
   "execution_count": null,
   "id": "23794cab-31be-4811-a0b5-aeedb18b1e34",
   "metadata": {
    "tags": []
   },
   "outputs": [],
   "source": [
    "#clipping using rioxarray\n",
    "# Wet season, year 1; LiDAR\n",
    "K13_20201109_LiDAR_clipped = K13_20201109_LiDAR_full.rio.clip(mask_gdf.geometry)\n",
    "K13_20210513_LiDAR_clipped = K13_20210513_LiDAR_full.rio.clip(mask_gdf.geometry)\n",
    "K13_20210513_LiDAR_reproj = K13_20210513_LiDAR_clipped.rio.reproject_match(K13_20201109_LiDAR_clipped, resampling=3)\n",
    "K13_20201109_LiDAR_clipped.rio.to_raster('20201109_KID13_LiDAR.tif')\n",
    "K13_20210513_LiDAR_reproj.rio.to_raster('20210513_KID13_LiDAR.tif')\n",
    "\n",
    "# Wet season, year 1; sfm\n",
    "K13_20201109_sfm_clipped = K13_20201109_sfm_full.rio.clip(mask_gdf.geometry)\n",
    "K13_20210208_sfm_clipped = K13_20210208_sfm_full.rio.clip(mask_gdf.geometry)\n",
    "K13_20210406_sfm_clipped = K13_20210406_sfm_full.rio.clip(mask_gdf.geometry)\n",
    "K13_20210513_sfm_clipped = K13_20210513_sfm_full.rio.clip(mask_gdf.geometry)\n",
    "K13_20210208_sfm_reproj = K13_20210208_sfm_clipped.rio.reproject_match(K13_20201109_sfm_clipped, resampling=3)\n",
    "K13_20210406_sfm_reproj = K13_20210406_sfm_clipped.rio.reproject_match(K13_20201109_sfm_clipped, resampling=3)\n",
    "K13_20210513_sfm_reproj = K13_20210513_sfm_clipped.rio.reproject_match(K13_20201109_sfm_clipped, resampling=3)\n",
    "K13_20201109_sfm_clipped.rio.to_raster('20201109_KID13_sfm.tif')\n",
    "K13_20210208_sfm_reproj.rio.to_raster('20210208_KID13_sfm.tif')\n",
    "K13_20210406_sfm_reproj.rio.to_raster('20210406_KID13_sfm.tif')\n",
    "K13_20210513_sfm_reproj.rio.to_raster('20210513_KID13_sfm.tif')\n",
    "\n",
    "# Dry season, year 1; LiDAR\n",
    "K13_20210604_LiDAR_clipped = K13_20210604_LiDAR_full.rio.clip(mask_gdf.geometry)\n",
    "K13_20210913_LiDAR_clipped = K13_20210913_LiDAR_full.rio.clip(mask_gdf.geometry)\n",
    "K13_20210913_LiDAR_reproj = K13_20210913_LiDAR_clipped.rio.reproject_match(K13_20210604_LiDAR_clipped, resampling=3)\n",
    "K13_20210604_LiDAR_clipped.rio.to_raster('20210604_KID13_LiDAR.tif')\n",
    "K13_20210913_LiDAR_reproj.rio.to_raster('20210913_KID13_LiDAR.tif')\n",
    "\n",
    "# Dry season, year 1; sfm\n",
    "K13_20210604_sfm_clipped = K13_20210604_sfm_full.rio.clip(mask_gdf.geometry)\n",
    "K13_20210819_sfm_clipped = K13_20210819_sfm_full.rio.clip(mask_gdf.geometry)\n",
    "K13_20210913_sfm_clipped = K13_20210913_sfm_full.rio.clip(mask_gdf.geometry)\n",
    "K13_20210819_sfm_reproj = K13_20210819_sfm_clipped.rio.reproject_match(K13_20210604_sfm_clipped, resampling=3)\n",
    "K13_20210913_sfm_reproj = K13_20210913_sfm_clipped.rio.reproject_match(K13_20210604_sfm_clipped, resampling=3)\n",
    "K13_20210604_sfm_clipped.rio.to_raster('20210604_KID13_sfm.tif')\n",
    "K13_20210819_sfm_reproj.rio.to_raster('20210819_KID13_sfm.tif')\n",
    "K13_20210913_sfm_reproj.rio.to_raster('20210913_KID13_sfm.tif')"
   ]
  },
  {
   "cell_type": "code",
   "execution_count": null,
   "id": "6e2fe65b-3685-4d71-9076-5328abee5e7b",
   "metadata": {},
   "outputs": [],
   "source": [
    "fig, ax = plt.subplots(1, 3, figsize=(8,4))\n",
    "\n",
    "m0 = ax[0].imshow(K13_20201109_LiDAR_clipped, cmap = 'viridis', vmin=501, vmax=506)\n",
    "ax[0].set_title('KID-13 2020-11-09\\nLiDAR')\n",
    "fig.colorbar(m0, label='Elevation (m)', extend='both', ax=ax[0])\n",
    "ax[0].set_facecolor('k')\n",
    "ax[0].set_xticks(())\n",
    "ax[0].set_yticks(());\n",
    "\n",
    "m1 = ax[1].imshow(K13_20210513_LiDAR_clipped, cmap = 'viridis', vmin=501, vmax=506)\n",
    "ax[1].set_title('KID-13 2021-05-13\\nLiDAR')\n",
    "fig.colorbar(m1, label='Elevation (m)', extend='both', ax=ax[1])\n",
    "ax[1].set_facecolor('k')\n",
    "ax[1].set_xticks(())\n",
    "ax[1].set_yticks(());\n",
    "\n",
    "diff = K13_20210513_LiDAR_reproj-K13_20201109_LiDAR_clipped\n",
    "m2 = ax[2].imshow(diff, cmap = 'RdBu', vmin=-0.05, vmax=0.05)\n",
    "ax[2].set_title('KID-13\\n2020-11-09 to 2021-05-13\\nLiDAR')\n",
    "fig.colorbar(m2, label='Elevation (m)', extend='both', ax=ax[2])\n",
    "ax[2].set_facecolor('k')\n",
    "ax[2].set_xticks(())\n",
    "ax[2].set_yticks(());"
   ]
  },
  {
   "cell_type": "code",
   "execution_count": null,
   "id": "c3e39195-27c5-4940-b8cb-ddc67c0f082b",
   "metadata": {},
   "outputs": [],
   "source": [
    "fig, ax = plt.subplots(1, 3, figsize=(8,4))\n",
    "\n",
    "m0 = ax[0].imshow(K13_20210604_LiDAR_clipped, cmap = 'viridis', vmin=501, vmax=506)\n",
    "ax[0].set_title('KID-13 2021-06-04\\nLiDAR')\n",
    "fig.colorbar(m0, label='Elevation (m)', extend='both', ax=ax[0])\n",
    "ax[0].set_facecolor('k')\n",
    "ax[0].set_xticks(())\n",
    "ax[0].set_yticks(());\n",
    "\n",
    "m1 = ax[1].imshow(K13_20210513_LiDAR_clipped, cmap = 'viridis', vmin=501, vmax=506)\n",
    "ax[1].set_title('KID-13 2021-09-13\\nLiDAR')\n",
    "fig.colorbar(m1, label='Elevation (m)', extend='both', ax=ax[1])\n",
    "ax[1].set_facecolor('k')\n",
    "ax[1].set_xticks(())\n",
    "ax[1].set_yticks(());\n",
    "\n",
    "diff = K13_20210913_LiDAR_reproj-K13_20210604_LiDAR_clipped\n",
    "m2 = ax[2].imshow(diff, cmap = 'RdBu', vmin=-0.05, vmax=0.05)\n",
    "ax[2].set_title('KID-13\\n2021-06-04 to 2021-09-13\\nLiDAR')\n",
    "fig.colorbar(m2, label='Elevation (m)', extend='both', ax=ax[2])\n",
    "ax[2].set_facecolor('k')\n",
    "ax[2].set_xticks(())\n",
    "ax[2].set_yticks(());"
   ]
  },
  {
   "cell_type": "code",
   "execution_count": null,
   "id": "414a0367-e2e6-42cf-b8a9-2783d6b7cdea",
   "metadata": {},
   "outputs": [],
   "source": [
    "fig, ax = plt.subplots(1, 4, figsize=(15,4))\n",
    "\n",
    "m0 = ax[0].imshow(K13_20201109_sfm_clipped, cmap = 'viridis', vmin=501, vmax=506)\n",
    "ax[0].set_title('KID-13 2020-11-09\\nSfM')\n",
    "fig.colorbar(m0, label='Elevation (m)', extend='both', ax=ax[0])\n",
    "ax[0].set_facecolor('k')\n",
    "ax[0].set_xticks(())\n",
    "ax[0].set_yticks(());\n",
    "\n",
    "m1 = ax[1].imshow(K13_20210208_sfm_reproj, cmap = 'viridis', vmin=501, vmax=506)\n",
    "ax[1].set_title('KID-13 2021-02-08\\nSfM')\n",
    "fig.colorbar(m1, label='Elevation (m)', extend='both', ax=ax[1])\n",
    "ax[1].set_facecolor('k')\n",
    "ax[1].set_xticks(())\n",
    "ax[1].set_yticks(());\n",
    "\n",
    "m2 = ax[2].imshow(K13_20210406_sfm_reproj, cmap = 'viridis', vmin=501, vmax=506)\n",
    "ax[2].set_title('KID-13 2021-04-06\\nSfM')\n",
    "fig.colorbar(m2, label='Elevation (m)', extend='both', ax=ax[2])\n",
    "ax[2].set_facecolor('k')\n",
    "ax[2].set_xticks(())\n",
    "ax[2].set_yticks(());\n",
    "\n",
    "m3 = ax[3].imshow(K13_20210513_sfm_reproj, cmap = 'viridis', vmin=501, vmax=506)\n",
    "ax[3].set_title('KID-13 2021-05-13\\nSfM')\n",
    "fig.colorbar(m3, label='Elevation (m)', extend='both', ax=ax[3])\n",
    "ax[3].set_facecolor('k')\n",
    "ax[3].set_xticks(())\n",
    "ax[3].set_yticks(());"
   ]
  },
  {
   "cell_type": "code",
   "execution_count": null,
   "id": "5dcba975-61f6-464b-ba46-798a78596157",
   "metadata": {},
   "outputs": [],
   "source": [
    "fig, ax = plt.subplots(1, 3, figsize=(15,4))\n",
    "\n",
    "m0 = ax[0].imshow(K13_20210208_sfm_reproj-K13_20201109_sfm_clipped, cmap = 'RdBu', vmin=-0.05, vmax=0.05)\n",
    "ax[0].set_title('KID-13\\n2020-11-09 to 2021-02-08\\nSfM')\n",
    "fig.colorbar(m0, label='Elevation (m)', extend='both', ax=ax[0])\n",
    "ax[0].set_facecolor('k')\n",
    "ax[0].set_xticks(())\n",
    "ax[0].set_yticks(());\n",
    "\n",
    "m1 = ax[1].imshow(K13_20210406_sfm_reproj-K13_20201109_sfm_clipped, cmap = 'RdBu', vmin=-0.05, vmax=0.05)\n",
    "ax[1].set_title('KID-13\\n2020-11-09 to 2021-04-06\\nSfM')\n",
    "fig.colorbar(m1, label='Elevation (m)', extend='both', ax=ax[1])\n",
    "ax[1].set_facecolor('k')\n",
    "ax[1].set_xticks(())\n",
    "ax[1].set_yticks(());\n",
    "\n",
    "m2 = ax[2].imshow(K13_20210513_sfm_reproj-K13_20201109_sfm_clipped, cmap = 'RdBu', vmin=-0.05, vmax=0.05)\n",
    "ax[2].set_title('KID-13\\n2020-11-09 to 2021-05-13\\nSfM')\n",
    "fig.colorbar(m2, label='Elevation (m)', extend='both', ax=ax[2])\n",
    "ax[2].set_facecolor('k')\n",
    "ax[2].set_xticks(())\n",
    "ax[2].set_yticks(());"
   ]
  },
  {
   "cell_type": "code",
   "execution_count": null,
   "id": "64b9a623-6e85-4762-bd23-0edbc7f6d8c9",
   "metadata": {},
   "outputs": [],
   "source": []
  }
 ],
 "metadata": {
  "kernelspec": {
   "display_name": "Python 3 (ipykernel)",
   "language": "python",
   "name": "python3"
  },
  "language_info": {
   "codemirror_mode": {
    "name": "ipython",
    "version": 3
   },
   "file_extension": ".py",
   "mimetype": "text/x-python",
   "name": "python",
   "nbconvert_exporter": "python",
   "pygments_lexer": "ipython3",
   "version": "3.12.0"
  }
 },
 "nbformat": 4,
 "nbformat_minor": 5
}
