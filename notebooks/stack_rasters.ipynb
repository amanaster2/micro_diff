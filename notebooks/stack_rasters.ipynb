{
 "cells": [
  {
   "cell_type": "code",
   "execution_count": 1,
   "id": "33ed102d-6a5d-47e8-b18d-7c6d22154c98",
   "metadata": {},
   "outputs": [],
   "source": [
    "%load_ext autoreload\n",
    "%autoreload 2"
   ]
  },
  {
   "cell_type": "code",
   "execution_count": 15,
   "id": "08be8b4b-d2ca-4ed8-8d05-e779fa210714",
   "metadata": {},
   "outputs": [],
   "source": [
    "from pathlib import Path\n",
    "import gdown\n",
    "import pandas as pd\n",
    "import geopandas as gpd\n",
    "import matplotlib.pyplot as plt\n",
    "import numpy as np\n",
    "\n",
    "import micro\n",
    "import gtsa"
   ]
  },
  {
   "cell_type": "markdown",
   "id": "f296dc7d-49a0-4777-a7a5-e6032cc5c2a3",
   "metadata": {},
   "source": [
    "## Download sample data"
   ]
  },
  {
   "cell_type": "code",
   "execution_count": 3,
   "id": "e2d682f2-b28c-4d69-8570-880821233f95",
   "metadata": {},
   "outputs": [
    {
     "name": "stderr",
     "output_type": "stream",
     "text": [
      "Retrieving folder list\n"
     ]
    },
    {
     "name": "stdout",
     "output_type": "stream",
     "text": [
      "Processing file 1M5urMzDTND5cOjmimRECi3041ayX5TJD KID13_hpgf_20201109_20210208_sfm.tif\n",
      "Processing file 1yevAG3FY73cEeej6WCFixEcMHhgenIyT KID13_hpgf_20201109_20210406_sfm.tif\n",
      "Processing file 1d_kU0roLaqxAQK2pJEX7alwdh-kDs0yY KID13_hpgf_20201109_20210513_LiDAR.tif\n",
      "Processing file 1ulSD0TpPj8UsK2ucZCtrOpQU3fOcypdk KID13_hpgf_20201109_20210513_sfm.tif\n",
      "Processing file 1O91mLkTbXqcY6Ych4PklI1-eeeFkenP8 wsyr1_20201109_KID13_LiDAR.tif\n",
      "Processing file 13jUvQ4MGxNlajOv_-wKIvPyMZoR5XbaY wsyr1_20201109_KID13_sfm.tif\n",
      "Processing file 1xkI-VDyD3jfEM1nx4yJUcQTSizLGKTF_ wsyr1_20210208_KID13_sfm.tif\n",
      "Processing file 1fSpRAY8Av-dNwBCTiPJ8_KhsQYTB9x_I wsyr1_20210406_KID13_sfm.tif\n",
      "Processing file 15OGlcttgtjKBjJqcwcS-T5GnlGY-n7WE wsyr1_20210513_KID13_LiDAR.tif\n",
      "Processing file 1scEnHTWHAkdxKLeJnnKEWb7F0Sbm8Am- wsyr1_20210513_KID13_sfm.tif\n",
      "Building directory structure completed\n"
     ]
    },
    {
     "name": "stderr",
     "output_type": "stream",
     "text": [
      "Retrieving folder list completed\n",
      "Building directory structure\n",
      "Downloading...\n",
      "From: https://drive.google.com/uc?id=1M5urMzDTND5cOjmimRECi3041ayX5TJD\n",
      "To: C:\\Users\\Amanda\\Documents\\GitHub\\micro_diff\\data\\dems\\KID13_hpgf_20201109_20210208_sfm.tif\n",
      "100%|█████████████████████████████████████████████████████████████████████████| 44.1M/44.1M [00:00<00:00, 51.3MB/s]\n",
      "Downloading...\n",
      "From: https://drive.google.com/uc?id=1yevAG3FY73cEeej6WCFixEcMHhgenIyT\n",
      "To: C:\\Users\\Amanda\\Documents\\GitHub\\micro_diff\\data\\dems\\KID13_hpgf_20201109_20210406_sfm.tif\n",
      "100%|█████████████████████████████████████████████████████████████████████████| 44.1M/44.1M [00:00<00:00, 63.9MB/s]\n",
      "Downloading...\n",
      "From: https://drive.google.com/uc?id=1d_kU0roLaqxAQK2pJEX7alwdh-kDs0yY\n",
      "To: C:\\Users\\Amanda\\Documents\\GitHub\\micro_diff\\data\\dems\\KID13_hpgf_20201109_20210513_LiDAR.tif\n",
      "100%|█████████████████████████████████████████████████████████████████████████| 88.1M/88.1M [00:02<00:00, 35.0MB/s]\n",
      "Downloading...\n",
      "From: https://drive.google.com/uc?id=1ulSD0TpPj8UsK2ucZCtrOpQU3fOcypdk\n",
      "To: C:\\Users\\Amanda\\Documents\\GitHub\\micro_diff\\data\\dems\\KID13_hpgf_20201109_20210513_sfm.tif\n",
      "100%|█████████████████████████████████████████████████████████████████████████| 44.1M/44.1M [00:00<00:00, 48.3MB/s]\n",
      "Downloading...\n",
      "From: https://drive.google.com/uc?id=1O91mLkTbXqcY6Ych4PklI1-eeeFkenP8\n",
      "To: C:\\Users\\Amanda\\Documents\\GitHub\\micro_diff\\data\\dems\\wsyr1_20201109_KID13_LiDAR.tif\n",
      "100%|█████████████████████████████████████████████████████████████████████████| 88.1M/88.1M [00:01<00:00, 55.6MB/s]\n",
      "Downloading...\n",
      "From: https://drive.google.com/uc?id=13jUvQ4MGxNlajOv_-wKIvPyMZoR5XbaY\n",
      "To: C:\\Users\\Amanda\\Documents\\GitHub\\micro_diff\\data\\dems\\wsyr1_20201109_KID13_sfm.tif\n",
      "100%|█████████████████████████████████████████████████████████████████████████| 44.1M/44.1M [00:01<00:00, 42.8MB/s]\n",
      "Downloading...\n",
      "From: https://drive.google.com/uc?id=1xkI-VDyD3jfEM1nx4yJUcQTSizLGKTF_\n",
      "To: C:\\Users\\Amanda\\Documents\\GitHub\\micro_diff\\data\\dems\\wsyr1_20210208_KID13_sfm.tif\n",
      "100%|█████████████████████████████████████████████████████████████████████████| 44.1M/44.1M [00:00<00:00, 53.6MB/s]\n",
      "Downloading...\n",
      "From: https://drive.google.com/uc?id=1fSpRAY8Av-dNwBCTiPJ8_KhsQYTB9x_I\n",
      "To: C:\\Users\\Amanda\\Documents\\GitHub\\micro_diff\\data\\dems\\wsyr1_20210406_KID13_sfm.tif\n",
      "100%|█████████████████████████████████████████████████████████████████████████| 44.1M/44.1M [00:00<00:00, 54.7MB/s]\n",
      "Downloading...\n",
      "From: https://drive.google.com/uc?id=15OGlcttgtjKBjJqcwcS-T5GnlGY-n7WE\n",
      "To: C:\\Users\\Amanda\\Documents\\GitHub\\micro_diff\\data\\dems\\wsyr1_20210513_KID13_LiDAR.tif\n",
      "100%|█████████████████████████████████████████████████████████████████████████| 88.1M/88.1M [00:01<00:00, 65.2MB/s]\n",
      "Downloading...\n",
      "From: https://drive.google.com/uc?id=1scEnHTWHAkdxKLeJnnKEWb7F0Sbm8Am-\n",
      "To: C:\\Users\\Amanda\\Documents\\GitHub\\micro_diff\\data\\dems\\wsyr1_20210513_KID13_sfm.tif\n",
      "100%|█████████████████████████████████████████████████████████████████████████| 44.1M/44.1M [00:00<00:00, 54.4MB/s]\n",
      "Download completed\n",
      "Retrieving folder list\n"
     ]
    },
    {
     "name": "stdout",
     "output_type": "stream",
     "text": [
      "Processing file 1QNRKa8SUQpSJalUfOfhOfDvrct4VTtlr wsyr1_KID13_ruts.cpg\n",
      "Processing file 1ZMmG805NccYEDT2gWwIbIGDGO_dVBukp wsyr1_KID13_ruts.dbf\n",
      "Processing file 1RZrdlkpUsQ5KDdfJa1zos6iXQphKrLNC wsyr1_KID13_ruts.prj\n",
      "Processing file 1G-jySr_Hr9lV5S0Wa18AuvdoCRIKKzYy wsyr1_KID13_ruts.shp\n",
      "Processing file 1Arv3Esis3FjJsb7xzRTC3eQfrDu4CCOM wsyr1_KID13_ruts.shx\n",
      "Building directory structure completed\n"
     ]
    },
    {
     "name": "stderr",
     "output_type": "stream",
     "text": [
      "Retrieving folder list completed\n",
      "Building directory structure\n",
      "Downloading...\n",
      "From: https://drive.google.com/uc?id=1QNRKa8SUQpSJalUfOfhOfDvrct4VTtlr\n",
      "To: C:\\Users\\Amanda\\Documents\\GitHub\\micro_diff\\data\\vectors\\wsyr1_KID13_ruts.cpg\n",
      "100%|███████████████████████████████████████████████████████████████████████████████████| 5.00/5.00 [00:00<?, ?B/s]\n",
      "Downloading...\n",
      "From: https://drive.google.com/uc?id=1ZMmG805NccYEDT2gWwIbIGDGO_dVBukp\n",
      "To: C:\\Users\\Amanda\\Documents\\GitHub\\micro_diff\\data\\vectors\\wsyr1_KID13_ruts.dbf\n",
      "100%|███████████████████████████████████████████████████████████████████████████| 88.0/88.0 [00:00<00:00, 87.9kB/s]\n",
      "Downloading...\n",
      "From: https://drive.google.com/uc?id=1RZrdlkpUsQ5KDdfJa1zos6iXQphKrLNC\n",
      "To: C:\\Users\\Amanda\\Documents\\GitHub\\micro_diff\\data\\vectors\\wsyr1_KID13_ruts.prj\n",
      "100%|█████████████████████████████████████████████████████████████████████████████████████| 403/403 [00:00<?, ?B/s]\n",
      "Downloading...\n",
      "From: https://drive.google.com/uc?id=1G-jySr_Hr9lV5S0Wa18AuvdoCRIKKzYy\n",
      "To: C:\\Users\\Amanda\\Documents\\GitHub\\micro_diff\\data\\vectors\\wsyr1_KID13_ruts.shp\n",
      "100%|█████████████████████████████████████████████████████████████████████████| 2.13k/2.13k [00:00<00:00, 2.23MB/s]\n",
      "Downloading...\n",
      "From: https://drive.google.com/uc?id=1Arv3Esis3FjJsb7xzRTC3eQfrDu4CCOM\n",
      "To: C:\\Users\\Amanda\\Documents\\GitHub\\micro_diff\\data\\vectors\\wsyr1_KID13_ruts.shx\n",
      "100%|█████████████████████████████████████████████████████████████████████████████████████| 116/116 [00:00<?, ?B/s]\n",
      "Download completed\n"
     ]
    },
    {
     "data": {
      "text/plain": [
       "['../data/vectors\\\\wsyr1_KID13_ruts.cpg',\n",
       " '../data/vectors\\\\wsyr1_KID13_ruts.dbf',\n",
       " '../data/vectors\\\\wsyr1_KID13_ruts.prj',\n",
       " '../data/vectors\\\\wsyr1_KID13_ruts.shp',\n",
       " '../data/vectors\\\\wsyr1_KID13_ruts.shx']"
      ]
     },
     "execution_count": 3,
     "metadata": {},
     "output_type": "execute_result"
    }
   ],
   "source": [
    "url = 'https://drive.google.com/drive/folders/1CxLSaQl8VzsGrKUJUVjRUh2yYwWJGNrl'\n",
    "dem_folder='../data/dems'\n",
    "gdown.download_folder(url, output=dem_folder, quiet=False, use_cookies=False)\n",
    "\n",
    "url = 'https://drive.google.com/drive/folders/1KVlr6hueLEqRIfizw74y0VAR_m9i6jlI'\n",
    "vector_folder='../data/vectors'\n",
    "gdown.download_folder(url, output=vector_folder, quiet=False, use_cookies=False)"
   ]
  },
  {
   "cell_type": "code",
   "execution_count": 4,
   "id": "5a37a38f-7557-4d25-b22d-c904456ee21a",
   "metadata": {},
   "outputs": [
    {
     "name": "stdout",
     "output_type": "stream",
     "text": [
      "Folder PATH listing\n",
      "Volume serial number is B04D-5D64\n",
      "C:\\USERS\\AMANDA\\DOCUMENTS\\GITHUB\\MICRO_DIFF\\DATA\n",
      "+---dems\n",
      "+---vectors\n"
     ]
    }
   ],
   "source": [
    "!tree ../data/"
   ]
  },
  {
   "cell_type": "code",
   "execution_count": 5,
   "id": "899472de-2441-490c-9979-de0aa157a358",
   "metadata": {},
   "outputs": [],
   "source": [
    "dsm_files = sorted(Path(dem_folder).glob('ws*.tif'))\n",
    "dsm_files = [i.as_posix() for i in dsm_files] # convert from posix path to string"
   ]
  },
  {
   "cell_type": "code",
   "execution_count": 6,
   "id": "6bb0915d-d2b2-4935-b48b-ac2025999286",
   "metadata": {},
   "outputs": [
    {
     "data": {
      "text/plain": [
       "['../data/dems/wsyr1_20201109_KID13_LiDAR.tif',\n",
       " '../data/dems/wsyr1_20201109_KID13_sfm.tif',\n",
       " '../data/dems/wsyr1_20210208_KID13_sfm.tif',\n",
       " '../data/dems/wsyr1_20210406_KID13_sfm.tif',\n",
       " '../data/dems/wsyr1_20210513_KID13_LiDAR.tif',\n",
       " '../data/dems/wsyr1_20210513_KID13_sfm.tif']"
      ]
     },
     "execution_count": 6,
     "metadata": {},
     "output_type": "execute_result"
    }
   ],
   "source": [
    "dsm_files"
   ]
  },
  {
   "cell_type": "markdown",
   "id": "9843d07d-0575-4b89-b52f-459eaeadf4fa",
   "metadata": {},
   "source": [
    "## Select analysis ready data\n",
    "- Assuming SfM and lidar collected on the same data are only used for validation of the SfM data\n",
    "- Assuming the lidar is always \"better\" and will thus be used for the quantitative measurements and time series analysis"
   ]
  },
  {
   "cell_type": "code",
   "execution_count": 7,
   "id": "164db0d8-ea78-4ac1-a924-0d38f8a600fe",
   "metadata": {},
   "outputs": [],
   "source": [
    "dsm_files = ['../data/dems/wsyr1_20201109_KID13_LiDAR.tif',\n",
    "             # '../data/dems/wsyr1_20201109_KID13_sfm.tif',\n",
    "             '../data/dems/wsyr1_20210208_KID13_sfm.tif',\n",
    "             '../data/dems/wsyr1_20210406_KID13_sfm.tif',\n",
    "             '../data/dems/wsyr1_20210513_KID13_LiDAR.tif',\n",
    "             # '../data/dems/wsyr1_20210513_KID13_sfm.tif',\n",
    "            ]"
   ]
  },
  {
   "cell_type": "markdown",
   "id": "56d26543-bd18-4da3-b543-d9117699e240",
   "metadata": {},
   "source": [
    "## Parse time stamps"
   ]
  },
  {
   "cell_type": "code",
   "execution_count": 8,
   "id": "01b1fc60-cfc2-4635-946c-d5e4fa0a8654",
   "metadata": {},
   "outputs": [],
   "source": [
    "strings = gtsa.io.parse_timestamps(dsm_files, date_string_pattern='_........_')\n",
    "date_strings = [x[1:-1] for x in strings]\n",
    "\n",
    "# ensure chronological sorting\n",
    "date_strings, dsm_files = list(zip(*sorted(zip(date_strings, dsm_files))))\n",
    "date_times = [pd.to_datetime(x, format='%Y%m%d') for x in date_strings]"
   ]
  },
  {
   "cell_type": "code",
   "execution_count": 9,
   "id": "f3a165aa-f21d-4a88-971f-ea20508036d6",
   "metadata": {},
   "outputs": [
    {
     "data": {
      "text/plain": [
       "[('20201109', '../data/dems/wsyr1_20201109_KID13_LiDAR.tif'),\n",
       " ('20210208', '../data/dems/wsyr1_20210208_KID13_sfm.tif'),\n",
       " ('20210406', '../data/dems/wsyr1_20210406_KID13_sfm.tif'),\n",
       " ('20210513', '../data/dems/wsyr1_20210513_KID13_LiDAR.tif')]"
      ]
     },
     "execution_count": 9,
     "metadata": {},
     "output_type": "execute_result"
    }
   ],
   "source": [
    "list(zip(date_strings, dsm_files))"
   ]
  },
  {
   "cell_type": "markdown",
   "id": "5d35b92f-d52a-4817-8857-57f9aa74c0ef",
   "metadata": {},
   "source": [
    "## Create stack\n",
    "- resample to reference DEM grid and save as netcdf"
   ]
  },
  {
   "cell_type": "code",
   "execution_count": 10,
   "id": "4cce6626-0a97-4d0d-a84b-0b40eb5e7937",
   "metadata": {},
   "outputs": [
    {
     "name": "stdout",
     "output_type": "stream",
     "text": [
      "Resampled 4 of 4 dems to match reference DEM spatial_ref, crs, transform, bounds, and resolution.\n",
      "Reading files from ..\\data\\dems\n"
     ]
    }
   ],
   "source": [
    "reference_dem = dsm_files[0]\n",
    "\n",
    "ds = gtsa.io.xr_stack_geotifs(\n",
    "    dsm_files,\n",
    "    date_times,\n",
    "    reference_dem,\n",
    "    resampling='cubic',\n",
    "    save_to_nc=True,\n",
    "    # nc_out_dir=None,\n",
    "    overwrite=True,\n",
    "    cleanup=False,\n",
    "    verbose=True,\n",
    ")"
   ]
  },
  {
   "cell_type": "markdown",
   "id": "977735a2-7356-481f-8365-e5ae1a2ebe4f",
   "metadata": {},
   "source": [
    "## Plot first time stamp"
   ]
  },
  {
   "cell_type": "code",
   "execution_count": 11,
   "id": "be524b5c-c8d4-43fe-b6da-cfda0e34819d",
   "metadata": {},
   "outputs": [
    {
     "data": {
      "text/plain": [
       "<matplotlib.collections.QuadMesh at 0x1d8c7165590>"
      ]
     },
     "execution_count": 11,
     "metadata": {},
     "output_type": "execute_result"
    },
    {
     "data": {
      "image/png": "[encoded data removed]",
      "text/plain": [
       "<Figure size 500x500 with 2 Axes>"
      ]
     },
     "metadata": {},
     "output_type": "display_data"
    }
   ],
   "source": [
    "ds['band1'].isel(time=0).plot(aspect='equal', \n",
    "                              size=5)"
   ]
  },
  {
   "cell_type": "markdown",
   "id": "cd83f732-e215-4fdf-baa8-b9646e9923cf",
   "metadata": {},
   "source": [
    "## Compute differences for stack"
   ]
  },
  {
   "cell_type": "code",
   "execution_count": 12,
   "id": "456f5f84-a717-4297-a99f-314e2d682b0c",
   "metadata": {},
   "outputs": [],
   "source": [
    "ds_diff = ds['band1'].diff(dim='time')"
   ]
  },
  {
   "cell_type": "code",
   "execution_count": 13,
   "id": "715fc0f7-fd2c-4b6e-bf34-efc362acb726",
   "metadata": {
    "jupyter": {
     "source_hidden": true
    }
   },
   "outputs": [],
   "source": [
    "#Compiled from pygeotools (dshean) and himat2cryo repositories\n",
    "#given to me by Shashank\n",
    "\n",
    "def checkma(a, fix=False):\n",
    "    #isinstance(a, np.ma.MaskedArray)\n",
    "    if np.ma.is_masked(a):\n",
    "        out=a\n",
    "    else:\n",
    "        out=np.ma.array(a)\n",
    "    #added to original code:\n",
    "    return out\n",
    "\n",
    "def maskfill(a, iterations=1, erode=False):\n",
    "    import scipy.ndimage as ndimage \n",
    "    a = checkma(a)\n",
    "    if erode:\n",
    "        a = mask_islands(a, iterations)\n",
    "    bmask = (~np.ma.getmaskarray(a))\n",
    "    bmask_filled = ndimage.morphology.binary_fill_holes(bmask)\n",
    "    #This will create valid values with a.filled in the original ma\n",
    "    #a_erode.mask[:] = ~bmask_filled\n",
    "    #return a_erode\n",
    "    return ~bmask_filled\n",
    "\n",
    "def gauss_fltr_astropy_fft(dem, size=None, sigma=None, origmask=False, fill_interior=False):\n",
    "    \n",
    "    \"\"\"\n",
    "    ***From pygeotools, commit to mainstream repo after full testing***\n",
    "    # I use this over the direct Gaussian astropy filter  as it is way faster for large kernels\n",
    "    Astropy gaussian filter properly handles convolution with NaN\n",
    "    http://stackoverflow.com/questions/23832852/by-which-measures-should-i-set-the-size-of-my-gaussian-filter-in-matlab\n",
    "    width1 = 3; sigma1 = (width1-1) / 6;\n",
    "    Specify width for smallest feature of interest and determine sigma appropriately\n",
    "    sigma is width of 1 std in pixels (not multiplier)\n",
    "    scipy and astropy both use cutoff of 4*sigma on either side of kernel - 99.994%\n",
    "    3*sigma on either side of kernel - 99.7%\n",
    "    If sigma is specified, filter width will be a multiple of 8 times sigma \n",
    "    Alternatively, specify filter size, then compute sigma: sigma = (size - 1) / 8.\n",
    "    If size is < the required width for 6-8 sigma, need to use different mode to create kernel\n",
    "    mode 'oversample' and 'center' are essentially identical for sigma 1, but very different for sigma 0.3\n",
    "    The sigma/size calculations below should work for non-integer sigma\n",
    "    \"\"\"\n",
    "\n",
    "    #import astropy.nddata\n",
    "    import astropy.convolution\n",
    "    dem = checkma(dem)\n",
    "    #Generate 2D gaussian kernel for input sigma and size\n",
    "    #Default size is 8*sigma in x and y directions\n",
    "    #kernel = astropy.nddata.make_kernel([size, size], sigma, 'gaussian')\n",
    "    #Size must be odd\n",
    "    if size is not None:\n",
    "        size = int(np.floor(size/2)*2 + 1)\n",
    "        size = max(size, 3)\n",
    "    #Truncate the filter at this many standard deviations. Default is 4.0\n",
    "    truncate = 3.0\n",
    "    if size is not None and sigma is None:\n",
    "        sigma = (size - 1) / (2*truncate)\n",
    "    elif size is None and sigma is not None:\n",
    "        #Round up to nearest odd int\n",
    "        size = int(np.ceil((sigma * (2*truncate) + 1)/2)*2 - 1)\n",
    "    elif size is None and sigma is None:\n",
    "        #Use default parameters\n",
    "        sigma = 1\n",
    "        size = int(np.ceil((sigma * (2*truncate) + 1)/2)*2 - 1)\n",
    "    size = max(size, 3)\n",
    "    kernel = astropy.convolution.Gaussian2DKernel(sigma, x_size=size, y_size=size, mode='oversample')\n",
    "\n",
    "    print(\"Applying gaussian smoothing filter with size %i and sigma %0.3f (sum %0.3f)\" % \\\n",
    "            (size, sigma, kernel.array.sum()))\n",
    "\n",
    "    #This will fill holes\n",
    "    #np.nan is float\n",
    "    #dem_filt_gauss = astropy.nddata.convolve(dem.astype(float).filled(np.nan), kernel, boundary='fill', fill_value=np.nan)\n",
    "    #dem_filt_gauss = astropy.convolution.convolve(dem.astype(float).filled(np.nan), kernel, boundary='fill', fill_value=np.nan)\n",
    "    #Added normalization to ensure filtered values are not brightened/darkened if kernelsum != 1\n",
    "    dem_filt_gauss = astropy.convolution.convolve_fft(dem.astype(float).filled(np.nan), kernel, boundary='fill', \n",
    "                                                      fill_value=np.nan, normalize_kernel=True,\n",
    "                                                     allow_huge=True)\n",
    "    #This will preserve original ndv pixels, applying original mask after filtering\n",
    "    if origmask:\n",
    "        print(\"Applying original mask\")\n",
    "        #Allow filling of interior holes, but use original outer edge\n",
    "        if fill_interior:\n",
    "            mask = maskfill(dem)\n",
    "        else:\n",
    "            mask = dem.mask\n",
    "        dem_filt_gauss = np.ma.array(dem_filt_gauss, mask=mask, fill_value=dem.fill_value)\n",
    "    out = np.ma.fix_invalid(dem_filt_gauss, copy=False, fill_value=dem.fill_value)\n",
    "    out.set_fill_value(dem.fill_value.astype(dem.dtype))\n",
    "    return out.astype(dem.dtype), size"
   ]
  },
  {
   "cell_type": "code",
   "execution_count": 54,
   "id": "6130e37c-f493-4799-8b9b-e36f44166896",
   "metadata": {},
   "outputs": [
    {
     "data": {
      "text/html": [
       "<div><svg style=\"position: absolute; width: 0; height: 0; overflow: hidden\">\n",
       "<defs>\n",
       "<symbol id=\"icon-database\" viewBox=\"0 0 32 32\">\n",
       "<path d=\"M16 0c-8.837 0-16 2.239-16 5v4c0 2.761 7.163 5 16 5s16-2.239 16-5v-4c0-2.761-7.163-5-16-5z\"></path>\n",
       "<path d=\"M16 17c-8.837 0-16-2.239-16-5v6c0 2.761 7.163 5 16 5s16-2.239 16-5v-6c0 2.761-7.163 5-16 5z\"></path>\n",
       "<path d=\"M16 26c-8.837 0-16-2.239-16-5v6c0 2.761 7.163 5 16 5s16-2.239 16-5v-6c0 2.761-7.163 5-16 5z\"></path>\n",
       "</symbol>\n",
       "<symbol id=\"icon-file-text2\" viewBox=\"0 0 32 32\">\n",
       "<path d=\"M28.681 7.159c-0.694-0.947-1.662-2.053-2.724-3.116s-2.169-2.030-3.116-2.724c-1.612-1.182-2.393-1.319-2.841-1.319h-15.5c-1.378 0-2.5 1.121-2.5 2.5v27c0 1.378 1.122 2.5 2.5 2.5h23c1.378 0 2.5-1.122 2.5-2.5v-19.5c0-0.448-0.137-1.23-1.319-2.841zM24.543 5.457c0.959 0.959 1.712 1.825 2.268 2.543h-4.811v-4.811c0.718 0.556 1.584 1.309 2.543 2.268zM28 29.5c0 0.271-0.229 0.5-0.5 0.5h-23c-0.271 0-0.5-0.229-0.5-0.5v-27c0-0.271 0.229-0.5 0.5-0.5 0 0 15.499-0 15.5 0v7c0 0.552 0.448 1 1 1h7v19.5z\"></path>\n",
       "<path d=\"M23 26h-14c-0.552 0-1-0.448-1-1s0.448-1 1-1h14c0.552 0 1 0.448 1 1s-0.448 1-1 1z\"></path>\n",
       "<path d=\"M23 22h-14c-0.552 0-1-0.448-1-1s0.448-1 1-1h14c0.552 0 1 0.448 1 1s-0.448 1-1 1z\"></path>\n",
       "<path d=\"M23 18h-14c-0.552 0-1-0.448-1-1s0.448-1 1-1h14c0.552 0 1 0.448 1 1s-0.448 1-1 1z\"></path>\n",
       "</symbol>\n",
       "</defs>\n",
       "</svg>\n",
       "<style>/* CSS stylesheet for displaying xarray objects in jupyterlab.\n",
       " *\n",
       " */\n",
       "\n",
       ":root {\n",
       "  --xr-font-color0: var(--jp-content-font-color0, rgba(0, 0, 0, 1));\n",
       "  --xr-font-color2: var(--jp-content-font-color2, rgba(0, 0, 0, 0.54));\n",
       "  --xr-font-color3: var(--jp-content-font-color3, rgba(0, 0, 0, 0.38));\n",
       "  --xr-border-color: var(--jp-border-color2, #e0e0e0);\n",
       "  --xr-disabled-color: var(--jp-layout-color3, #bdbdbd);\n",
       "  --xr-background-color: var(--jp-layout-color0, white);\n",
       "  --xr-background-color-row-even: var(--jp-layout-color1, white);\n",
       "  --xr-background-color-row-odd: var(--jp-layout-color2, #eeeeee);\n",
       "}\n",
       "\n",
       "html[theme=dark],\n",
       "body[data-theme=dark],\n",
       "body.vscode-dark {\n",
       "  --xr-font-color0: rgba(255, 255, 255, 1);\n",
       "  --xr-font-color2: rgba(255, 255, 255, 0.54);\n",
       "  --xr-font-color3: rgba(255, 255, 255, 0.38);\n",
       "  --xr-border-color: #1F1F1F;\n",
       "  --xr-disabled-color: #515151;\n",
       "  --xr-background-color: #111111;\n",
       "  --xr-background-color-row-even: #111111;\n",
       "  --xr-background-color-row-odd: #313131;\n",
       "}\n",
       "\n",
       ".xr-wrap {\n",
       "  display: block !important;\n",
       "  min-width: 300px;\n",
       "  max-width: 700px;\n",
       "}\n",
       "\n",
       ".xr-text-repr-fallback {\n",
       "  /* fallback to plain text repr when CSS is not injected (untrusted notebook) */\n",
       "  display: none;\n",
       "}\n",
       "\n",
       ".xr-header {\n",
       "  padding-top: 6px;\n",
       "  padding-bottom: 6px;\n",
       "  margin-bottom: 4px;\n",
       "  border-bottom: solid 1px var(--xr-border-color);\n",
       "}\n",
       "\n",
       ".xr-header > div,\n",
       ".xr-header > ul {\n",
       "  display: inline;\n",
       "  margin-top: 0;\n",
       "  margin-bottom: 0;\n",
       "}\n",
       "\n",
       ".xr-obj-type,\n",
       ".xr-array-name {\n",
       "  margin-left: 2px;\n",
       "  margin-right: 10px;\n",
       "}\n",
       "\n",
       ".xr-obj-type {\n",
       "  color: var(--xr-font-color2);\n",
       "}\n",
       "\n",
       ".xr-sections {\n",
       "  padding-left: 0 !important;\n",
       "  display: grid;\n",
       "  grid-template-columns: 150px auto auto 1fr 20px 20px;\n",
       "}\n",
       "\n",
       ".xr-section-item {\n",
       "  display: contents;\n",
       "}\n",
       "\n",
       ".xr-section-item input {\n",
       "  display: none;\n",
       "}\n",
       "\n",
       ".xr-section-item input + label {\n",
       "  color: var(--xr-disabled-color);\n",
       "}\n",
       "\n",
       ".xr-section-item input:enabled + label {\n",
       "  cursor: pointer;\n",
       "  color: var(--xr-font-color2);\n",
       "}\n",
       "\n",
       ".xr-section-item input:enabled + label:hover {\n",
       "  color: var(--xr-font-color0);\n",
       "}\n",
       "\n",
       ".xr-section-summary {\n",
       "  grid-column: 1;\n",
       "  color: var(--xr-font-color2);\n",
       "  font-weight: 500;\n",
       "}\n",
       "\n",
       ".xr-section-summary > span {\n",
       "  display: inline-block;\n",
       "  padding-left: 0.5em;\n",
       "}\n",
       "\n",
       ".xr-section-summary-in:disabled + label {\n",
       "  color: var(--xr-font-color2);\n",
       "}\n",
       "\n",
       ".xr-section-summary-in + label:before {\n",
       "  display: inline-block;\n",
       "  content: '►';\n",
       "  font-size: 11px;\n",
       "  width: 15px;\n",
       "  text-align: center;\n",
       "}\n",
       "\n",
       ".xr-section-summary-in:disabled + label:before {\n",
       "  color: var(--xr-disabled-color);\n",
       "}\n",
       "\n",
       ".xr-section-summary-in:checked + label:before {\n",
       "  content: '▼';\n",
       "}\n",
       "\n",
       ".xr-section-summary-in:checked + label > span {\n",
       "  display: none;\n",
       "}\n",
       "\n",
       ".xr-section-summary,\n",
       ".xr-section-inline-details {\n",
       "  padding-top: 4px;\n",
       "  padding-bottom: 4px;\n",
       "}\n",
       "\n",
       ".xr-section-inline-details {\n",
       "  grid-column: 2 / -1;\n",
       "}\n",
       "\n",
       ".xr-section-details {\n",
       "  display: none;\n",
       "  grid-column: 1 / -1;\n",
       "  margin-bottom: 5px;\n",
       "}\n",
       "\n",
       ".xr-section-summary-in:checked ~ .xr-section-details {\n",
       "  display: contents;\n",
       "}\n",
       "\n",
       ".xr-array-wrap {\n",
       "  grid-column: 1 / -1;\n",
       "  display: grid;\n",
       "  grid-template-columns: 20px auto;\n",
       "}\n",
       "\n",
       ".xr-array-wrap > label {\n",
       "  grid-column: 1;\n",
       "  vertical-align: top;\n",
       "}\n",
       "\n",
       ".xr-preview {\n",
       "  color: var(--xr-font-color3);\n",
       "}\n",
       "\n",
       ".xr-array-preview,\n",
       ".xr-array-data {\n",
       "  padding: 0 5px !important;\n",
       "  grid-column: 2;\n",
       "}\n",
       "\n",
       ".xr-array-data,\n",
       ".xr-array-in:checked ~ .xr-array-preview {\n",
       "  display: none;\n",
       "}\n",
       "\n",
       ".xr-array-in:checked ~ .xr-array-data,\n",
       ".xr-array-preview {\n",
       "  display: inline-block;\n",
       "}\n",
       "\n",
       ".xr-dim-list {\n",
       "  display: inline-block !important;\n",
       "  list-style: none;\n",
       "  padding: 0 !important;\n",
       "  margin: 0;\n",
       "}\n",
       "\n",
       ".xr-dim-list li {\n",
       "  display: inline-block;\n",
       "  padding: 0;\n",
       "  margin: 0;\n",
       "}\n",
       "\n",
       ".xr-dim-list:before {\n",
       "  content: '(';\n",
       "}\n",
       "\n",
       ".xr-dim-list:after {\n",
       "  content: ')';\n",
       "}\n",
       "\n",
       ".xr-dim-list li:not(:last-child):after {\n",
       "  content: ',';\n",
       "  padding-right: 5px;\n",
       "}\n",
       "\n",
       ".xr-has-index {\n",
       "  font-weight: bold;\n",
       "}\n",
       "\n",
       ".xr-var-list,\n",
       ".xr-var-item {\n",
       "  display: contents;\n",
       "}\n",
       "\n",
       ".xr-var-item > div,\n",
       ".xr-var-item label,\n",
       ".xr-var-item > .xr-var-name span {\n",
       "  background-color: var(--xr-background-color-row-even);\n",
       "  margin-bottom: 0;\n",
       "}\n",
       "\n",
       ".xr-var-item > .xr-var-name:hover span {\n",
       "  padding-right: 5px;\n",
       "}\n",
       "\n",
       ".xr-var-list > li:nth-child(odd) > div,\n",
       ".xr-var-list > li:nth-child(odd) > label,\n",
       ".xr-var-list > li:nth-child(odd) > .xr-var-name span {\n",
       "  background-color: var(--xr-background-color-row-odd);\n",
       "}\n",
       "\n",
       ".xr-var-name {\n",
       "  grid-column: 1;\n",
       "}\n",
       "\n",
       ".xr-var-dims {\n",
       "  grid-column: 2;\n",
       "}\n",
       "\n",
       ".xr-var-dtype {\n",
       "  grid-column: 3;\n",
       "  text-align: right;\n",
       "  color: var(--xr-font-color2);\n",
       "}\n",
       "\n",
       ".xr-var-preview {\n",
       "  grid-column: 4;\n",
       "}\n",
       "\n",
       ".xr-index-preview {\n",
       "  grid-column: 2 / 5;\n",
       "  color: var(--xr-font-color2);\n",
       "}\n",
       "\n",
       ".xr-var-name,\n",
       ".xr-var-dims,\n",
       ".xr-var-dtype,\n",
       ".xr-preview,\n",
       ".xr-attrs dt {\n",
       "  white-space: nowrap;\n",
       "  overflow: hidden;\n",
       "  text-overflow: ellipsis;\n",
       "  padding-right: 10px;\n",
       "}\n",
       "\n",
       ".xr-var-name:hover,\n",
       ".xr-var-dims:hover,\n",
       ".xr-var-dtype:hover,\n",
       ".xr-attrs dt:hover {\n",
       "  overflow: visible;\n",
       "  width: auto;\n",
       "  z-index: 1;\n",
       "}\n",
       "\n",
       ".xr-var-attrs,\n",
       ".xr-var-data,\n",
       ".xr-index-data {\n",
       "  display: none;\n",
       "  background-color: var(--xr-background-color) !important;\n",
       "  padding-bottom: 5px !important;\n",
       "}\n",
       "\n",
       ".xr-var-attrs-in:checked ~ .xr-var-attrs,\n",
       ".xr-var-data-in:checked ~ .xr-var-data,\n",
       ".xr-index-data-in:checked ~ .xr-index-data {\n",
       "  display: block;\n",
       "}\n",
       "\n",
       ".xr-var-data > table {\n",
       "  float: right;\n",
       "}\n",
       "\n",
       ".xr-var-name span,\n",
       ".xr-var-data,\n",
       ".xr-index-name div,\n",
       ".xr-index-data,\n",
       ".xr-attrs {\n",
       "  padding-left: 25px !important;\n",
       "}\n",
       "\n",
       ".xr-attrs,\n",
       ".xr-var-attrs,\n",
       ".xr-var-data,\n",
       ".xr-index-data {\n",
       "  grid-column: 1 / -1;\n",
       "}\n",
       "\n",
       "dl.xr-attrs {\n",
       "  padding: 0;\n",
       "  margin: 0;\n",
       "  display: grid;\n",
       "  grid-template-columns: 125px auto;\n",
       "}\n",
       "\n",
       ".xr-attrs dt,\n",
       ".xr-attrs dd {\n",
       "  padding: 0;\n",
       "  margin: 0;\n",
       "  float: left;\n",
       "  padding-right: 10px;\n",
       "  width: auto;\n",
       "}\n",
       "\n",
       ".xr-attrs dt {\n",
       "  font-weight: normal;\n",
       "  grid-column: 1;\n",
       "}\n",
       "\n",
       ".xr-attrs dt:hover span {\n",
       "  display: inline-block;\n",
       "  background: var(--xr-background-color);\n",
       "  padding-right: 10px;\n",
       "}\n",
       "\n",
       ".xr-attrs dd {\n",
       "  grid-column: 2;\n",
       "  white-space: pre-wrap;\n",
       "  word-break: break-all;\n",
       "}\n",
       "\n",
       ".xr-icon-database,\n",
       ".xr-icon-file-text2,\n",
       ".xr-no-icon {\n",
       "  display: inline-block;\n",
       "  vertical-align: middle;\n",
       "  width: 1em;\n",
       "  height: 1.5em !important;\n",
       "  stroke-width: 0;\n",
       "  stroke: currentColor;\n",
       "  fill: currentColor;\n",
       "}\n",
       "</style><pre class='xr-text-repr-fallback'>&lt;xarray.DataArray &#x27;band1&#x27; (y: 8377, x: 1314)&gt;\n",
       "dask.array&lt;getitem, shape=(8377, 1314), dtype=float64, chunksize=(8377, 1314), chunktype=numpy.ndarray&gt;\n",
       "Coordinates:\n",
       "  * y            (y) float64 5.098e+03 5.098e+03 ... 5.014e+03 5.014e+03\n",
       "  * x            (x) float64 4.989e+03 4.989e+03 ... 5.002e+03 5.002e+03\n",
       "    time         datetime64[ns] 2021-02-08\n",
       "    spatial_ref  int32 0</pre><div class='xr-wrap' style='display:none'><div class='xr-header'><div class='xr-obj-type'>xarray.DataArray</div><div class='xr-array-name'>'band1'</div><ul class='xr-dim-list'><li><span class='xr-has-index'>y</span>: 8377</li><li><span class='xr-has-index'>x</span>: 1314</li></ul></div><ul class='xr-sections'><li class='xr-section-item'><div class='xr-array-wrap'><input id='section-63bd69cd-01a5-4b3a-bc14-9eedb87abbbb' class='xr-array-in' type='checkbox' checked><label for='section-63bd69cd-01a5-4b3a-bc14-9eedb87abbbb' title='Show/hide data repr'><svg class='icon xr-icon-database'><use xlink:href='#icon-database'></use></svg></label><div class='xr-array-preview xr-preview'><span>dask.array&lt;chunksize=(8377, 1314), meta=np.ndarray&gt;</span></div><div class='xr-array-data'><table>\n",
       "    <tr>\n",
       "        <td>\n",
       "            <table style=\"border-collapse: collapse;\">\n",
       "                <thead>\n",
       "                    <tr>\n",
       "                        <td> </td>\n",
       "                        <th> Array </th>\n",
       "                        <th> Chunk </th>\n",
       "                    </tr>\n",
       "                </thead>\n",
       "                <tbody>\n",
       "                    \n",
       "                    <tr>\n",
       "                        <th> Bytes </th>\n",
       "                        <td> 83.98 MiB </td>\n",
       "                        <td> 83.98 MiB </td>\n",
       "                    </tr>\n",
       "                    \n",
       "                    <tr>\n",
       "                        <th> Shape </th>\n",
       "                        <td> (8377, 1314) </td>\n",
       "                        <td> (8377, 1314) </td>\n",
       "                    </tr>\n",
       "                    <tr>\n",
       "                        <th> Dask graph </th>\n",
       "                        <td colspan=\"2\"> 1 chunks in 15 graph layers </td>\n",
       "                    </tr>\n",
       "                    <tr>\n",
       "                        <th> Data type </th>\n",
       "                        <td colspan=\"2\"> float64 numpy.ndarray </td>\n",
       "                    </tr>\n",
       "                </tbody>\n",
       "            </table>\n",
       "        </td>\n",
       "        <td>\n",
       "        <svg width=\"90\" height=\"170\" style=\"stroke:rgb(0,0,0);stroke-width:1\" >\n",
       "\n",
       "  <!-- Horizontal lines -->\n",
       "  <line x1=\"0\" y1=\"0\" x2=\"40\" y2=\"0\" style=\"stroke-width:2\" />\n",
       "  <line x1=\"0\" y1=\"120\" x2=\"40\" y2=\"120\" style=\"stroke-width:2\" />\n",
       "\n",
       "  <!-- Vertical lines -->\n",
       "  <line x1=\"0\" y1=\"0\" x2=\"0\" y2=\"120\" style=\"stroke-width:2\" />\n",
       "  <line x1=\"40\" y1=\"0\" x2=\"40\" y2=\"120\" style=\"stroke-width:2\" />\n",
       "\n",
       "  <!-- Colored Rectangle -->\n",
       "  <polygon points=\"0.0,0.0 40.92020914538676,0.0 40.92020914538676,120.0 0.0,120.0\" style=\"fill:#ECB172A0;stroke-width:0\"/>\n",
       "\n",
       "  <!-- Text -->\n",
       "  <text x=\"20.460105\" y=\"140.000000\" font-size=\"1.0rem\" font-weight=\"100\" text-anchor=\"middle\" >1314</text>\n",
       "  <text x=\"60.920209\" y=\"60.000000\" font-size=\"1.0rem\" font-weight=\"100\" text-anchor=\"middle\" transform=\"rotate(-90,60.920209,60.000000)\">8377</text>\n",
       "</svg>\n",
       "        </td>\n",
       "    </tr>\n",
       "</table></div></div></li><li class='xr-section-item'><input id='section-0100a8f0-56c5-4731-b8b8-63260f19772e' class='xr-section-summary-in' type='checkbox'  checked><label for='section-0100a8f0-56c5-4731-b8b8-63260f19772e' class='xr-section-summary' >Coordinates: <span>(4)</span></label><div class='xr-section-inline-details'></div><div class='xr-section-details'><ul class='xr-var-list'><li class='xr-var-item'><div class='xr-var-name'><span class='xr-has-index'>y</span></div><div class='xr-var-dims'>(y)</div><div class='xr-var-dtype'>float64</div><div class='xr-var-preview xr-preview'>5.098e+03 5.098e+03 ... 5.014e+03</div><input id='attrs-9d45045a-694d-4487-8958-fca2ab79ee50' class='xr-var-attrs-in' type='checkbox' ><label for='attrs-9d45045a-694d-4487-8958-fca2ab79ee50' title='Show/Hide attributes'><svg class='icon xr-icon-file-text2'><use xlink:href='#icon-file-text2'></use></svg></label><input id='data-cc8e9c72-1525-47e1-909d-ccd4c0e9f069' class='xr-var-data-in' type='checkbox'><label for='data-cc8e9c72-1525-47e1-909d-ccd4c0e9f069' title='Show/Hide data repr'><svg class='icon xr-icon-database'><use xlink:href='#icon-database'></use></svg></label><div class='xr-var-attrs'><dl class='xr-attrs'><dt><span>axis :</span></dt><dd>Y</dd><dt><span>long_name :</span></dt><dd>y coordinate of projection</dd><dt><span>standard_name :</span></dt><dd>projection_y_coordinate</dd><dt><span>units :</span></dt><dd>metre</dd></dl></div><div class='xr-var-data'><pre>array([5097.778105, 5097.768105, 5097.758105, ..., 5014.038105, 5014.028105,\n",
       "       5014.018105])</pre></div></li><li class='xr-var-item'><div class='xr-var-name'><span class='xr-has-index'>x</span></div><div class='xr-var-dims'>(x)</div><div class='xr-var-dtype'>float64</div><div class='xr-var-preview xr-preview'>4.989e+03 4.989e+03 ... 5.002e+03</div><input id='attrs-62786fc9-5db2-4b8b-94e0-4e61af72cc73' class='xr-var-attrs-in' type='checkbox' ><label for='attrs-62786fc9-5db2-4b8b-94e0-4e61af72cc73' title='Show/Hide attributes'><svg class='icon xr-icon-file-text2'><use xlink:href='#icon-file-text2'></use></svg></label><input id='data-7efb1f8c-b2fd-4bbc-8e69-995f64505619' class='xr-var-data-in' type='checkbox'><label for='data-7efb1f8c-b2fd-4bbc-8e69-995f64505619' title='Show/Hide data repr'><svg class='icon xr-icon-database'><use xlink:href='#icon-database'></use></svg></label><div class='xr-var-attrs'><dl class='xr-attrs'><dt><span>axis :</span></dt><dd>X</dd><dt><span>long_name :</span></dt><dd>x coordinate of projection</dd><dt><span>standard_name :</span></dt><dd>projection_x_coordinate</dd><dt><span>units :</span></dt><dd>metre</dd></dl></div><div class='xr-var-data'><pre>array([4988.809941, 4988.819941, 4988.829941, ..., 5001.919941, 5001.929941,\n",
       "       5001.939941])</pre></div></li><li class='xr-var-item'><div class='xr-var-name'><span>time</span></div><div class='xr-var-dims'>()</div><div class='xr-var-dtype'>datetime64[ns]</div><div class='xr-var-preview xr-preview'>2021-02-08</div><input id='attrs-40ad6399-f148-481b-bfd8-969678aea11b' class='xr-var-attrs-in' type='checkbox' disabled><label for='attrs-40ad6399-f148-481b-bfd8-969678aea11b' title='Show/Hide attributes'><svg class='icon xr-icon-file-text2'><use xlink:href='#icon-file-text2'></use></svg></label><input id='data-22d8a14f-b21b-4161-b86a-c370dbd67661' class='xr-var-data-in' type='checkbox'><label for='data-22d8a14f-b21b-4161-b86a-c370dbd67661' title='Show/Hide data repr'><svg class='icon xr-icon-database'><use xlink:href='#icon-database'></use></svg></label><div class='xr-var-attrs'><dl class='xr-attrs'></dl></div><div class='xr-var-data'><pre>array(&#x27;2021-02-08T00:00:00.000000000&#x27;, dtype=&#x27;datetime64[ns]&#x27;)</pre></div></li><li class='xr-var-item'><div class='xr-var-name'><span>spatial_ref</span></div><div class='xr-var-dims'>()</div><div class='xr-var-dtype'>int32</div><div class='xr-var-preview xr-preview'>0</div><input id='attrs-fc123d4b-e3ff-4108-8384-1ab2d6145aa4' class='xr-var-attrs-in' type='checkbox' ><label for='attrs-fc123d4b-e3ff-4108-8384-1ab2d6145aa4' title='Show/Hide attributes'><svg class='icon xr-icon-file-text2'><use xlink:href='#icon-file-text2'></use></svg></label><input id='data-8a22831e-d40c-4e39-b1f3-7bdb241f25bc' class='xr-var-data-in' type='checkbox'><label for='data-8a22831e-d40c-4e39-b1f3-7bdb241f25bc' title='Show/Hide data repr'><svg class='icon xr-icon-database'><use xlink:href='#icon-database'></use></svg></label><div class='xr-var-attrs'><dl class='xr-attrs'><dt><span>crs_wkt :</span></dt><dd>PROJCS[&quot;WGS 84 / UTM zone 10N&quot;,GEOGCS[&quot;WGS 84&quot;,DATUM[&quot;WGS_1984&quot;,SPHEROID[&quot;WGS 84&quot;,6378137,298.257223563,AUTHORITY[&quot;EPSG&quot;,&quot;7030&quot;]],AUTHORITY[&quot;EPSG&quot;,&quot;6326&quot;]],PRIMEM[&quot;Greenwich&quot;,0,AUTHORITY[&quot;EPSG&quot;,&quot;8901&quot;]],UNIT[&quot;degree&quot;,0.0174532925199433,AUTHORITY[&quot;EPSG&quot;,&quot;9122&quot;]],AUTHORITY[&quot;EPSG&quot;,&quot;4326&quot;]],PROJECTION[&quot;Transverse_Mercator&quot;],PARAMETER[&quot;latitude_of_origin&quot;,0],PARAMETER[&quot;central_meridian&quot;,-123],PARAMETER[&quot;scale_factor&quot;,0.9996],PARAMETER[&quot;false_easting&quot;,500000],PARAMETER[&quot;false_northing&quot;,0],UNIT[&quot;metre&quot;,1,AUTHORITY[&quot;EPSG&quot;,&quot;9001&quot;]],AXIS[&quot;Easting&quot;,EAST],AXIS[&quot;Northing&quot;,NORTH],AUTHORITY[&quot;EPSG&quot;,&quot;32610&quot;]]</dd><dt><span>semi_major_axis :</span></dt><dd>6378137.0</dd><dt><span>semi_minor_axis :</span></dt><dd>6356752.314245179</dd><dt><span>inverse_flattening :</span></dt><dd>298.257223563</dd><dt><span>reference_ellipsoid_name :</span></dt><dd>WGS 84</dd><dt><span>longitude_of_prime_meridian :</span></dt><dd>0.0</dd><dt><span>prime_meridian_name :</span></dt><dd>Greenwich</dd><dt><span>geographic_crs_name :</span></dt><dd>WGS 84</dd><dt><span>horizontal_datum_name :</span></dt><dd>World Geodetic System 1984</dd><dt><span>projected_crs_name :</span></dt><dd>WGS 84 / UTM zone 10N</dd><dt><span>grid_mapping_name :</span></dt><dd>transverse_mercator</dd><dt><span>latitude_of_projection_origin :</span></dt><dd>0.0</dd><dt><span>longitude_of_central_meridian :</span></dt><dd>-123.0</dd><dt><span>false_easting :</span></dt><dd>500000.0</dd><dt><span>false_northing :</span></dt><dd>0.0</dd><dt><span>scale_factor_at_central_meridian :</span></dt><dd>0.9996</dd><dt><span>spatial_ref :</span></dt><dd>PROJCS[&quot;WGS 84 / UTM zone 10N&quot;,GEOGCS[&quot;WGS 84&quot;,DATUM[&quot;WGS_1984&quot;,SPHEROID[&quot;WGS 84&quot;,6378137,298.257223563,AUTHORITY[&quot;EPSG&quot;,&quot;7030&quot;]],AUTHORITY[&quot;EPSG&quot;,&quot;6326&quot;]],PRIMEM[&quot;Greenwich&quot;,0,AUTHORITY[&quot;EPSG&quot;,&quot;8901&quot;]],UNIT[&quot;degree&quot;,0.0174532925199433,AUTHORITY[&quot;EPSG&quot;,&quot;9122&quot;]],AUTHORITY[&quot;EPSG&quot;,&quot;4326&quot;]],PROJECTION[&quot;Transverse_Mercator&quot;],PARAMETER[&quot;latitude_of_origin&quot;,0],PARAMETER[&quot;central_meridian&quot;,-123],PARAMETER[&quot;scale_factor&quot;,0.9996],PARAMETER[&quot;false_easting&quot;,500000],PARAMETER[&quot;false_northing&quot;,0],UNIT[&quot;metre&quot;,1,AUTHORITY[&quot;EPSG&quot;,&quot;9001&quot;]],AXIS[&quot;Easting&quot;,EAST],AXIS[&quot;Northing&quot;,NORTH],AUTHORITY[&quot;EPSG&quot;,&quot;32610&quot;]]</dd></dl></div><div class='xr-var-data'><pre>array(0)</pre></div></li></ul></div></li><li class='xr-section-item'><input id='section-547d9a5e-8d99-41ee-9dbb-019dcfc364e2' class='xr-section-summary-in' type='checkbox'  ><label for='section-547d9a5e-8d99-41ee-9dbb-019dcfc364e2' class='xr-section-summary' >Indexes: <span>(2)</span></label><div class='xr-section-inline-details'></div><div class='xr-section-details'><ul class='xr-var-list'><li class='xr-var-item'><div class='xr-index-name'><div>y</div></div><div class='xr-index-preview'>PandasIndex</div><div></div><input id='index-75a12315-068b-4e38-a4bc-9d56271a8f9d' class='xr-index-data-in' type='checkbox'/><label for='index-75a12315-068b-4e38-a4bc-9d56271a8f9d' title='Show/Hide index repr'><svg class='icon xr-icon-database'><use xlink:href='#icon-database'></use></svg></label><div class='xr-index-data'><pre>PandasIndex(Index([  5097.77810546875,   5097.76810546875,   5097.75810546875,\n",
       "       5097.7481054687505,   5097.73810546875,   5097.72810546875,\n",
       "         5097.71810546875,  5097.708105468751,   5097.69810546875,\n",
       "         5097.68810546875,\n",
       "       ...\n",
       "         5014.10810546875,   5014.09810546875,   5014.08810546875,\n",
       "         5014.07810546875,   5014.06810546875,   5014.05810546875,\n",
       "         5014.04810546875, 5014.0381054687505,   5014.02810546875,\n",
       "         5014.01810546875],\n",
       "      dtype=&#x27;float64&#x27;, name=&#x27;y&#x27;, length=8377))</pre></div></li><li class='xr-var-item'><div class='xr-index-name'><div>x</div></div><div class='xr-index-preview'>PandasIndex</div><div></div><input id='index-e5c8ae71-c2d7-46d4-a64f-b56ad3b64ff6' class='xr-index-data-in' type='checkbox'/><label for='index-e5c8ae71-c2d7-46d4-a64f-b56ad3b64ff6' title='Show/Hide index repr'><svg class='icon xr-icon-database'><use xlink:href='#icon-database'></use></svg></label><div class='xr-index-data'><pre>PandasIndex(Index([4988.80994140625, 4988.81994140625, 4988.82994140625, 4988.83994140625,\n",
       "       4988.84994140625, 4988.85994140625, 4988.86994140625, 4988.87994140625,\n",
       "       4988.88994140625, 4988.89994140625,\n",
       "       ...\n",
       "       5001.84994140625, 5001.85994140625, 5001.86994140625, 5001.87994140625,\n",
       "       5001.88994140625, 5001.89994140625, 5001.90994140625, 5001.91994140625,\n",
       "       5001.92994140625, 5001.93994140625],\n",
       "      dtype=&#x27;float64&#x27;, name=&#x27;x&#x27;, length=1314))</pre></div></li></ul></div></li><li class='xr-section-item'><input id='section-5302b97c-bce1-4fa5-b556-4c25b4b8a2f9' class='xr-section-summary-in' type='checkbox' disabled ><label for='section-5302b97c-bce1-4fa5-b556-4c25b4b8a2f9' class='xr-section-summary'  title='Expand/collapse section'>Attributes: <span>(0)</span></label><div class='xr-section-inline-details'></div><div class='xr-section-details'><dl class='xr-attrs'></dl></div></li></ul></div></div>"
      ],
      "text/plain": [
       "<xarray.DataArray 'band1' (y: 8377, x: 1314)>\n",
       "dask.array<getitem, shape=(8377, 1314), dtype=float64, chunksize=(8377, 1314), chunktype=numpy.ndarray>\n",
       "Coordinates:\n",
       "  * y            (y) float64 5.098e+03 5.098e+03 ... 5.014e+03 5.014e+03\n",
       "  * x            (x) float64 4.989e+03 4.989e+03 ... 5.002e+03 5.002e+03\n",
       "    time         datetime64[ns] 2021-02-08\n",
       "    spatial_ref  int32 0"
      ]
     },
     "execution_count": 54,
     "metadata": {},
     "output_type": "execute_result"
    }
   ],
   "source": [
    "ds_diff.isel(time=0)"
   ]
  },
  {
   "cell_type": "code",
   "execution_count": 34,
   "id": "d71e07ae-dc93-4c7a-8a7b-b6647375d9cf",
   "metadata": {},
   "outputs": [
    {
     "name": "stdout",
     "output_type": "stream",
     "text": [
      "Applying gaussian smoothing filter with size 301 and sigma 50.000 (sum 1.000)\n",
      "Applying original mask\n",
      "Applying gaussian smoothing filter with size 301 and sigma 50.000 (sum 1.000)\n",
      "Applying original mask\n",
      "Applying gaussian smoothing filter with size 301 and sigma 50.000 (sum 1.000)\n",
      "Applying original mask\n"
     ]
    }
   ],
   "source": [
    "sigma = 50\n",
    "ds_diff_smooth0, size = gauss_fltr_astropy_fft(ds_diff.isel(time=0), sigma = sigma, origmask=True)\n",
    "ds_diff_smooth1, size = gauss_fltr_astropy_fft(ds_diff.isel(time=1), sigma = sigma, origmask=True)\n",
    "ds_diff_smooth2, size = gauss_fltr_astropy_fft(ds_diff.isel(time=2), sigma = sigma, origmask=True)"
   ]
  },
  {
   "cell_type": "code",
   "execution_count": 46,
   "id": "b0b0584a-e91b-42df-8e0e-015f02303a6b",
   "metadata": {},
   "outputs": [],
   "source": [
    "test = ds_diff.isel(time=0)-ds_diff_smooth0"
   ]
  },
  {
   "cell_type": "code",
   "execution_count": 51,
   "id": "236f98ac-754f-4c94-a9e9-f2ecd96688c8",
   "metadata": {},
   "outputs": [],
   "source": [
    "test = ds_diff.isel(time=0).values-ds_diff_smooth0"
   ]
  },
  {
   "cell_type": "markdown",
   "id": "e24227b6-1407-4c18-ba96-73902d3d7425",
   "metadata": {},
   "source": [
    "## Plot first difference map"
   ]
  },
  {
   "cell_type": "code",
   "execution_count": 52,
   "id": "ab8774ec-b4a8-480a-984e-d405cf421baa",
   "metadata": {},
   "outputs": [
    {
     "ename": "AttributeError",
     "evalue": "'MaskedArray' object has no attribute 'plot'",
     "output_type": "error",
     "traceback": [
      "\u001b[1;31m---------------------------------------------------------------------------\u001b[0m",
      "\u001b[1;31mAttributeError\u001b[0m                            Traceback (most recent call last)",
      "Cell \u001b[1;32mIn[52], line 1\u001b[0m\n\u001b[1;32m----> 1\u001b[0m \u001b[43mtest\u001b[49m\u001b[38;5;241;43m.\u001b[39;49m\u001b[43mplot\u001b[49m(cmap\u001b[38;5;241m=\u001b[39m\u001b[38;5;124m'\u001b[39m\u001b[38;5;124mRdBu\u001b[39m\u001b[38;5;124m'\u001b[39m,\n\u001b[0;32m      2\u001b[0m                           vmin\u001b[38;5;241m=\u001b[39m\u001b[38;5;241m-\u001b[39m\u001b[38;5;241m0.1\u001b[39m,\n\u001b[0;32m      3\u001b[0m                           vmax\u001b[38;5;241m=\u001b[39m\u001b[38;5;241m0.1\u001b[39m,\n\u001b[0;32m      4\u001b[0m                           aspect\u001b[38;5;241m=\u001b[39m\u001b[38;5;124m'\u001b[39m\u001b[38;5;124mequal\u001b[39m\u001b[38;5;124m'\u001b[39m,\n\u001b[0;32m      5\u001b[0m                           size\u001b[38;5;241m=\u001b[39m\u001b[38;5;241m5\u001b[39m)\n",
      "\u001b[1;31mAttributeError\u001b[0m: 'MaskedArray' object has no attribute 'plot'"
     ]
    }
   ],
   "source": [
    "test.plot(cmap='RdBu',\n",
    "                          vmin=-0.1,\n",
    "                          vmax=0.1,\n",
    "                          aspect='equal',\n",
    "                          size=5)"
   ]
  },
  {
   "cell_type": "markdown",
   "id": "519ebbae-b7e9-4327-8144-36688aa095be",
   "metadata": {},
   "source": [
    "## Read shapefile"
   ]
  },
  {
   "cell_type": "code",
   "execution_count": null,
   "id": "56161466-6ca9-44b2-a8ae-378d44312a50",
   "metadata": {},
   "outputs": [],
   "source": [
    "shapefiles = [x.as_posix() for x in sorted(Path(vector_folder).glob('*.shp'))]\n",
    "gdf = gpd.read_file(shapefiles[0])"
   ]
  },
  {
   "cell_type": "markdown",
   "id": "9cde01c1-ae5a-47e4-aa58-7c8959f91783",
   "metadata": {},
   "source": [
    "## Plot shapefile"
   ]
  },
  {
   "cell_type": "code",
   "execution_count": null,
   "id": "505d23c8-d404-4c8f-a357-e55474443cc4",
   "metadata": {},
   "outputs": [],
   "source": [
    "fig,ax = plt.subplots(figsize=(10,10))\n",
    "\n",
    "ds_diff.isel(time=0).plot(ax=ax,\n",
    "                          cmap='RdBu',\n",
    "                          vmin=-0.1,\n",
    "                          vmax=0.1,\n",
    "                          )\n",
    "\n",
    "xlim = ax.get_xlim()\n",
    "ylim = ax.get_ylim()\n",
    "\n",
    "gdf.plot(ax=ax, facecolor='none', edgecolor='black')"
   ]
  },
  {
   "cell_type": "markdown",
   "id": "6781c3ac-ff36-4cb3-b45e-dd2e7dc605da",
   "metadata": {},
   "source": [
    "## Clip stack for each geometry"
   ]
  },
  {
   "cell_type": "code",
   "execution_count": null,
   "id": "2ca4d159-b45b-4d3c-aa63-f032e47d1010",
   "metadata": {},
   "outputs": [],
   "source": [
    "geometry_0 = gpd.GeoDataFrame(gpd.GeoSeries(gdf.iloc[0]['geometry']), columns=['geometry'])\n",
    "geometry_1 = gpd.GeoDataFrame(gpd.GeoSeries(gdf.iloc[1]['geometry']), columns=['geometry'])"
   ]
  },
  {
   "cell_type": "code",
   "execution_count": null,
   "id": "cc5eb763-b92c-4bbf-8643-71867b0c512a",
   "metadata": {},
   "outputs": [],
   "source": [
    "ds_diff_clip_geom_0 = ds_diff.rio.clip(geometry_0['geometry'])\n",
    "ds_diff_clip_geom_1 = ds_diff.rio.clip(geometry_1['geometry'])"
   ]
  },
  {
   "cell_type": "markdown",
   "id": "f14b64a5-2596-44d9-b709-dffe9308f356",
   "metadata": {},
   "source": [
    "## Plot first time step in clipped stack"
   ]
  },
  {
   "cell_type": "code",
   "execution_count": null,
   "id": "ccb33a67-b626-4147-8d7b-8d09df2c8de4",
   "metadata": {},
   "outputs": [],
   "source": [
    "fig,ax = plt.subplots(figsize=(10,10))\n",
    "\n",
    "ds_diff_clip_geom_0.isel(time=0).plot(ax=ax,\n",
    "                                      cmap='RdBu',\n",
    "                                      vmin=-0.1,\n",
    "                                      vmax=0.1,\n",
    "                                      add_colorbar=False,\n",
    "                                     )\n",
    "\n",
    "geometry_0.plot(ax=ax, facecolor='none', edgecolor='green')\n",
    "\n",
    "ds_diff_clip_geom_1.isel(time=0).plot(ax=ax,\n",
    "                                      cmap='RdBu',\n",
    "                                      vmin=-0.1,\n",
    "                                      vmax=0.1,\n",
    "                                      cbar_kwargs={'extend': 'both'},\n",
    "                                     )\n",
    "\n",
    "geometry_1.plot(ax=ax, facecolor='none', edgecolor='purple')\n",
    "\n",
    "ax.set_xlim(xlim)\n",
    "ax.set_ylim(ylim);"
   ]
  },
  {
   "cell_type": "markdown",
   "id": "13301cca-a270-468a-a88b-2b537ac9c01e",
   "metadata": {},
   "source": [
    "## Plot time series for mean difference value"
   ]
  },
  {
   "cell_type": "code",
   "execution_count": null,
   "id": "a789a115-fed5-41b6-bae3-6a6a44ef9773",
   "metadata": {},
   "outputs": [],
   "source": [
    "fig,ax = plt.subplots(figsize=(10,5))\n",
    "ds_diff_clip_geom_0.mean(dim=['x','y']).plot.scatter(ax=ax,color='green')\n",
    "ds_diff_clip_geom_1.mean(dim=['x','y']).plot.scatter(ax=ax,color='purple')"
   ]
  },
  {
   "cell_type": "code",
   "execution_count": null,
   "id": "ab819708-ee4d-4c30-bcba-c0f069e633a1",
   "metadata": {},
   "outputs": [],
   "source": []
  }
 ],
 "metadata": {
  "kernelspec": {
   "display_name": "Python 3 (ipykernel)",
   "language": "python",
   "name": "python3"
  },
  "language_info": {
   "codemirror_mode": {
    "name": "ipython",
    "version": 3
   },
   "file_extension": ".py",
   "mimetype": "text/x-python",
   "name": "python",
   "nbconvert_exporter": "python",
   "pygments_lexer": "ipython3",
   "version": "3.11.5"
  }
 },
 "nbformat": 4,
 "nbformat_minor": 5
}
