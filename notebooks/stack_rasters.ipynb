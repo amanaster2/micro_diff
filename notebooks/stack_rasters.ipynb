{
 "cells": [
  {
   "cell_type": "code",
   "execution_count": 1,
   "id": "33ed102d-6a5d-47e8-b18d-7c6d22154c98",
   "metadata": {},
   "outputs": [],
   "source": [
    "%load_ext autoreload\n",
    "%autoreload 2"
   ]
  },
  {
   "cell_type": "code",
   "execution_count": 2,
   "id": "08be8b4b-d2ca-4ed8-8d05-e779fa210714",
   "metadata": {},
   "outputs": [],
   "source": [
    "from pathlib import Path\n",
    "import gdown\n",
    "import pandas as pd\n",
    "import geopandas as gpd\n",
    "import matplotlib.pyplot as plt\n",
    "import numpy as np\n",
    "import rioxarray as rio\n",
    "\n",
    "import micro\n",
    "import gtsa"
   ]
  },
  {
   "cell_type": "markdown",
   "id": "f296dc7d-49a0-4777-a7a5-e6032cc5c2a3",
   "metadata": {},
   "source": [
    "## Download sample data"
   ]
  },
  {
   "cell_type": "code",
   "execution_count": 3,
   "id": "e2d682f2-b28c-4d69-8570-880821233f95",
   "metadata": {},
   "outputs": [],
   "source": [
    "url = 'https://drive.google.com/drive/u/1/folders/1E1FbgeS2YHqnZOsXpbXTIpWhWT1oDR5N'\n",
    "k13_dem_folder='../data/dems/k13_coreg/'\n",
    "# gdown.download_folder(url, output=k13_dem_folder, quiet=False, use_cookies=False)\n",
    "\n",
    "url = 'https://drive.google.com/drive/u/1/folders/1NBJ87RWqVEixA7XuN4uvmtjGJ03JIU56'\n",
    "m14_dem_folder='../data/dems/m14_coreg/'\n",
    "# gdown.download_folder(url, output=m14_dem_folder, quiet=False, use_cookies=False)"
   ]
  },
  {
   "cell_type": "code",
   "execution_count": 4,
   "id": "5a37a38f-7557-4d25-b22d-c904456ee21a",
   "metadata": {},
   "outputs": [
    {
     "name": "stdout",
     "output_type": "stream",
     "text": [
      "\u001b[01;34m../data/dems\u001b[0m\n",
      "├── \u001b[01;34mk13\u001b[0m\n",
      "│   ├── \u001b[01;34mdsyr1\u001b[0m\n",
      "│   │   ├── \u001b[01;35mK13_lidar_20210604_cc.tif\u001b[0m\n",
      "│   │   ├── \u001b[01;35mK13_lidar_20210913_cc.tif\u001b[0m\n",
      "│   │   ├── \u001b[01;35mK13_sfm_20210604_cc.tif\u001b[0m\n",
      "│   │   ├── \u001b[01;35mK13_sfm_20210819_cc.tif\u001b[0m\n",
      "│   │   └── \u001b[01;35mK13_sfm_20210913_cc.tif\u001b[0m\n",
      "│   ├── \u001b[01;34mwsyr1\u001b[0m\n",
      "│   │   ├── \u001b[01;35mK13_lidar_20201109_cc.tif\u001b[0m\n",
      "│   │   ├── \u001b[01;35mK13_lidar_20210513_cc.tif\u001b[0m\n",
      "│   │   ├── \u001b[01;35mK13_sfm_20201109_cc.tif\u001b[0m\n",
      "│   │   ├── \u001b[01;35mK13_sfm_20210208_cc.tif\u001b[0m\n",
      "│   │   ├── \u001b[01;35mK13_sfm_20210406_cc.tif\u001b[0m\n",
      "│   │   └── \u001b[01;35mK13_sfm_20210513_cc.tif\u001b[0m\n",
      "│   └── \u001b[01;34mwsyr2\u001b[0m\n",
      "│       ├── \u001b[01;35mK13_lidar_20211007_cc.tif\u001b[0m\n",
      "│       ├── \u001b[01;35mK13_lidar_20220531_cc.tif\u001b[0m\n",
      "│       ├── \u001b[01;35mK13_sfm_20211007_cc.tif\u001b[0m\n",
      "│       ├── \u001b[01;35mK13_sfm_20220208_cc.tif\u001b[0m\n",
      "│       ├── \u001b[01;35mK13_sfm_20220503_cc.tif\u001b[0m\n",
      "│       └── \u001b[01;35mK13_sfm_20220531_cc.tif\u001b[0m\n",
      "├── \u001b[01;34mk13_coreg\u001b[0m\n",
      "│   ├── \u001b[01;34mdsyr1\u001b[0m\n",
      "│   │   ├── k13_20210604_lidar_coreg.nc\n",
      "│   │   ├── \u001b[01;35mk13_20210604_lidar_coreg.tif\u001b[0m\n",
      "│   │   ├── k13_20210605_sfm_coreg.nc\n",
      "│   │   ├── \u001b[01;35mk13_20210605_sfm_coreg.tif\u001b[0m\n",
      "│   │   ├── k13_20210819_sfm_coreg.nc\n",
      "│   │   ├── \u001b[01;35mk13_20210819_sfm_coreg.tif\u001b[0m\n",
      "│   │   ├── k13_20210913_sfm_coreg.nc\n",
      "│   │   └── \u001b[01;35mk13_20210913_sfm_coreg.tif\u001b[0m\n",
      "│   ├── \u001b[01;34mwsyr1\u001b[0m\n",
      "│   │   ├── k13_20201109_lidar_coreg.nc\n",
      "│   │   ├── \u001b[01;35mk13_20201109_lidar_coreg.tif\u001b[0m\n",
      "│   │   ├── k13_20201110_sfm_coreg.nc\n",
      "│   │   ├── \u001b[01;35mk13_20201110_sfm_coreg.tif\u001b[0m\n",
      "│   │   ├── k13_20210208_sfm_coreg.nc\n",
      "│   │   ├── \u001b[01;35mk13_20210208_sfm_coreg.tif\u001b[0m\n",
      "│   │   ├── k13_20210406_sfm_coreg.nc\n",
      "│   │   ├── \u001b[01;35mk13_20210406_sfm_coreg.tif\u001b[0m\n",
      "│   │   ├── k13_20210513_sfm_coreg.nc\n",
      "│   │   └── \u001b[01;35mk13_20210513_sfm_coreg.tif\u001b[0m\n",
      "│   └── \u001b[01;34mwsyr2\u001b[0m\n",
      "│       ├── k13_20211007_lidar_coreg.nc\n",
      "│       ├── \u001b[01;35mk13_20211007_lidar_coreg.tif\u001b[0m\n",
      "│       ├── k13_20211008_sfm_coreg.nc\n",
      "│       ├── \u001b[01;35mk13_20211008_sfm_coreg.tif\u001b[0m\n",
      "│       ├── k13_20220208_sfm_coreg.nc\n",
      "│       ├── \u001b[01;35mk13_20220208_sfm_coreg.tif\u001b[0m\n",
      "│       ├── k13_20220503_sfm_coreg.nc\n",
      "│       ├── \u001b[01;35mk13_20220503_sfm_coreg.tif\u001b[0m\n",
      "│       ├── k13_20220531_sfm_coreg.nc\n",
      "│       └── \u001b[01;35mk13_20220531_sfm_coreg.tif\u001b[0m\n",
      "├── \u001b[01;34mk13_results\u001b[0m\n",
      "│   ├── \u001b[01;34mdsyr1\u001b[0m\n",
      "│   │   ├── \u001b[01;35mk13_20210604_lidar.tif\u001b[0m\n",
      "│   │   ├── \u001b[01;35mk13_20210604_sfm.tif\u001b[0m\n",
      "│   │   ├── \u001b[01;35mk13_20210819_sfm.tif\u001b[0m\n",
      "│   │   ├── \u001b[01;35mk13_20210913_lidar.tif\u001b[0m\n",
      "│   │   └── \u001b[01;35mk13_20210913_sfm.tif\u001b[0m\n",
      "│   ├── \u001b[01;34mwsyr1\u001b[0m\n",
      "│   │   ├── \u001b[01;35mk13_20201109_lidar.tif\u001b[0m\n",
      "│   │   ├── \u001b[01;35mk13_20201109_sfm.tif\u001b[0m\n",
      "│   │   ├── \u001b[01;35mk13_20210208_sfm.tif\u001b[0m\n",
      "│   │   ├── \u001b[01;35mk13_20210406_sfm.tif\u001b[0m\n",
      "│   │   ├── \u001b[01;35mk13_20210513_lidar.tif\u001b[0m\n",
      "│   │   └── \u001b[01;35mk13_20210513_sfm.tif\u001b[0m\n",
      "│   └── \u001b[01;34mwsyr2\u001b[0m\n",
      "│       ├── \u001b[01;35mk13_20211007_lidar.tif\u001b[0m\n",
      "│       ├── \u001b[01;35mk13_20211007_sfm.tif\u001b[0m\n",
      "│       ├── \u001b[01;35mk13_20220208_sfm.tif\u001b[0m\n",
      "│       ├── \u001b[01;35mk13_20220503_sfm.tif\u001b[0m\n",
      "│       ├── \u001b[01;35mk13_20220531_lidar.tif\u001b[0m\n",
      "│       └── \u001b[01;35mk13_20220531_sfm.tif\u001b[0m\n",
      "├── \u001b[01;34mm14\u001b[0m\n",
      "│   ├── \u001b[01;34mdsyr1\u001b[0m\n",
      "│   │   ├── \u001b[01;35mM14_lidar_20210603_cc.tif\u001b[0m\n",
      "│   │   ├── \u001b[01;35mM14_lidar_20210914_cc.tif\u001b[0m\n",
      "│   │   ├── \u001b[01;35mM14_sfm_20210603_cc.tif\u001b[0m\n",
      "│   │   └── \u001b[01;35mM14_sfm_20210914_cc.tif\u001b[0m\n",
      "│   ├── \u001b[01;34mwsyr1\u001b[0m\n",
      "│   │   ├── \u001b[01;35mM14_lidar_20201203_cc.tif\u001b[0m\n",
      "│   │   ├── \u001b[01;35mM14_sfm_20201203_cc.tif\u001b[0m\n",
      "│   │   └── \u001b[01;35mM14_sfm_20210224_cc.tif\u001b[0m\n",
      "│   └── \u001b[01;34mwsyr2\u001b[0m\n",
      "│       ├── \u001b[01;35mM14_lidar_20220309_cc.tif\u001b[0m\n",
      "│       ├── \u001b[01;35mM14_lidar_20220601_cc.tif\u001b[0m\n",
      "│       ├── \u001b[01;35mM14_sfm_20220309_cc.tif\u001b[0m\n",
      "│       ├── \u001b[01;35mM14_sfm_20220316_cc.tif\u001b[0m\n",
      "│       ├── M14_sfm_20220316_cc.tif:Zone.Identifier\n",
      "│       ├── \u001b[01;35mM14_sfm_20220324_cc.tif\u001b[0m\n",
      "│       ├── M14_sfm_20220324_cc.tif:Zone.Identifier\n",
      "│       ├── \u001b[01;35mM14_sfm_20220411_cc.tif\u001b[0m\n",
      "│       ├── M14_sfm_20220411_cc.tif:Zone.Identifier\n",
      "│       ├── \u001b[01;35mM14_sfm_20220428_cc.tif\u001b[0m\n",
      "│       ├── M14_sfm_20220428_cc.tif:Zone.Identifier\n",
      "│       ├── \u001b[01;35mM14_sfm_20220601_cc.tif\u001b[0m\n",
      "│       └── M14_sfm_20220601_cc.tif:Zone.Identifier\n",
      "├── \u001b[01;34mm14_coreg\u001b[0m\n",
      "│   ├── \u001b[01;34mdsyr1\u001b[0m\n",
      "│   │   ├── m14_20210603_lidar_coreg.nc\n",
      "│   │   ├── \u001b[01;35mm14_20210603_lidar_coreg.tif\u001b[0m\n",
      "│   │   ├── m14_20210604_sfm_coreg.nc\n",
      "│   │   ├── \u001b[01;35mm14_20210604_sfm_coreg.tif\u001b[0m\n",
      "│   │   ├── m14_20210914_sfm_coreg.nc\n",
      "│   │   └── \u001b[01;35mm14_20210914_sfm_coreg.tif\u001b[0m\n",
      "│   ├── \u001b[01;34mwsyr1\u001b[0m\n",
      "│   │   ├── m14_20201203_lidar_coreg.nc\n",
      "│   │   ├── \u001b[01;35mm14_20201203_lidar_coreg.tif\u001b[0m\n",
      "│   │   ├── m14_20201204_sfm_coreg.nc\n",
      "│   │   ├── \u001b[01;35mm14_20201204_sfm_coreg.tif\u001b[0m\n",
      "│   │   ├── m14_20210224_sfm_coreg.nc\n",
      "│   │   └── \u001b[01;35mm14_20210224_sfm_coreg.tif\u001b[0m\n",
      "│   └── \u001b[01;34mwsyr2\u001b[0m\n",
      "│       ├── m14_20220309_lidar_coreg.nc\n",
      "│       ├── \u001b[01;35mm14_20220309_lidar_coreg.tif\u001b[0m\n",
      "│       ├── m14_20220310_sfm_coreg.nc\n",
      "│       ├── \u001b[01;35mm14_20220310_sfm_coreg.tif\u001b[0m\n",
      "│       ├── m14_20220316_sfm_coreg.nc\n",
      "│       ├── \u001b[01;35mm14_20220316_sfm_coreg.tif\u001b[0m\n",
      "│       ├── m14_20220324_sfm_coreg.nc\n",
      "│       ├── \u001b[01;35mm14_20220324_sfm_coreg.tif\u001b[0m\n",
      "│       ├── m14_20220411_sfm_coreg.nc\n",
      "│       ├── \u001b[01;35mm14_20220411_sfm_coreg.tif\u001b[0m\n",
      "│       ├── m14_20220428_sfm_coreg.nc\n",
      "│       ├── \u001b[01;35mm14_20220428_sfm_coreg.tif\u001b[0m\n",
      "│       ├── m14_20220601_sfm_coreg.nc\n",
      "│       └── \u001b[01;35mm14_20220601_sfm_coreg.tif\u001b[0m\n",
      "└── \u001b[01;34mm14_results\u001b[0m\n",
      "    ├── \u001b[01;34mdsyr1\u001b[0m\n",
      "    │   ├── \u001b[01;35mm14_20210603_lidar.tif\u001b[0m\n",
      "    │   ├── \u001b[01;35mm14_20210603_sfm.tif\u001b[0m\n",
      "    │   ├── \u001b[01;35mm14_20210914_lidar.tif\u001b[0m\n",
      "    │   └── \u001b[01;35mm14_20210914_sfm.tif\u001b[0m\n",
      "    ├── \u001b[01;34mwsyr1\u001b[0m\n",
      "    │   ├── \u001b[01;35mm14_20201203_lidar.tif\u001b[0m\n",
      "    │   ├── \u001b[01;35mm14_20201203_sfm.tif\u001b[0m\n",
      "    │   └── \u001b[01;35mm14_20210224_sfm.tif\u001b[0m\n",
      "    └── \u001b[01;34mwsyr2\u001b[0m\n",
      "        ├── \u001b[01;35mm14_20220309_lidar.tif\u001b[0m\n",
      "        ├── \u001b[01;35mm14_20220309_sfm.tif\u001b[0m\n",
      "        ├── \u001b[01;35mm14_20220316_sfm.tif\u001b[0m\n",
      "        ├── \u001b[01;35mm14_20220324_sfm.tif\u001b[0m\n",
      "        ├── \u001b[01;35mm14_20220411_sfm.tif\u001b[0m\n",
      "        ├── \u001b[01;35mm14_20220428_sfm.tif\u001b[0m\n",
      "        ├── \u001b[01;35mm14_20220601_lidar.tif\u001b[0m\n",
      "        └── \u001b[01;35mm14_20220601_sfm.tif\u001b[0m\n",
      "\n",
      "25 directories, 123 files\n"
     ]
    }
   ],
   "source": [
    "!tree ../data/dems"
   ]
  },
  {
   "cell_type": "code",
   "execution_count": 5,
   "id": "899472de-2441-490c-9979-de0aa157a358",
   "metadata": {},
   "outputs": [],
   "source": [
    "k13_wsyr1_dem_files = sorted(Path(k13_dem_folder).glob('wsyr1/*.tif'))\n",
    "k13_wsyr1_dem_files = [i.as_posix() for i in k13_wsyr1_dem_files]\n",
    "\n",
    "k13_dsyr1_dem_files = sorted(Path(k13_dem_folder).glob('dsyr1/*.tif'))\n",
    "k13_dsyr1_dem_files = [i.as_posix() for i in k13_dsyr1_dem_files]\n",
    "\n",
    "k13_wsyr2_dem_files = sorted(Path(k13_dem_folder).glob('wsyr2/*.tif'))\n",
    "k13_wsyr2_dem_files = [i.as_posix() for i in k13_wsyr2_dem_files]\n",
    "\n",
    "m14_wsyr1_dem_files = sorted(Path(m14_dem_folder).glob('wsyr1/*.tif'))\n",
    "m14_wsyr1_dem_files = [i.as_posix() for i in m14_wsyr1_dem_files]\n",
    "\n",
    "m14_dsyr1_dem_files = sorted(Path(m14_dem_folder).glob('dsyr1/*.tif'))\n",
    "m14_dsyr1_dem_files = [i.as_posix() for i in m14_dsyr1_dem_files]\n",
    "\n",
    "m14_wsyr2_dem_files = sorted(Path(m14_dem_folder).glob('wsyr2/*.tif'))\n",
    "m14_wsyr2_dem_files = [i.as_posix() for i in m14_wsyr2_dem_files]"
   ]
  },
  {
   "cell_type": "code",
   "execution_count": 6,
   "id": "6bb0915d-d2b2-4935-b48b-ac2025999286",
   "metadata": {},
   "outputs": [
    {
     "data": {
      "text/plain": [
       "(['../data/dems/k13_coreg/wsyr1/k13_20201109_lidar_coreg.tif',\n",
       "  '../data/dems/k13_coreg/wsyr1/k13_20201110_sfm_coreg.tif',\n",
       "  '../data/dems/k13_coreg/wsyr1/k13_20210208_sfm_coreg.tif',\n",
       "  '../data/dems/k13_coreg/wsyr1/k13_20210406_sfm_coreg.tif',\n",
       "  '../data/dems/k13_coreg/wsyr1/k13_20210513_sfm_coreg.tif'],\n",
       " ['../data/dems/k13_coreg/dsyr1/k13_20210604_lidar_coreg.tif',\n",
       "  '../data/dems/k13_coreg/dsyr1/k13_20210605_sfm_coreg.tif',\n",
       "  '../data/dems/k13_coreg/dsyr1/k13_20210819_sfm_coreg.tif',\n",
       "  '../data/dems/k13_coreg/dsyr1/k13_20210913_sfm_coreg.tif'],\n",
       " ['../data/dems/k13_coreg/wsyr2/k13_20211007_lidar_coreg.tif',\n",
       "  '../data/dems/k13_coreg/wsyr2/k13_20211008_sfm_coreg.tif',\n",
       "  '../data/dems/k13_coreg/wsyr2/k13_20220208_sfm_coreg.tif',\n",
       "  '../data/dems/k13_coreg/wsyr2/k13_20220503_sfm_coreg.tif',\n",
       "  '../data/dems/k13_coreg/wsyr2/k13_20220531_sfm_coreg.tif'],\n",
       " ['../data/dems/m14_coreg/wsyr1/m14_20201203_lidar_coreg.tif',\n",
       "  '../data/dems/m14_coreg/wsyr1/m14_20201204_sfm_coreg.tif',\n",
       "  '../data/dems/m14_coreg/wsyr1/m14_20210224_sfm_coreg.tif'],\n",
       " ['../data/dems/m14_coreg/dsyr1/m14_20210603_lidar_coreg.tif',\n",
       "  '../data/dems/m14_coreg/dsyr1/m14_20210604_sfm_coreg.tif',\n",
       "  '../data/dems/m14_coreg/dsyr1/m14_20210914_sfm_coreg.tif'],\n",
       " ['../data/dems/m14_coreg/wsyr2/m14_20220309_lidar_coreg.tif',\n",
       "  '../data/dems/m14_coreg/wsyr2/m14_20220310_sfm_coreg.tif',\n",
       "  '../data/dems/m14_coreg/wsyr2/m14_20220316_sfm_coreg.tif',\n",
       "  '../data/dems/m14_coreg/wsyr2/m14_20220324_sfm_coreg.tif',\n",
       "  '../data/dems/m14_coreg/wsyr2/m14_20220411_sfm_coreg.tif',\n",
       "  '../data/dems/m14_coreg/wsyr2/m14_20220428_sfm_coreg.tif',\n",
       "  '../data/dems/m14_coreg/wsyr2/m14_20220601_sfm_coreg.tif'])"
      ]
     },
     "execution_count": 6,
     "metadata": {},
     "output_type": "execute_result"
    }
   ],
   "source": [
    "k13_wsyr1_dem_files, k13_dsyr1_dem_files, k13_wsyr2_dem_files, \\\n",
    "m14_wsyr1_dem_files, m14_dsyr1_dem_files, m14_wsyr2_dem_files"
   ]
  },
  {
   "cell_type": "markdown",
   "id": "9843d07d-0575-4b89-b52f-459eaeadf4fa",
   "metadata": {},
   "source": [
    "## Select analysis ready data\n",
    "- Assuming SfM and lidar collected on the same data are only used for validation of the SfM data\n",
    "- Assuming the lidar is always \"better\" and will thus be used for the quantitative measurements and time series analysis"
   ]
  },
  {
   "cell_type": "code",
   "execution_count": 7,
   "id": "164db0d8-ea78-4ac1-a924-0d38f8a600fe",
   "metadata": {},
   "outputs": [],
   "source": [
    "dsm_files = ['../data/dems/k13_coreg/dsyr1/k13_20210604_lidar_coreg.tif',\n",
    "  '../data/dems/k13_coreg/dsyr1/k13_20210605_sfm_coreg.tif',\n",
    "  '../data/dems/k13_coreg/dsyr1/k13_20210819_sfm_coreg.tif',\n",
    "  '../data/dems/k13_coreg/dsyr1/k13_20210913_sfm_coreg.tif'\n",
    "            ]"
   ]
  },
  {
   "cell_type": "markdown",
   "id": "56d26543-bd18-4da3-b543-d9117699e240",
   "metadata": {},
   "source": [
    "## Parse time stamps"
   ]
  },
  {
   "cell_type": "code",
   "execution_count": 8,
   "id": "01b1fc60-cfc2-4635-946c-d5e4fa0a8654",
   "metadata": {},
   "outputs": [],
   "source": [
    "strings = gtsa.io.parse_timestamps(dsm_files, date_string_pattern='_........_')\n",
    "date_strings = [x[1:-1] for x in strings]\n",
    "\n",
    "# ensure chronological sorting\n",
    "date_strings, dsm_files = list(zip(*sorted(zip(date_strings, dsm_files))))\n",
    "date_times = [pd.to_datetime(x, format='%Y%m%d') for x in date_strings]"
   ]
  },
  {
   "cell_type": "code",
   "execution_count": 9,
   "id": "f3a165aa-f21d-4a88-971f-ea20508036d6",
   "metadata": {},
   "outputs": [
    {
     "data": {
      "text/plain": [
       "[('20210604', '../data/dems/k13_coreg/dsyr1/k13_20210604_lidar_coreg.tif'),\n",
       " ('20210605', '../data/dems/k13_coreg/dsyr1/k13_20210605_sfm_coreg.tif'),\n",
       " ('20210819', '../data/dems/k13_coreg/dsyr1/k13_20210819_sfm_coreg.tif'),\n",
       " ('20210913', '../data/dems/k13_coreg/dsyr1/k13_20210913_sfm_coreg.tif')]"
      ]
     },
     "execution_count": 9,
     "metadata": {},
     "output_type": "execute_result"
    }
   ],
   "source": [
    "list(zip(date_strings, dsm_files))"
   ]
  },
  {
   "cell_type": "markdown",
   "id": "5d35b92f-d52a-4817-8857-57f9aa74c0ef",
   "metadata": {},
   "source": [
    "## Create stack\n",
    "- resample to reference DEM grid and save as netcdf"
   ]
  },
  {
   "cell_type": "code",
   "execution_count": 10,
   "metadata": {},
   "outputs": [],
   "source": [
    "k13_mask_path = '../data/vectors/kid_mask/roadClip/KID13_roadClip.shp'\n",
    "m14_mask_path = '../data/vectors/mel_mask/roadClip/MEL14_roadClip.shp'\n",
    "\n",
    "# grab shapefile crs to write to rasters\n",
    "k13_crs = gpd.read_file(k13_mask_path).crs\n",
    "k13_mask_gdf = gpd.read_file(k13_mask_path)\n",
    "\n",
    "m14_crs = gpd.read_file(m14_mask_path).crs\n",
    "m14_mask_gdf = gpd.read_file(m14_mask_path)"
   ]
  },
  {
   "cell_type": "code",
   "execution_count": 11,
   "metadata": {},
   "outputs": [],
   "source": [
    "gdf = k13_mask_gdf"
   ]
  },
  {
   "cell_type": "code",
   "execution_count": 12,
   "id": "4cce6626-0a97-4d0d-a84b-0b40eb5e7937",
   "metadata": {},
   "outputs": [
    {
     "name": "stdout",
     "output_type": "stream",
     "text": [
      "Resampled 4 of 4 dems to match reference DEM spatial_ref, crs, transform, bounds, and resolution.\n",
      "Reading files from ../data/dems/k13_coreg/dsyr1\n"
     ]
    }
   ],
   "source": [
    "reference_dem = dsm_files[0]\n",
    "\n",
    "ds = gtsa.io.xr_stack_geotifs(\n",
    "    dsm_files,\n",
    "    date_times,\n",
    "    reference_dem,\n",
    "    resampling='cubic',\n",
    "    save_to_nc=True,\n",
    "    overwrite=True,\n",
    "    cleanup=False,\n",
    "    verbose=True,\n",
    ")"
   ]
  },
  {
   "cell_type": "code",
   "execution_count": 13,
   "metadata": {},
   "outputs": [
    {
     "data": {
      "text/plain": [
       "CRS.from_epsg(32610)"
      ]
     },
     "execution_count": 13,
     "metadata": {},
     "output_type": "execute_result"
    }
   ],
   "source": [
    "ds.rio.crs"
   ]
  },
  {
   "cell_type": "code",
   "execution_count": 14,
   "metadata": {},
   "outputs": [],
   "source": [
    "ds = ds.rio.clip(gdf[\"geometry\"])"
   ]
  },
  {
   "cell_type": "markdown",
   "id": "cf600eb9",
   "metadata": {},
   "source": [
    "## Ensure `nodata` values are correct"
   ]
  },
  {
   "cell_type": "code",
   "execution_count": 15,
   "id": "72cb2217",
   "metadata": {},
   "outputs": [
    {
     "data": {
      "text/plain": [
       "<bound method Mapping.values of <xarray.Dataset>\n",
       "Dimensions:      (y: 8083, x: 1063)\n",
       "Coordinates:\n",
       "  * y            (y) float64 5.095e+03 5.095e+03 ... 5.015e+03 5.015e+03\n",
       "  * x            (x) float64 4.99e+03 4.99e+03 4.99e+03 ... 5.001e+03 5.001e+03\n",
       "    time         datetime64[ns] 2021-08-19\n",
       "    spatial_ref  int64 0\n",
       "Data variables:\n",
       "    band1        (y, x) float64 dask.array<chunksize=(8083, 1063), meta=np.ndarray>\n",
       "Attributes:\n",
       "    AREA_OR_POINT:  Area\n",
       "    scale_factor:   1.0\n",
       "    add_offset:     0.0>"
      ]
     },
     "execution_count": 15,
     "metadata": {},
     "output_type": "execute_result"
    }
   ],
   "source": [
    "ds_nodata = ds\n",
    "nd = np.nanmax(ds_nodata.isel(time=2).values)\n",
    "nd = np.nanmin(ds_nodata.isel(time=2).values)\n",
    "# ds_nodata = ds_nodata.where(ds_nodata!=nd)\n",
    "\n",
    "nd"
   ]
  },
  {
   "cell_type": "code",
   "execution_count": 19,
   "metadata": {},
   "outputs": [
    {
     "name": "stdout",
     "output_type": "stream",
     "text": [
      "nodata: nan\n",
      "encoded_nodata: -9999.0\n"
     ]
    }
   ],
   "source": [
    "print(f\"nodata: {ds_nodata['band1'].rio.nodata}\")\n",
    "print(f\"encoded_nodata: {ds_nodata['band1'].rio.encoded_nodata}\")"
   ]
  },
  {
   "cell_type": "code",
   "execution_count": 20,
   "id": "8b7f4063",
   "metadata": {},
   "outputs": [
    {
     "name": "stdout",
     "output_type": "stream",
     "text": [
      "nodata: nan\n",
      "encoded_nodata: -9999.0\n"
     ]
    }
   ],
   "source": [
    "ds_nodata['band1'].rio.write_nodata(-9999, encoded=False,inplace=True)\n",
    "\n",
    "print(f\"nodata: {ds_nodata['band1'].rio.nodata}\")\n",
    "print(f\"encoded_nodata: {ds_nodata['band1'].rio.encoded_nodata}\")"
   ]
  },
  {
   "cell_type": "code",
   "execution_count": 23,
   "metadata": {},
   "outputs": [
    {
     "ename": "AttributeError",
     "evalue": "'DataArray' object has no attribute 'data_vars'",
     "output_type": "error",
     "traceback": [
      "\u001b[0;31m---------------------------------------------------------------------------\u001b[0m",
      "\u001b[0;31mAttributeError\u001b[0m                            Traceback (most recent call last)",
      "\u001b[1;32m/home/adalvis/github/micro_diff/notebooks/stack_rasters.ipynb Cell 23\u001b[0m line \u001b[0;36m1\n\u001b[0;32m----> <a href='vscode-notebook-cell://wsl%2Bubuntu/home/adalvis/github/micro_diff/notebooks/stack_rasters.ipynb#X32sdnNjb2RlLXJlbW90ZQ%3D%3D?line=0'>1</a>\u001b[0m \u001b[39mfor\u001b[39;00m i \u001b[39min\u001b[39;00m ds_nodata[\u001b[39m'\u001b[39;49m\u001b[39mband1\u001b[39;49m\u001b[39m'\u001b[39;49m]\u001b[39m.\u001b[39;49mdata_vars:\n\u001b[1;32m      <a href='vscode-notebook-cell://wsl%2Bubuntu/home/adalvis/github/micro_diff/notebooks/stack_rasters.ipynb#X32sdnNjb2RlLXJlbW90ZQ%3D%3D?line=1'>2</a>\u001b[0m                 \u001b[39mtry\u001b[39;00m:\n\u001b[1;32m      <a href='vscode-notebook-cell://wsl%2Bubuntu/home/adalvis/github/micro_diff/notebooks/stack_rasters.ipynb#X32sdnNjb2RlLXJlbW90ZQ%3D%3D?line=2'>3</a>\u001b[0m                     \u001b[39mdel\u001b[39;00m ds_nodata[\u001b[39m'\u001b[39m\u001b[39mband1\u001b[39m\u001b[39m'\u001b[39m][i]\u001b[39m.\u001b[39mattrs[\u001b[39m\"\u001b[39m\u001b[39mgrid_mapping\u001b[39m\u001b[39m\"\u001b[39m]\n",
      "File \u001b[0;32m~/anaconda3/envs/micro_diff/lib/python3.12/site-packages/xarray/core/common.py:278\u001b[0m, in \u001b[0;36mAttrAccessMixin.__getattr__\u001b[0;34m(self, name)\u001b[0m\n\u001b[1;32m    276\u001b[0m         \u001b[39mwith\u001b[39;00m suppress(\u001b[39mKeyError\u001b[39;00m):\n\u001b[1;32m    277\u001b[0m             \u001b[39mreturn\u001b[39;00m source[name]\n\u001b[0;32m--> 278\u001b[0m \u001b[39mraise\u001b[39;00m \u001b[39mAttributeError\u001b[39;00m(\n\u001b[1;32m    279\u001b[0m     \u001b[39mf\u001b[39m\u001b[39m\"\u001b[39m\u001b[39m{\u001b[39;00m\u001b[39mtype\u001b[39m(\u001b[39mself\u001b[39m)\u001b[39m.\u001b[39m\u001b[39m__name__\u001b[39m\u001b[39m!r}\u001b[39;00m\u001b[39m object has no attribute \u001b[39m\u001b[39m{\u001b[39;00mname\u001b[39m!r}\u001b[39;00m\u001b[39m\"\u001b[39m\n\u001b[1;32m    280\u001b[0m )\n",
      "\u001b[0;31mAttributeError\u001b[0m: 'DataArray' object has no attribute 'data_vars'"
     ]
    }
   ],
   "source": [
    "for i in ds_nodata.data_vars:\n",
    "                try:\n",
    "                    del ds_nodata[i].attrs[\"grid_mapping\"]\n",
    "                except:\n",
    "                    pass\n",
    "\n",
    "ds_nodata.isel(time=0).rio.to_raster('../../ll_micro/test.tif')"
   ]
  },
  {
   "cell_type": "code",
   "execution_count": null,
   "metadata": {},
   "outputs": [],
   "source": [
    "ds_nodata['band1'].isel(time=0)"
   ]
  },
  {
   "cell_type": "code",
   "execution_count": null,
   "metadata": {},
   "outputs": [],
   "source": [
    "!rio info test.tif"
   ]
  },
  {
   "cell_type": "markdown",
   "id": "977735a2-7356-481f-8365-e5ae1a2ebe4f",
   "metadata": {},
   "source": [
    "## Plot first time stamp"
   ]
  },
  {
   "cell_type": "code",
   "execution_count": null,
   "id": "be524b5c-c8d4-43fe-b6da-cfda0e34819d",
   "metadata": {},
   "outputs": [],
   "source": [
    "ds_nodata.isel(time=0).plot(aspect='equal',\n",
    "                              size=5)"
   ]
  },
  {
   "cell_type": "markdown",
   "id": "cd83f732-e215-4fdf-baa8-b9646e9923cf",
   "metadata": {},
   "source": [
    "## Compute differences for stack"
   ]
  },
  {
   "cell_type": "code",
   "execution_count": null,
   "id": "456f5f84-a717-4297-a99f-314e2d682b0c",
   "metadata": {},
   "outputs": [],
   "source": [
    "ds_diff = ds_nodata.diff(dim='time')"
   ]
  },
  {
   "cell_type": "code",
   "execution_count": null,
   "id": "6b99011b",
   "metadata": {},
   "outputs": [],
   "source": [
    "ds_diff.isel(time=0).plot(vmin=-0.05, vmax=0.05, cmap='RdBu')"
   ]
  },
  {
   "cell_type": "markdown",
   "id": "20337ddf",
   "metadata": {},
   "source": [
    "## Apply HPGF to stacked dataset"
   ]
  },
  {
   "cell_type": "code",
   "execution_count": null,
   "id": "d71e07ae-dc93-4c7a-8a7b-b6647375d9cf",
   "metadata": {},
   "outputs": [],
   "source": [
    "sigma = 50\n",
    "ds_diff_smooth0, size = micro.hpgf.gauss_fltr_astropy_fft(ds_diff.isel(time=0).values, sigma = sigma, origmask=True)\n",
    "ds_diff_smooth1, size = micro.hpgf.gauss_fltr_astropy_fft(ds_diff.isel(time=1).values, sigma = sigma, origmask=True)\n",
    "ds_diff_smooth2, size = micro.hpgf.gauss_fltr_astropy_fft(ds_diff.isel(time=2).values, sigma = sigma, origmask=True)\n",
    "# ds_diff_smooth3, size = micro.hpgf.gauss_fltr_astropy_fft(ds_diff.isel(time=3).values, sigma = sigma, origmask=True)\n",
    "# ds_diff_smooth4, size = micro.hpgf.gauss_fltr_astropy_fft(ds_diff.isel(time=4).values, sigma = sigma, origmask=True)\n",
    "# ds_diff_smooth5, size = micro.hpgf.gauss_fltr_astropy_fft(ds_diff.isel(time=5).values, sigma = sigma, origmask=True)"
   ]
  },
  {
   "cell_type": "code",
   "execution_count": null,
   "id": "13be99b9",
   "metadata": {},
   "outputs": [],
   "source": [
    "ds_diff = ds_diff - [ds_diff_smooth0, ds_diff_smooth1, ds_diff_smooth2]#,\\\n",
    "     # ds_diff_smooth3]#, ds_diff_smooth4, ds_diff_smooth5]"
   ]
  },
  {
   "cell_type": "markdown",
   "id": "e24227b6-1407-4c18-ba96-73902d3d7425",
   "metadata": {},
   "source": [
    "## Plot first difference map"
   ]
  },
  {
   "cell_type": "code",
   "execution_count": null,
   "id": "ab8774ec-b4a8-480a-984e-d405cf421baa",
   "metadata": {},
   "outputs": [],
   "source": [
    "fig, ax = plt.subplots(1, 3, figsize=(13,9))\n",
    "\n",
    "ds_extent= ds_diff.rio.bounds()\n",
    "m = ax[0].imshow(ds_diff.isel(time=0), cmap = 'RdBu', vmin=-0.025, vmax=0.025)\n",
    "fig.colorbar(m, label='Elevation (m)', extend='both', ax=ax)\n",
    "\n",
    "ax[0].imshow(ds_diff.isel(time=0), cmap='RdBu', vmin=-0.025, vmax=0.025, extent = ds_extent)\n",
    "ax[0].set_title('KID-13\\n2021-06-04 LiDAR\\n2021-06-04 SfM')\n",
    "ax[0].set_facecolor('k')\n",
    "\n",
    "ax[1].imshow(ds_diff.isel(time=1), cmap='RdBu', vmin=-0.025, vmax=0.025, extent = ds_extent)\n",
    "ax[1].set_title('KID-13\\n2021-06-04 to 2021-08-19\\nSfM')\n",
    "ax[1].set_facecolor('k')\n",
    "\n",
    "ax[2].imshow(ds_diff.isel(time=2), cmap='RdBu', vmin=-0.025, vmax=0.025, extent = ds_extent)\n",
    "ax[2].set_title('KID-13\\n2021-08-19 to 2021-09-13\\nSfM')\n",
    "ax[2].set_facecolor('k')\n",
    "\n",
    "# ax[3].imshow(ds_diff.isel(time=3), cmap='RdBu', vmin=-0.025, vmax=0.025, extent = ds_extent)\n",
    "# ax[3].set_title('KID-13\\n2022-05-03 to 2022-05-31\\nSfM')\n",
    "# ax[3].set_facecolor('k')\n",
    "\n",
    "# ax[4].imshow(ds_diff.isel(time=4), cmap='RdBu', vmin=-0.025, vmax=0.025, extent = ds_extent)\n",
    "# ax[4].set_title('MEL-14\\n2022-04-11 to 2022-04-28\\nSfM')\n",
    "# ax[4].set_facecolor('k')\n",
    "\n",
    "# ax[5].imshow(ds_diff.isel(time=5), cmap='RdBu', vmin=-0.025, vmax=0.025, extent = ds_extent)\n",
    "# ax[5].set_title('MEL-14\\n2022-04-28 to 2022-06-01\\nSfM')\n",
    "# ax[5].set_facecolor('k')"
   ]
  },
  {
   "cell_type": "markdown",
   "id": "519ebbae-b7e9-4327-8144-36688aa095be",
   "metadata": {},
   "source": [
    "## Read shapefile"
   ]
  },
  {
   "cell_type": "code",
   "execution_count": null,
   "id": "56161466-6ca9-44b2-a8ae-378d44312a50",
   "metadata": {},
   "outputs": [],
   "source": [
    "# shapefiles = [x.as_posix() for x in sorted(Path(vector_folder).glob('*.shp'))]\n",
    "# gdf = gpd.read_file(shapefiles[0])"
   ]
  },
  {
   "cell_type": "markdown",
   "id": "9cde01c1-ae5a-47e4-aa58-7c8959f91783",
   "metadata": {},
   "source": [
    "## Plot shapefile"
   ]
  },
  {
   "cell_type": "code",
   "execution_count": null,
   "id": "505d23c8-d404-4c8f-a357-e55474443cc4",
   "metadata": {},
   "outputs": [],
   "source": [
    "# fig,ax = plt.subplots(figsize=(10,10))\n",
    "\n",
    "# ds_diff.isel(time=0).plot(ax=ax,\n",
    "#                           cmap='RdBu',\n",
    "#                           vmin=-0.05,\n",
    "#                           vmax=0.05,\n",
    "#                           )\n",
    "\n",
    "# xlim = ax.get_xlim()\n",
    "# ylim = ax.get_ylim()\n",
    "\n",
    "# gdf.plot(ax=ax, facecolor='none', edgecolor='black')"
   ]
  },
  {
   "cell_type": "markdown",
   "id": "6781c3ac-ff36-4cb3-b45e-dd2e7dc605da",
   "metadata": {},
   "source": [
    "## Clip stack for each geometry"
   ]
  },
  {
   "cell_type": "code",
   "execution_count": null,
   "id": "2ca4d159-b45b-4d3c-aa63-f032e47d1010",
   "metadata": {},
   "outputs": [],
   "source": [
    "# geometry_0 = gpd.GeoDataFrame(gpd.GeoSeries(gdf.iloc[0]['geometry']), columns=['geometry'])\n",
    "# geometry_1 = gpd.GeoDataFrame(gpd.GeoSeries(gdf.iloc[1]['geometry']), columns=['geometry'])"
   ]
  },
  {
   "cell_type": "code",
   "execution_count": null,
   "id": "cc5eb763-b92c-4bbf-8643-71867b0c512a",
   "metadata": {},
   "outputs": [],
   "source": [
    "# ds_diff_clip_geom_0 = ds_diff.rio.clip(geometry_0['geometry'])\n",
    "# ds_diff_clip_geom_1 = ds_diff.rio.clip(geometry_1['geometry'])"
   ]
  },
  {
   "cell_type": "markdown",
   "id": "f14b64a5-2596-44d9-b709-dffe9308f356",
   "metadata": {},
   "source": [
    "## Plot first time step in clipped stack"
   ]
  },
  {
   "cell_type": "code",
   "execution_count": null,
   "id": "ccb33a67-b626-4147-8d7b-8d09df2c8de4",
   "metadata": {},
   "outputs": [],
   "source": [
    "# fig,ax = plt.subplots(figsize=(10,10))\n",
    "\n",
    "# ds_diff_clip_geom_0.isel(time=0).plot(ax=ax,\n",
    "#                                       cmap='RdBu',\n",
    "#                                       vmin=-0.05,\n",
    "#                                       vmax=0.05,\n",
    "#                                       add_colorbar=False,\n",
    "#                                      )\n",
    "\n",
    "# geometry_0.plot(ax=ax, facecolor='none', edgecolor='green')\n",
    "\n",
    "# ds_diff_clip_geom_1.isel(time=0).plot(ax=ax,\n",
    "#                                       cmap='RdBu',\n",
    "#                                       vmin=-0.05,\n",
    "#                                       vmax=0.05,\n",
    "#                                       cbar_kwargs={'extend': 'both'},\n",
    "#                                      )\n",
    "\n",
    "# geometry_1.plot(ax=ax, facecolor='none', edgecolor='purple')\n",
    "\n",
    "# ax.set_xlim(xlim)\n",
    "# ax.set_ylim(ylim);"
   ]
  },
  {
   "cell_type": "markdown",
   "id": "13301cca-a270-468a-a88b-2b537ac9c01e",
   "metadata": {},
   "source": [
    "## Plot time series for mean difference value"
   ]
  },
  {
   "cell_type": "code",
   "execution_count": null,
   "id": "a789a115-fed5-41b6-bae3-6a6a44ef9773",
   "metadata": {},
   "outputs": [],
   "source": [
    "# fig,ax = plt.subplots(figsize=(10,5))\n",
    "# ds_diff_clip_geom_0.mean(dim=['x','y']).plot.scatter(ax=ax,color='green')\n",
    "# ds_diff_clip_geom_1.mean(dim=['x','y']).plot.scatter(ax=ax,color='purple')"
   ]
  },
  {
   "cell_type": "markdown",
   "metadata": {},
   "source": [
    "## Testing other code\n",
    "Will make a new notebook for this soon."
   ]
  },
  {
   "cell_type": "code",
   "execution_count": null,
   "metadata": {},
   "outputs": [],
   "source": [
    "#Functions from Friedrich\n",
    "import numpy as np\n",
    "import pandas as pd\n",
    "import geopandas as gpd\n",
    "from shapely.geometry import Polygon\n",
    "import folium\n",
    "from folium.plugins import Draw\n",
    "import matplotlib\n",
    "import matplotlib.pyplot as plt\n",
    "from matplotlib import colormaps\n",
    "from mpl_toolkits.axes_grid1 import make_axes_locatable\n",
    "from matplotlib.lines import Line2D\n",
    "\n",
    "def select_points_on_map(gdf, \n",
    "                         output_file_name = 'points.geojson'):\n",
    "    \n",
    "    m = gdf.explore(tiles=None,\n",
    "                    style_kwds=dict(fillOpacity=0),\n",
    "                    name=\"polygon\")\n",
    "    \n",
    "    folium.TileLayer(\n",
    "        \"https://mt1.google.com/vt/lyrs=s&x={x}&y={y}&z={z}\",\n",
    "        attr='Google',\n",
    "        opacity=0.8,\n",
    "        name='Google basemap',\n",
    "    ).add_to(m)\n",
    "    \n",
    "\n",
    "    Draw(export=True,\n",
    "         filename=output_file_name,\n",
    "         position = 'topleft').add_to(m)\n",
    "    \n",
    "    folium.LayerControl(collapsed=True).add_to(m)\n",
    "    \n",
    "    minimap = folium.plugins.MiniMap(position=\"bottomleft\",)\n",
    "    m.add_child(minimap)\n",
    "\n",
    "    \n",
    "    return m\n",
    "\n",
    "def extract_linestring_coords(linestring):\n",
    "    \"\"\"\n",
    "    Function to extract x, y coordinates from linestring object\n",
    "    Input:\n",
    "    shapely.geometry.linestring.LineString\n",
    "    Returns:\n",
    "    [x: np.array,y: np.array]\n",
    "    \"\"\"\n",
    "    x = []\n",
    "    y = []\n",
    "    for coords in linestring.coords:\n",
    "        x.append(coords[0])\n",
    "        y.append(coords[1])\n",
    "    return [np.array(x), np.array(y)]"
   ]
  },
  {
   "cell_type": "code",
   "execution_count": null,
   "metadata": {},
   "outputs": [],
   "source": [
    "select_points_on_map(gdf, output_file_name='test.geojson')"
   ]
  },
  {
   "cell_type": "code",
   "execution_count": null,
   "metadata": {},
   "outputs": [],
   "source": [
    "scg_points_gdf = gpd.read_file('../data/test.geojson')\n",
    "scg_points_gdf.explore()\n",
    "\n",
    "extract_linestring_coords(scg_points_gdf.to_crs(ds_nodata.rio.crs)['geometry'][0])"
   ]
  },
  {
   "cell_type": "code",
   "execution_count": null,
   "metadata": {},
   "outputs": [],
   "source": [
    "count_da = ds_nodata.count(axis=0).compute()\n",
    "std_da = ds_nodata.std(axis=0).compute()"
   ]
  },
  {
   "cell_type": "code",
   "execution_count": null,
   "metadata": {},
   "outputs": [],
   "source": []
  }
 ],
 "metadata": {
  "kernelspec": {
   "display_name": "Python 3 (ipykernel)",
   "language": "python",
   "name": "python3"
  },
  "language_info": {
   "codemirror_mode": {
    "name": "ipython",
    "version": 3
   },
   "file_extension": ".py",
   "mimetype": "text/x-python",
   "name": "python",
   "nbconvert_exporter": "python",
   "pygments_lexer": "ipython3",
   "version": "3.12.0"
  }
 },
 "nbformat": 4,
 "nbformat_minor": 5
}
