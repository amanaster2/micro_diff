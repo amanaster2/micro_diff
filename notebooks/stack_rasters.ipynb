{
 "cells": [
  {
   "cell_type": "code",
   "execution_count": null,
   "id": "33ed102d-6a5d-47e8-b18d-7c6d22154c98",
   "metadata": {},
   "outputs": [],
   "source": [
    "%load_ext autoreload\n",
    "%autoreload 2"
   ]
  },
  {
   "cell_type": "code",
   "execution_count": null,
   "id": "08be8b4b-d2ca-4ed8-8d05-e779fa210714",
   "metadata": {},
   "outputs": [],
   "source": [
    "from pathlib import Path\n",
    "import gdown\n",
    "\n",
    "import micro\n",
    "import gtsa"
   ]
  },
  {
   "cell_type": "markdown",
   "id": "f296dc7d-49a0-4777-a7a5-e6032cc5c2a3",
   "metadata": {},
   "source": [
    "## Download sample data"
   ]
  },
  {
   "cell_type": "code",
   "execution_count": null,
   "id": "e2d682f2-b28c-4d69-8570-880821233f95",
   "metadata": {},
   "outputs": [],
   "source": [
    "url = 'https://drive.google.com/drive/folders/1CxLSaQl8VzsGrKUJUVjRUh2yYwWJGNrl'\n",
    "data_folder='../data'\n",
    "quiet = False\n",
    "\n",
    "gdown.download_folder(url, output=data_folder, quiet=quiet, use_cookies=False)"
   ]
  },
  {
   "cell_type": "code",
   "execution_count": null,
   "id": "899472de-2441-490c-9979-de0aa157a358",
   "metadata": {},
   "outputs": [],
   "source": [
    "dsm_files = sorted(Path(data_folder).glob('ws*.tif'))\n",
    "dsm_files = [i.as_posix() for i in dsm_files] # convert from posix path to string"
   ]
  },
  {
   "cell_type": "markdown",
   "id": "433318fc-6c9a-4e32-b39e-fe5a5e3ebbfe",
   "metadata": {},
   "source": [
    "## Command line examples"
   ]
  },
  {
   "cell_type": "code",
   "execution_count": null,
   "id": "6fa32da1-119d-48b7-8e1f-1fa86cbd809f",
   "metadata": {},
   "outputs": [],
   "source": [
    "! create_stack --help\n",
    "# ! create_stack --datadir {data_folder} # use squiggly brackets to access python variabl"
   ]
  },
  {
   "cell_type": "code",
   "execution_count": null,
   "id": "a0f146ef-421b-4ece-b478-d2a49f76e0f5",
   "metadata": {},
   "outputs": [],
   "source": [
    "! gtsa --help"
   ]
  },
  {
   "cell_type": "markdown",
   "id": "201f1e99-fb3b-4bce-9877-b9fece8e35fc",
   "metadata": {},
   "source": [
    "## Python examples\n",
    "\n",
    "- [create_stack](https://github.com/friedrichknuth/gtsa/blob/main/notebooks/processing/01_create_stack.ipynb)\n",
    "- [time_series_computations](https://github.com/friedrichknuth/gtsa/blob/main/notebooks/processing/02_time_series_computations.ipynb)"
   ]
  },
  {
   "cell_type": "code",
   "execution_count": null,
   "id": "9d8c9b83-f412-4e5e-bb7e-11c36dccbab9",
   "metadata": {},
   "outputs": [],
   "source": []
  }
 ],
 "metadata": {
  "kernelspec": {
   "display_name": "Python [conda env:micro]",
   "language": "python",
   "name": "conda-env-micro-py"
  },
  "language_info": {
   "codemirror_mode": {
    "name": "ipython",
    "version": 3
   },
   "file_extension": ".py",
   "mimetype": "text/x-python",
   "name": "python",
   "nbconvert_exporter": "python",
   "pygments_lexer": "ipython3",
   "version": "3.11.3"
  }
 },
 "nbformat": 4,
 "nbformat_minor": 5
}
