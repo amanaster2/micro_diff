{
 "cells": [
  {
   "cell_type": "code",
   "execution_count": null,
   "id": "33ed102d-6a5d-47e8-b18d-7c6d22154c98",
   "metadata": {},
   "outputs": [],
   "source": [
    "%load_ext autoreload\n",
    "%autoreload 2"
   ]
  },
  {
   "cell_type": "code",
   "execution_count": null,
   "id": "08be8b4b-d2ca-4ed8-8d05-e779fa210714",
   "metadata": {},
   "outputs": [],
   "source": [
    "from pathlib import Path\n",
    "import gdown\n",
    "import pandas as pd\n",
    "import geopandas as gpd\n",
    "import matplotlib.pyplot as plt\n",
    "\n",
    "import micro\n",
    "import gtsa"
   ]
  },
  {
   "cell_type": "markdown",
   "id": "f296dc7d-49a0-4777-a7a5-e6032cc5c2a3",
   "metadata": {},
   "source": [
    "## Download sample data"
   ]
  },
  {
   "cell_type": "code",
   "execution_count": null,
   "id": "e2d682f2-b28c-4d69-8570-880821233f95",
   "metadata": {},
   "outputs": [],
   "source": [
    "url = 'https://drive.google.com/drive/folders/1CxLSaQl8VzsGrKUJUVjRUh2yYwWJGNrl'\n",
    "dem_folder='../data/dems'\n",
    "# gdown.download_folder(url, output=dem_folder, quiet=False, use_cookies=False)\n",
    "\n",
    "url = 'https://drive.google.com/drive/folders/1KVlr6hueLEqRIfizw74y0VAR_m9i6jlI'\n",
    "vector_folder='../data/vectors'\n",
    "# gdown.download_folder(url, output=vector_folder, quiet=False, use_cookies=False)"
   ]
  },
  {
   "cell_type": "code",
   "execution_count": null,
   "id": "5a37a38f-7557-4d25-b22d-c904456ee21a",
   "metadata": {},
   "outputs": [],
   "source": [
    "!tree ../data/"
   ]
  },
  {
   "cell_type": "code",
   "execution_count": null,
   "id": "899472de-2441-490c-9979-de0aa157a358",
   "metadata": {},
   "outputs": [],
   "source": [
    "dsm_files = sorted(Path(dem_folder).glob('ws*.tif'))\n",
    "dsm_files = [i.as_posix() for i in dsm_files] # convert from posix path to string"
   ]
  },
  {
   "cell_type": "code",
   "execution_count": null,
   "id": "6bb0915d-d2b2-4935-b48b-ac2025999286",
   "metadata": {},
   "outputs": [],
   "source": [
    "dsm_files"
   ]
  },
  {
   "cell_type": "markdown",
   "id": "9843d07d-0575-4b89-b52f-459eaeadf4fa",
   "metadata": {},
   "source": [
    "## Select analysis ready data\n",
    "- Assuming SfM and lidar collected on the same data are only used for validation of the SfM data\n",
    "- Assuming the lidar is always \"better\" and will thus be used for the quantitative measurements and time series analysis"
   ]
  },
  {
   "cell_type": "code",
   "execution_count": null,
   "id": "164db0d8-ea78-4ac1-a924-0d38f8a600fe",
   "metadata": {},
   "outputs": [],
   "source": [
    "dsm_files = ['../data/dems/wsyr1_20201109_KID13_LiDAR.tif',\n",
    "             # '../data/dems/wsyr1_20201109_KID13_sfm.tif',\n",
    "             '../data/dems/wsyr1_20210208_KID13_sfm.tif',\n",
    "             '../data/dems/wsyr1_20210406_KID13_sfm.tif',\n",
    "             '../data/dems/wsyr1_20210513_KID13_LiDAR.tif',\n",
    "             # '../data/dems/wsyr1_20210513_KID13_sfm.tif',\n",
    "            ]"
   ]
  },
  {
   "cell_type": "markdown",
   "id": "56d26543-bd18-4da3-b543-d9117699e240",
   "metadata": {},
   "source": [
    "## Parse time stamps"
   ]
  },
  {
   "cell_type": "code",
   "execution_count": null,
   "id": "01b1fc60-cfc2-4635-946c-d5e4fa0a8654",
   "metadata": {},
   "outputs": [],
   "source": [
    "strings = gtsa.io.parse_timestamps(dsm_files, date_string_pattern='_........_')\n",
    "date_strings = [x[1:-1] for x in strings]\n",
    "\n",
    "# ensure chronological sorting\n",
    "date_strings, dsm_files = list(zip(*sorted(zip(date_strings, dsm_files))))\n",
    "date_times = [pd.to_datetime(x, format='%Y%m%d') for x in date_strings]"
   ]
  },
  {
   "cell_type": "code",
   "execution_count": null,
   "id": "f3a165aa-f21d-4a88-971f-ea20508036d6",
   "metadata": {},
   "outputs": [],
   "source": [
    "list(zip(date_strings, dsm_files))"
   ]
  },
  {
   "cell_type": "markdown",
   "id": "5d35b92f-d52a-4817-8857-57f9aa74c0ef",
   "metadata": {},
   "source": [
    "## Create stack\n",
    "- resample to reference DEM grid and save as netcdf"
   ]
  },
  {
   "cell_type": "code",
   "execution_count": null,
   "id": "4cce6626-0a97-4d0d-a84b-0b40eb5e7937",
   "metadata": {},
   "outputs": [],
   "source": [
    "reference_dem = dsm_files[0]\n",
    "\n",
    "ds = gtsa.io.xr_stack_geotifs(\n",
    "    dsm_files,\n",
    "    date_times,\n",
    "    reference_dem,\n",
    "    resampling='cubic',\n",
    "    save_to_nc=True,\n",
    "    # nc_out_dir=None,\n",
    "    overwrite=True,\n",
    "    cleanup=False,\n",
    "    verbose=True,\n",
    ")"
   ]
  },
  {
   "cell_type": "markdown",
   "id": "977735a2-7356-481f-8365-e5ae1a2ebe4f",
   "metadata": {},
   "source": [
    "## Plot first time stamp"
   ]
  },
  {
   "cell_type": "code",
   "execution_count": null,
   "id": "be524b5c-c8d4-43fe-b6da-cfda0e34819d",
   "metadata": {},
   "outputs": [],
   "source": [
    "ds['band1'].isel(time=0).plot(aspect='equal', \n",
    "                              size=5)"
   ]
  },
  {
   "cell_type": "markdown",
   "id": "cd83f732-e215-4fdf-baa8-b9646e9923cf",
   "metadata": {},
   "source": [
    "## Compute differences for stack"
   ]
  },
  {
   "cell_type": "code",
   "execution_count": null,
   "id": "456f5f84-a717-4297-a99f-314e2d682b0c",
   "metadata": {},
   "outputs": [],
   "source": [
    "ds_diff = ds['band1'].diff(dim='time')"
   ]
  },
  {
   "cell_type": "markdown",
   "id": "e24227b6-1407-4c18-ba96-73902d3d7425",
   "metadata": {},
   "source": [
    "## Plot first difference map"
   ]
  },
  {
   "cell_type": "code",
   "execution_count": null,
   "id": "ab8774ec-b4a8-480a-984e-d405cf421baa",
   "metadata": {},
   "outputs": [],
   "source": [
    "ds_diff.isel(time=0).plot(cmap='RdBu',\n",
    "                          vmin=-0.1,\n",
    "                          vmax=0.1,\n",
    "                          aspect='equal',\n",
    "                          size=5)"
   ]
  },
  {
   "cell_type": "markdown",
   "id": "519ebbae-b7e9-4327-8144-36688aa095be",
   "metadata": {},
   "source": [
    "## Read shapefile"
   ]
  },
  {
   "cell_type": "code",
   "execution_count": null,
   "id": "56161466-6ca9-44b2-a8ae-378d44312a50",
   "metadata": {},
   "outputs": [],
   "source": [
    "shapefiles = [x.as_posix() for x in sorted(Path(vector_folder).glob('*.shp'))]\n",
    "gdf = gpd.read_file(shapefiles[0])"
   ]
  },
  {
   "cell_type": "markdown",
   "id": "9cde01c1-ae5a-47e4-aa58-7c8959f91783",
   "metadata": {},
   "source": [
    "## Plot shapefile"
   ]
  },
  {
   "cell_type": "code",
   "execution_count": null,
   "id": "505d23c8-d404-4c8f-a357-e55474443cc4",
   "metadata": {},
   "outputs": [],
   "source": [
    "fig,ax = plt.subplots(figsize=(10,10))\n",
    "\n",
    "ds_diff.isel(time=0).plot(ax=ax,\n",
    "                          cmap='RdBu',\n",
    "                          vmin=-0.1,\n",
    "                          vmax=0.1,\n",
    "                          )\n",
    "\n",
    "xlim = ax.get_xlim()\n",
    "ylim = ax.get_ylim()\n",
    "\n",
    "gdf.plot(ax=ax, facecolor='none', edgecolor='black')"
   ]
  },
  {
   "cell_type": "markdown",
   "id": "6781c3ac-ff36-4cb3-b45e-dd2e7dc605da",
   "metadata": {},
   "source": [
    "## Clip stack for each geometry"
   ]
  },
  {
   "cell_type": "code",
   "execution_count": null,
   "id": "2ca4d159-b45b-4d3c-aa63-f032e47d1010",
   "metadata": {},
   "outputs": [],
   "source": [
    "geometry_0 = gpd.GeoDataFrame(gpd.GeoSeries(gdf.iloc[0]['geometry']), columns=['geometry'])\n",
    "geometry_1 = gpd.GeoDataFrame(gpd.GeoSeries(gdf.iloc[1]['geometry']), columns=['geometry'])"
   ]
  },
  {
   "cell_type": "code",
   "execution_count": null,
   "id": "cc5eb763-b92c-4bbf-8643-71867b0c512a",
   "metadata": {},
   "outputs": [],
   "source": [
    "ds_diff_clip_geom_0 = ds_diff.rio.clip(geometry_0['geometry'])\n",
    "ds_diff_clip_geom_1 = ds_diff.rio.clip(geometry_1['geometry'])"
   ]
  },
  {
   "cell_type": "markdown",
   "id": "f14b64a5-2596-44d9-b709-dffe9308f356",
   "metadata": {},
   "source": [
    "## Plot first time step in clipped stack"
   ]
  },
  {
   "cell_type": "code",
   "execution_count": null,
   "id": "ccb33a67-b626-4147-8d7b-8d09df2c8de4",
   "metadata": {},
   "outputs": [],
   "source": [
    "fig,ax = plt.subplots(figsize=(10,10))\n",
    "\n",
    "ds_diff_clip_geom_0.isel(time=0).plot(ax=ax,\n",
    "                                      cmap='RdBu',\n",
    "                                      vmin=-0.1,\n",
    "                                      vmax=0.1,\n",
    "                                      add_colorbar=False,\n",
    "                                     )\n",
    "\n",
    "geometry_0.plot(ax=ax, facecolor='none', edgecolor='green')\n",
    "\n",
    "ds_diff_clip_geom_1.isel(time=0).plot(ax=ax,\n",
    "                                      cmap='RdBu',\n",
    "                                      vmin=-0.1,\n",
    "                                      vmax=0.1,\n",
    "                                      cbar_kwargs={'extend': 'both'},\n",
    "                                     )\n",
    "\n",
    "geometry_1.plot(ax=ax, facecolor='none', edgecolor='purple')\n",
    "\n",
    "ax.set_xlim(xlim)\n",
    "ax.set_ylim(ylim);"
   ]
  },
  {
   "cell_type": "markdown",
   "id": "13301cca-a270-468a-a88b-2b537ac9c01e",
   "metadata": {},
   "source": [
    "## Plot time series for mean difference value"
   ]
  },
  {
   "cell_type": "code",
   "execution_count": null,
   "id": "a789a115-fed5-41b6-bae3-6a6a44ef9773",
   "metadata": {},
   "outputs": [],
   "source": [
    "fig,ax = plt.subplots(figsize=(10,5))\n",
    "ds_diff_clip_geom_0.mean(dim=['x','y']).plot.scatter(ax=ax,color='green')\n",
    "ds_diff_clip_geom_1.mean(dim=['x','y']).plot.scatter(ax=ax,color='purple')"
   ]
  },
  {
   "cell_type": "code",
   "execution_count": null,
   "id": "ab819708-ee4d-4c30-bcba-c0f069e633a1",
   "metadata": {},
   "outputs": [],
   "source": []
  }
 ],
 "metadata": {
  "kernelspec": {
   "display_name": "Python [conda env:micro_diff]",
   "language": "python",
   "name": "conda-env-micro_diff-py"
  },
  "language_info": {
   "codemirror_mode": {
    "name": "ipython",
    "version": 3
   },
   "file_extension": ".py",
   "mimetype": "text/x-python",
   "name": "python",
   "nbconvert_exporter": "python",
   "pygments_lexer": "ipython3",
   "version": "3.11.4"
  }
 },
 "nbformat": 4,
 "nbformat_minor": 5
}
